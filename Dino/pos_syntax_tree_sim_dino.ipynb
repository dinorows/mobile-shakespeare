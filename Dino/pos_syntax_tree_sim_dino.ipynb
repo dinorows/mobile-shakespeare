{
 "cells": [
  {
   "cell_type": "markdown",
   "metadata": {},
   "source": [
    "<div style=\"text-align: right\">Research in NLP, Summer 2022</div>\n",
    "<div style=\"text-align: right\">Dino Konstantopoulos, 12 May 2022</div>"
   ]
  },
  {
   "cell_type": "code",
   "execution_count": null,
   "metadata": {
    "colab": {
     "base_uri": "https://localhost:8080/"
    },
    "executionInfo": {
     "elapsed": 17820,
     "status": "ok",
     "timestamp": 1651780116422,
     "user": {
      "displayName": "XinRu He",
      "userId": "07942384921814832921"
     },
     "user_tz": 240
    },
    "id": "CZAYUYoIvM6G",
    "outputId": "fe05c6e7-0abe-43a3-cc75-a28702e07d04"
   },
   "outputs": [
    {
     "name": "stdout",
     "output_type": "stream",
     "text": [
      "Mounted at /content/gdrive/\n"
     ]
    }
   ],
   "source": [
    "from google.colab import drive\n",
    "drive.mount('/content/gdrive/')"
   ]
  },
  {
   "cell_type": "code",
   "execution_count": null,
   "metadata": {
    "id": "RgolKOZZw6kA"
   },
   "outputs": [],
   "source": [
    "import os\n",
    "os.chdir(\"/content/gdrive/MyDrive/Northeastern Research/sentence_similarity\")"
   ]
  },
  {
   "cell_type": "raw",
   "metadata": {},
   "source": [
    "!pip install deepwalk\n",
    "!pip install zss\n",
    "!pip install benepar"
   ]
  },
  {
   "cell_type": "markdown",
   "metadata": {},
   "source": [
    "Need to install `Rust`!\n",
    "```\n",
    "https://www.rust-lang.org/tools/install\n",
    "```\n",
    "\n",
    "Then upgrade both Transformer and huggingface_hub;\n",
    "```\n",
    "pip install -U transformers\n",
    "pip install -U huggingface_hub\n",
    "```"
   ]
  },
  {
   "cell_type": "code",
   "execution_count": 2,
   "metadata": {},
   "outputs": [
    {
     "name": "stderr",
     "output_type": "stream",
     "text": [
      "d:\\Anaconda3.5.1\\lib\\importlib\\_bootstrap.py:219: RuntimeWarning: numpy.ufunc size changed, may indicate binary incompatibility. Expected 192 from C header, got 216 from PyObject\n",
      "  return f(*args, **kwds)\n",
      "d:\\Anaconda3.5.1\\lib\\importlib\\_bootstrap.py:219: RuntimeWarning: numpy.ufunc size changed, may indicate binary incompatibility. Expected 192 from C header, got 216 from PyObject\n",
      "  return f(*args, **kwds)\n",
      "d:\\Anaconda3.5.1\\lib\\importlib\\_bootstrap.py:219: RuntimeWarning: numpy.ufunc size changed, may indicate binary incompatibility. Expected 192 from C header, got 216 from PyObject\n",
      "  return f(*args, **kwds)\n",
      "d:\\Anaconda3.5.1\\lib\\importlib\\_bootstrap.py:219: RuntimeWarning: numpy.ufunc size changed, may indicate binary incompatibility. Expected 192 from C header, got 216 from PyObject\n",
      "  return f(*args, **kwds)\n"
     ]
    }
   ],
   "source": [
    "from zss import simple_distance, Node\n",
    "import benepar\n",
    "from collections import OrderedDict\n",
    "import pandas as pd\n",
    "from sklearn.metrics.pairwise import cosine_similarity\n",
    "import spacy"
   ]
  },
  {
   "cell_type": "code",
   "execution_count": 3,
   "metadata": {},
   "outputs": [],
   "source": [
    "nlp = spacy.load('en_core_web_sm')"
   ]
  },
  {
   "cell_type": "code",
   "execution_count": 3,
   "metadata": {
    "id": "LbOqNFbPxA8l"
   },
   "outputs": [
    {
     "name": "stderr",
     "output_type": "stream",
     "text": [
      "[nltk_data] Downloading package benepar_en3 to\n",
      "[nltk_data]     C:\\Users\\Dino\\AppData\\Roaming\\nltk_data...\n",
      "[nltk_data]   Package benepar_en3 is already up-to-date!\n"
     ]
    }
   ],
   "source": [
    "benepar.download('benepar_en3')\n",
    "nlp.add_pipe(benepar.BeneparComponent(\"benepar_en3\"))"
   ]
  },
  {
   "cell_type": "markdown",
   "metadata": {},
   "source": [
    "I cannot run the cell below because *someone* forgot to give me the data file!"
   ]
  },
  {
   "cell_type": "code",
   "execution_count": null,
   "metadata": {
    "id": "ojTZ977dxFUK"
   },
   "outputs": [],
   "source": [
    "df = pd.read_csv('train.txt', sep='\\t', \n",
    "                 names=['sentence1', 'sentence2', 'edit distance', 'norm 1', 'norm 2', 'cosine sim', 'label'])"
   ]
  },
  {
   "cell_type": "markdown",
   "metadata": {},
   "source": [
    "So let's run `spacy`'s POS tags instead:"
   ]
  },
  {
   "cell_type": "code",
   "execution_count": 1,
   "metadata": {},
   "outputs": [],
   "source": [
    "import sys, os, re, json\n",
    "from collections import Counter, OrderedDict\n",
    "import itertools\n",
    "from numpy import *"
   ]
  },
  {
   "cell_type": "code",
   "execution_count": 14,
   "metadata": {},
   "outputs": [
    {
     "name": "stdout",
     "output_type": "stream",
     "text": [
      "Apple Apple PROPN NNP nsubj Xxxxx True False\n",
      "is be AUX VBZ aux xx True True\n",
      "looking look VERB VBG ROOT xxxx True False\n",
      "at at ADP IN prep xx True True\n",
      "buying buy VERB VBG pcomp xxxx True False\n",
      "U.K. U.K. PROPN NNP compound X.X. False False\n",
      "startup startup NOUN NN dobj xxxx True False\n",
      "for for ADP IN prep xxx True True\n",
      "$ $ SYM $ quantmod $ False False\n",
      "1 1 NUM CD compound d False False\n",
      "billion billion NUM CD pobj xxxx True False\n",
      "['NNP', 'VBZ', 'VBG', 'IN', 'VBG', 'NNP', 'NN', 'IN', '$', 'CD', 'CD']\n"
     ]
    }
   ],
   "source": [
    "import spacy\n",
    "\n",
    "nlp = spacy.load(\"en_core_web_sm\")\n",
    "doc = nlp(\"Apple is looking at buying U.K. startup for $1 billion\")\n",
    "\n",
    "for token in doc:\n",
    "    print(token.text, token.lemma_, token.pos_, token.tag_, token.dep_,\n",
    "            token.shape_, token.is_alpha, token.is_stop)\n",
    "\n",
    "\n",
    "postags = []\n",
    "for token in doc:\n",
    "    postags.append(token.tag_)\n",
    "print(postags)"
   ]
  },
  {
   "cell_type": "markdown",
   "metadata": {},
   "source": [
    "Every token is assigned a POS Tag in Spacy from the following list:\n",
    "\n",
    "<table style=\"height:625px\" width=\"699\"><tbody><tr><th>POS</th><th>DESCRIPTION</th><th>EXAMPLES</th></tr><tr><td>ADJ</td><td>adjective</td><td>*big, old, green, incomprehensible, first*</td></tr><tr><td>ADP</td><td>adposition</td><td>*in, to, during*</td></tr><tr><td>ADV</td><td>adverb</td><td>*very, tomorrow, down, where, there*</td></tr><tr><td>AUX</td><td>auxiliary</td><td>*is, has (done), will (do), should (do)*</td></tr><tr><td>CONJ</td><td>conjunction</td><td>*and, or, but*</td></tr><tr><td>CCONJ</td><td>coordinating conjunction</td><td>*and, or, but*</td></tr><tr><td>DET</td><td>determiner</td><td>*a, an, the*</td></tr><tr><td>INTJ</td><td>interjection</td><td>*psst, ouch, bravo, hello*</td></tr><tr><td>NOUN</td><td>noun</td><td>*girl, cat, tree, air, beauty*</td></tr><tr><td>NUM</td><td>numeral</td><td>*1, 2017, one, seventy-seven, IV, MMXIV*</td></tr><tr><td>PART</td><td>particle</td><td>*’s, not,*</td></tr><tr><td>PRON</td><td>pronoun</td><td>*I, you, he, she, myself, themselves, somebody*</td></tr><tr><td>PROPN</td><td>proper noun</td><td>*Mary, John, London, NATO, HBO*</td></tr><tr><td>PUNCT</td><td>punctuation</td><td>*., (, ), ?*</td></tr><tr><td>SCONJ</td><td>subordinating conjunction</td><td>*if, while, that*</td></tr><tr><td>SYM</td><td>symbol</td><td>*$, %, §, ©, +, −, ×, ÷, =, :), <img draggable=\"false\" role=\"img\" class=\"emoji\" alt=\"😝\" src=\"https://s.w.org/images/core/emoji/13.0.1/svg/1f61d.svg\">*</td></tr><tr><td>VERB</td><td>verb</td><td>*run, runs, running, eat, ate, eating*</td></tr><tr><td>X</td><td>other</td><td>*sfpksdpsxmsa*</td></tr><tr><td>SPACE</td><td>space</td></tr></tbody></table>"
   ]
  },
  {
   "cell_type": "markdown",
   "metadata": {},
   "source": [
    "Passing the POS token attribute to Doc.count() function which returns a frequency dictionary with key as POS attribute value and its frequency as the value"
   ]
  },
  {
   "cell_type": "code",
   "execution_count": 5,
   "metadata": {},
   "outputs": [
    {
     "name": "stdout",
     "output_type": "stream",
     "text": [
      "{90: 2, 84: 3, 92: 3, 100: 1, 85: 1, 94: 1, 97: 1}\n",
      "  84. ADJ  : 3\n",
      "  85. ADP  : 1\n",
      "  90. DET  : 2\n",
      "  92. NOUN : 3\n",
      "  94. PART : 1\n",
      "  97. PUNCT: 1\n",
      " 100. VERB : 1\n"
     ]
    }
   ],
   "source": [
    "doc = nlp(u\"The quick brown fox jumped over the lazy dog's back.\")\n",
    "\n",
    "# Counting the frequencies of different POS tags:\n",
    "POS_counts = doc.count_by(spacy.attrs.POS)\n",
    "print(POS_counts)\n",
    "\n",
    "for k,v in sorted(POS_counts.items()):\n",
    "    print(f'{k:{4}}. {doc.vocab[k].text:{5}}: {v}')"
   ]
  },
  {
   "cell_type": "markdown",
   "metadata": {},
   "source": [
    "Passing the TAG token attribute to Doc.count() and returning a frequency dictionary with key as TAG attribute value and its frequency as the value"
   ]
  },
  {
   "cell_type": "code",
   "execution_count": 6,
   "metadata": {},
   "outputs": [
    {
     "name": "stdout",
     "output_type": "stream",
     "text": [
      "{15267657372422890137: 2, 10554686591937588953: 3, 15308085513773655218: 3, 17109001835818727656: 1, 1292078113972184607: 1, 74: 1, 12646065887601541794: 1}\n",
      "74. POS : 1\n",
      "1292078113972184607. IN  : 1\n",
      "10554686591937588953. JJ  : 3\n",
      "12646065887601541794. .   : 1\n",
      "15267657372422890137. DT  : 2\n",
      "15308085513773655218. NN  : 3\n",
      "17109001835818727656. VBD : 1\n"
     ]
    }
   ],
   "source": [
    "doc = nlp(u\"The quick brown fox jumped over the lazy dog's back.\")\n",
    "\n",
    "# Counting the frequencies of different fine-grained tags:\n",
    "TAG_counts = doc.count_by(spacy.attrs.TAG)\n",
    "\n",
    "print(TAG_counts)\n",
    "for k,v in sorted(TAG_counts.items()):\n",
    "    print(f'{k}. {doc.vocab[k].text:{4}}: {v}')"
   ]
  },
  {
   "cell_type": "markdown",
   "metadata": {},
   "source": [
    "Visualizing the part-of-speech tags and syntactic dependencies"
   ]
  },
  {
   "cell_type": "code",
   "execution_count": 54,
   "metadata": {},
   "outputs": [
    {
     "name": "stderr",
     "output_type": "stream",
     "text": [
      "d:\\Anaconda3.5.1\\lib\\runpy.py:193: UserWarning: [W011] It looks like you're calling displacy.serve from within a Jupyter notebook or a similar environment. This likely means you're already running a local web server, so there's no need to make displaCy start another one. Instead, you should be able to replace displacy.serve with displacy.render to show the visualization.\n",
      "  \"__main__\", mod_spec)\n"
     ]
    },
    {
     "data": {
      "text/html": [
       "<!DOCTYPE html>\n",
       "<html lang=\"en\">\n",
       "    <head>\n",
       "        <title>displaCy</title>\n",
       "    </head>\n",
       "\n",
       "    <body style=\"font-size: 16px; font-family: -apple-system, BlinkMacSystemFont, 'Segoe UI', Helvetica, Arial, sans-serif, 'Apple Color Emoji', 'Segoe UI Emoji', 'Segoe UI Symbol'; padding: 4rem 2rem; direction: ltr\">\n",
       "<figure style=\"margin-bottom: 6rem\">\n",
       "<svg xmlns=\"http://www.w3.org/2000/svg\" xmlns:xlink=\"http://www.w3.org/1999/xlink\" xml:lang=\"en\" id=\"b38e8f0522454f128b479aad9e7ff9e1-0\" class=\"displacy\" width=\"1975\" height=\"487.0\" direction=\"ltr\" style=\"max-width: none; height: 487.0px; color: #000000; background: #ffffff; font-family: Arial; direction: ltr\">\n",
       "<text class=\"displacy-token\" fill=\"currentColor\" text-anchor=\"middle\" y=\"397.0\">\n",
       "    <tspan class=\"displacy-word\" fill=\"currentColor\" x=\"50\">The</tspan>\n",
       "    <tspan class=\"displacy-tag\" dy=\"2em\" fill=\"currentColor\" x=\"50\">DET</tspan>\n",
       "</text>\n",
       "\n",
       "<text class=\"displacy-token\" fill=\"currentColor\" text-anchor=\"middle\" y=\"397.0\">\n",
       "    <tspan class=\"displacy-word\" fill=\"currentColor\" x=\"225\">quick</tspan>\n",
       "    <tspan class=\"displacy-tag\" dy=\"2em\" fill=\"currentColor\" x=\"225\">ADJ</tspan>\n",
       "</text>\n",
       "\n",
       "<text class=\"displacy-token\" fill=\"currentColor\" text-anchor=\"middle\" y=\"397.0\">\n",
       "    <tspan class=\"displacy-word\" fill=\"currentColor\" x=\"400\">brown</tspan>\n",
       "    <tspan class=\"displacy-tag\" dy=\"2em\" fill=\"currentColor\" x=\"400\">ADJ</tspan>\n",
       "</text>\n",
       "\n",
       "<text class=\"displacy-token\" fill=\"currentColor\" text-anchor=\"middle\" y=\"397.0\">\n",
       "    <tspan class=\"displacy-word\" fill=\"currentColor\" x=\"575\">fox</tspan>\n",
       "    <tspan class=\"displacy-tag\" dy=\"2em\" fill=\"currentColor\" x=\"575\">NOUN</tspan>\n",
       "</text>\n",
       "\n",
       "<text class=\"displacy-token\" fill=\"currentColor\" text-anchor=\"middle\" y=\"397.0\">\n",
       "    <tspan class=\"displacy-word\" fill=\"currentColor\" x=\"750\">jumped</tspan>\n",
       "    <tspan class=\"displacy-tag\" dy=\"2em\" fill=\"currentColor\" x=\"750\">VERB</tspan>\n",
       "</text>\n",
       "\n",
       "<text class=\"displacy-token\" fill=\"currentColor\" text-anchor=\"middle\" y=\"397.0\">\n",
       "    <tspan class=\"displacy-word\" fill=\"currentColor\" x=\"925\">over</tspan>\n",
       "    <tspan class=\"displacy-tag\" dy=\"2em\" fill=\"currentColor\" x=\"925\">ADP</tspan>\n",
       "</text>\n",
       "\n",
       "<text class=\"displacy-token\" fill=\"currentColor\" text-anchor=\"middle\" y=\"397.0\">\n",
       "    <tspan class=\"displacy-word\" fill=\"currentColor\" x=\"1100\">the</tspan>\n",
       "    <tspan class=\"displacy-tag\" dy=\"2em\" fill=\"currentColor\" x=\"1100\">DET</tspan>\n",
       "</text>\n",
       "\n",
       "<text class=\"displacy-token\" fill=\"currentColor\" text-anchor=\"middle\" y=\"397.0\">\n",
       "    <tspan class=\"displacy-word\" fill=\"currentColor\" x=\"1275\">lazy</tspan>\n",
       "    <tspan class=\"displacy-tag\" dy=\"2em\" fill=\"currentColor\" x=\"1275\">ADJ</tspan>\n",
       "</text>\n",
       "\n",
       "<text class=\"displacy-token\" fill=\"currentColor\" text-anchor=\"middle\" y=\"397.0\">\n",
       "    <tspan class=\"displacy-word\" fill=\"currentColor\" x=\"1450\">dog</tspan>\n",
       "    <tspan class=\"displacy-tag\" dy=\"2em\" fill=\"currentColor\" x=\"1450\">NOUN</tspan>\n",
       "</text>\n",
       "\n",
       "<text class=\"displacy-token\" fill=\"currentColor\" text-anchor=\"middle\" y=\"397.0\">\n",
       "    <tspan class=\"displacy-word\" fill=\"currentColor\" x=\"1625\">'s</tspan>\n",
       "    <tspan class=\"displacy-tag\" dy=\"2em\" fill=\"currentColor\" x=\"1625\">PART</tspan>\n",
       "</text>\n",
       "\n",
       "<text class=\"displacy-token\" fill=\"currentColor\" text-anchor=\"middle\" y=\"397.0\">\n",
       "    <tspan class=\"displacy-word\" fill=\"currentColor\" x=\"1800\">back.</tspan>\n",
       "    <tspan class=\"displacy-tag\" dy=\"2em\" fill=\"currentColor\" x=\"1800\">NOUN</tspan>\n",
       "</text>\n",
       "\n",
       "<g class=\"displacy-arrow\">\n",
       "    <path class=\"displacy-arc\" id=\"arrow-b38e8f0522454f128b479aad9e7ff9e1-0-0\" stroke-width=\"2px\" d=\"M70,352.0 C70,89.5 570.0,89.5 570.0,352.0\" fill=\"none\" stroke=\"currentColor\"/>\n",
       "    <text dy=\"1.25em\" style=\"font-size: 0.8em; letter-spacing: 1px\">\n",
       "        <textPath xlink:href=\"#arrow-b38e8f0522454f128b479aad9e7ff9e1-0-0\" class=\"displacy-label\" startOffset=\"50%\" side=\"left\" fill=\"currentColor\" text-anchor=\"middle\">det</textPath>\n",
       "    </text>\n",
       "    <path class=\"displacy-arrowhead\" d=\"M70,354.0 L62,342.0 78,342.0\" fill=\"currentColor\"/>\n",
       "</g>\n",
       "\n",
       "<g class=\"displacy-arrow\">\n",
       "    <path class=\"displacy-arc\" id=\"arrow-b38e8f0522454f128b479aad9e7ff9e1-0-1\" stroke-width=\"2px\" d=\"M245,352.0 C245,177.0 565.0,177.0 565.0,352.0\" fill=\"none\" stroke=\"currentColor\"/>\n",
       "    <text dy=\"1.25em\" style=\"font-size: 0.8em; letter-spacing: 1px\">\n",
       "        <textPath xlink:href=\"#arrow-b38e8f0522454f128b479aad9e7ff9e1-0-1\" class=\"displacy-label\" startOffset=\"50%\" side=\"left\" fill=\"currentColor\" text-anchor=\"middle\">amod</textPath>\n",
       "    </text>\n",
       "    <path class=\"displacy-arrowhead\" d=\"M245,354.0 L237,342.0 253,342.0\" fill=\"currentColor\"/>\n",
       "</g>\n",
       "\n",
       "<g class=\"displacy-arrow\">\n",
       "    <path class=\"displacy-arc\" id=\"arrow-b38e8f0522454f128b479aad9e7ff9e1-0-2\" stroke-width=\"2px\" d=\"M420,352.0 C420,264.5 560.0,264.5 560.0,352.0\" fill=\"none\" stroke=\"currentColor\"/>\n",
       "    <text dy=\"1.25em\" style=\"font-size: 0.8em; letter-spacing: 1px\">\n",
       "        <textPath xlink:href=\"#arrow-b38e8f0522454f128b479aad9e7ff9e1-0-2\" class=\"displacy-label\" startOffset=\"50%\" side=\"left\" fill=\"currentColor\" text-anchor=\"middle\">amod</textPath>\n",
       "    </text>\n",
       "    <path class=\"displacy-arrowhead\" d=\"M420,354.0 L412,342.0 428,342.0\" fill=\"currentColor\"/>\n",
       "</g>\n",
       "\n",
       "<g class=\"displacy-arrow\">\n",
       "    <path class=\"displacy-arc\" id=\"arrow-b38e8f0522454f128b479aad9e7ff9e1-0-3\" stroke-width=\"2px\" d=\"M595,352.0 C595,264.5 735.0,264.5 735.0,352.0\" fill=\"none\" stroke=\"currentColor\"/>\n",
       "    <text dy=\"1.25em\" style=\"font-size: 0.8em; letter-spacing: 1px\">\n",
       "        <textPath xlink:href=\"#arrow-b38e8f0522454f128b479aad9e7ff9e1-0-3\" class=\"displacy-label\" startOffset=\"50%\" side=\"left\" fill=\"currentColor\" text-anchor=\"middle\">nsubj</textPath>\n",
       "    </text>\n",
       "    <path class=\"displacy-arrowhead\" d=\"M595,354.0 L587,342.0 603,342.0\" fill=\"currentColor\"/>\n",
       "</g>\n",
       "\n",
       "<g class=\"displacy-arrow\">\n",
       "    <path class=\"displacy-arc\" id=\"arrow-b38e8f0522454f128b479aad9e7ff9e1-0-4\" stroke-width=\"2px\" d=\"M770,352.0 C770,264.5 910.0,264.5 910.0,352.0\" fill=\"none\" stroke=\"currentColor\"/>\n",
       "    <text dy=\"1.25em\" style=\"font-size: 0.8em; letter-spacing: 1px\">\n",
       "        <textPath xlink:href=\"#arrow-b38e8f0522454f128b479aad9e7ff9e1-0-4\" class=\"displacy-label\" startOffset=\"50%\" side=\"left\" fill=\"currentColor\" text-anchor=\"middle\">prep</textPath>\n",
       "    </text>\n",
       "    <path class=\"displacy-arrowhead\" d=\"M910.0,354.0 L918.0,342.0 902.0,342.0\" fill=\"currentColor\"/>\n",
       "</g>\n",
       "\n",
       "<g class=\"displacy-arrow\">\n",
       "    <path class=\"displacy-arc\" id=\"arrow-b38e8f0522454f128b479aad9e7ff9e1-0-5\" stroke-width=\"2px\" d=\"M1120,352.0 C1120,177.0 1440.0,177.0 1440.0,352.0\" fill=\"none\" stroke=\"currentColor\"/>\n",
       "    <text dy=\"1.25em\" style=\"font-size: 0.8em; letter-spacing: 1px\">\n",
       "        <textPath xlink:href=\"#arrow-b38e8f0522454f128b479aad9e7ff9e1-0-5\" class=\"displacy-label\" startOffset=\"50%\" side=\"left\" fill=\"currentColor\" text-anchor=\"middle\">det</textPath>\n",
       "    </text>\n",
       "    <path class=\"displacy-arrowhead\" d=\"M1120,354.0 L1112,342.0 1128,342.0\" fill=\"currentColor\"/>\n",
       "</g>\n",
       "\n",
       "<g class=\"displacy-arrow\">\n",
       "    <path class=\"displacy-arc\" id=\"arrow-b38e8f0522454f128b479aad9e7ff9e1-0-6\" stroke-width=\"2px\" d=\"M1295,352.0 C1295,264.5 1435.0,264.5 1435.0,352.0\" fill=\"none\" stroke=\"currentColor\"/>\n",
       "    <text dy=\"1.25em\" style=\"font-size: 0.8em; letter-spacing: 1px\">\n",
       "        <textPath xlink:href=\"#arrow-b38e8f0522454f128b479aad9e7ff9e1-0-6\" class=\"displacy-label\" startOffset=\"50%\" side=\"left\" fill=\"currentColor\" text-anchor=\"middle\">amod</textPath>\n",
       "    </text>\n",
       "    <path class=\"displacy-arrowhead\" d=\"M1295,354.0 L1287,342.0 1303,342.0\" fill=\"currentColor\"/>\n",
       "</g>\n",
       "\n",
       "<g class=\"displacy-arrow\">\n",
       "    <path class=\"displacy-arc\" id=\"arrow-b38e8f0522454f128b479aad9e7ff9e1-0-7\" stroke-width=\"2px\" d=\"M1470,352.0 C1470,177.0 1790.0,177.0 1790.0,352.0\" fill=\"none\" stroke=\"currentColor\"/>\n",
       "    <text dy=\"1.25em\" style=\"font-size: 0.8em; letter-spacing: 1px\">\n",
       "        <textPath xlink:href=\"#arrow-b38e8f0522454f128b479aad9e7ff9e1-0-7\" class=\"displacy-label\" startOffset=\"50%\" side=\"left\" fill=\"currentColor\" text-anchor=\"middle\">poss</textPath>\n",
       "    </text>\n",
       "    <path class=\"displacy-arrowhead\" d=\"M1470,354.0 L1462,342.0 1478,342.0\" fill=\"currentColor\"/>\n",
       "</g>\n",
       "\n",
       "<g class=\"displacy-arrow\">\n",
       "    <path class=\"displacy-arc\" id=\"arrow-b38e8f0522454f128b479aad9e7ff9e1-0-8\" stroke-width=\"2px\" d=\"M1470,352.0 C1470,264.5 1610.0,264.5 1610.0,352.0\" fill=\"none\" stroke=\"currentColor\"/>\n",
       "    <text dy=\"1.25em\" style=\"font-size: 0.8em; letter-spacing: 1px\">\n",
       "        <textPath xlink:href=\"#arrow-b38e8f0522454f128b479aad9e7ff9e1-0-8\" class=\"displacy-label\" startOffset=\"50%\" side=\"left\" fill=\"currentColor\" text-anchor=\"middle\">case</textPath>\n",
       "    </text>\n",
       "    <path class=\"displacy-arrowhead\" d=\"M1610.0,354.0 L1618.0,342.0 1602.0,342.0\" fill=\"currentColor\"/>\n",
       "</g>\n",
       "\n",
       "<g class=\"displacy-arrow\">\n",
       "    <path class=\"displacy-arc\" id=\"arrow-b38e8f0522454f128b479aad9e7ff9e1-0-9\" stroke-width=\"2px\" d=\"M945,352.0 C945,2.0 1800.0,2.0 1800.0,352.0\" fill=\"none\" stroke=\"currentColor\"/>\n",
       "    <text dy=\"1.25em\" style=\"font-size: 0.8em; letter-spacing: 1px\">\n",
       "        <textPath xlink:href=\"#arrow-b38e8f0522454f128b479aad9e7ff9e1-0-9\" class=\"displacy-label\" startOffset=\"50%\" side=\"left\" fill=\"currentColor\" text-anchor=\"middle\">pobj</textPath>\n",
       "    </text>\n",
       "    <path class=\"displacy-arrowhead\" d=\"M1800.0,354.0 L1808.0,342.0 1792.0,342.0\" fill=\"currentColor\"/>\n",
       "</g>\n",
       "</svg>\n",
       "</figure>\n",
       "</body>\n",
       "</html>"
      ],
      "text/plain": [
       "<IPython.core.display.HTML object>"
      ]
     },
     "metadata": {},
     "output_type": "display_data"
    },
    {
     "name": "stdout",
     "output_type": "stream",
     "text": [
      "\n",
      "Using the 'dep' visualizer\n",
      "Serving on http://0.0.0.0:5000 ...\n",
      "\n",
      "Shutting down server on port 5000.\n"
     ]
    }
   ],
   "source": [
    "from spacy import displacy\n",
    "\n",
    "doc = nlp(u\"The quick brown fox jumped over the lazy dog's back.\")\n",
    "displacy.serve(doc, style=\"dep\")"
   ]
  },
  {
   "cell_type": "code",
   "execution_count": 8,
   "metadata": {},
   "outputs": [
    {
     "name": "stderr",
     "output_type": "stream",
     "text": [
      "d:\\Anaconda3.5.1\\lib\\runpy.py:193: UserWarning: [W011] It looks like you're calling displacy.serve from within a Jupyter notebook or a similar environment. This likely means you're already running a local web server, so there's no need to make displaCy start another one. Instead, you should be able to replace displacy.serve with displacy.render to show the visualization.\n",
      "  \"__main__\", mod_spec)\n"
     ]
    },
    {
     "data": {
      "text/html": [
       "<!DOCTYPE html>\n",
       "<html lang=\"en\">\n",
       "    <head>\n",
       "        <title>displaCy</title>\n",
       "    </head>\n",
       "\n",
       "    <body style=\"font-size: 16px; font-family: -apple-system, BlinkMacSystemFont, 'Segoe UI', Helvetica, Arial, sans-serif, 'Apple Color Emoji', 'Segoe UI Emoji', 'Segoe UI Symbol'; padding: 4rem 2rem; direction: ltr\">\n",
       "<figure style=\"margin-bottom: 6rem\">\n",
       "<svg xmlns=\"http://www.w3.org/2000/svg\" xmlns:xlink=\"http://www.w3.org/1999/xlink\" xml:lang=\"en\" id=\"33c1d19942b84831844af69da1ea418b-0\" class=\"displacy\" width=\"2850\" height=\"487.0\" direction=\"ltr\" style=\"max-width: none; height: 487.0px; color: #000000; background: #ffffff; font-family: Arial; direction: ltr\">\n",
       "<text class=\"displacy-token\" fill=\"currentColor\" text-anchor=\"middle\" y=\"397.0\">\n",
       "    <tspan class=\"displacy-word\" fill=\"currentColor\" x=\"50\">Life</tspan>\n",
       "    <tspan class=\"displacy-tag\" dy=\"2em\" fill=\"currentColor\" x=\"50\">NOUN</tspan>\n",
       "</text>\n",
       "\n",
       "<text class=\"displacy-token\" fill=\"currentColor\" text-anchor=\"middle\" y=\"397.0\">\n",
       "    <tspan class=\"displacy-word\" fill=\"currentColor\" x=\"225\">is</tspan>\n",
       "    <tspan class=\"displacy-tag\" dy=\"2em\" fill=\"currentColor\" x=\"225\">AUX</tspan>\n",
       "</text>\n",
       "\n",
       "<text class=\"displacy-token\" fill=\"currentColor\" text-anchor=\"middle\" y=\"397.0\">\n",
       "    <tspan class=\"displacy-word\" fill=\"currentColor\" x=\"400\">a</tspan>\n",
       "    <tspan class=\"displacy-tag\" dy=\"2em\" fill=\"currentColor\" x=\"400\">DET</tspan>\n",
       "</text>\n",
       "\n",
       "<text class=\"displacy-token\" fill=\"currentColor\" text-anchor=\"middle\" y=\"397.0\">\n",
       "    <tspan class=\"displacy-word\" fill=\"currentColor\" x=\"575\">beautiful</tspan>\n",
       "    <tspan class=\"displacy-tag\" dy=\"2em\" fill=\"currentColor\" x=\"575\">ADJ</tspan>\n",
       "</text>\n",
       "\n",
       "<text class=\"displacy-token\" fill=\"currentColor\" text-anchor=\"middle\" y=\"397.0\">\n",
       "    <tspan class=\"displacy-word\" fill=\"currentColor\" x=\"750\">journey</tspan>\n",
       "    <tspan class=\"displacy-tag\" dy=\"2em\" fill=\"currentColor\" x=\"750\">NOUN</tspan>\n",
       "</text>\n",
       "\n",
       "<text class=\"displacy-token\" fill=\"currentColor\" text-anchor=\"middle\" y=\"397.0\">\n",
       "    <tspan class=\"displacy-word\" fill=\"currentColor\" x=\"925\">that</tspan>\n",
       "    <tspan class=\"displacy-tag\" dy=\"2em\" fill=\"currentColor\" x=\"925\">DET</tspan>\n",
       "</text>\n",
       "\n",
       "<text class=\"displacy-token\" fill=\"currentColor\" text-anchor=\"middle\" y=\"397.0\">\n",
       "    <tspan class=\"displacy-word\" fill=\"currentColor\" x=\"1100\">is</tspan>\n",
       "    <tspan class=\"displacy-tag\" dy=\"2em\" fill=\"currentColor\" x=\"1100\">AUX</tspan>\n",
       "</text>\n",
       "\n",
       "<text class=\"displacy-token\" fill=\"currentColor\" text-anchor=\"middle\" y=\"397.0\">\n",
       "    <tspan class=\"displacy-word\" fill=\"currentColor\" x=\"1275\">meant</tspan>\n",
       "    <tspan class=\"displacy-tag\" dy=\"2em\" fill=\"currentColor\" x=\"1275\">VERB</tspan>\n",
       "</text>\n",
       "\n",
       "<text class=\"displacy-token\" fill=\"currentColor\" text-anchor=\"middle\" y=\"397.0\">\n",
       "    <tspan class=\"displacy-word\" fill=\"currentColor\" x=\"1450\">to</tspan>\n",
       "    <tspan class=\"displacy-tag\" dy=\"2em\" fill=\"currentColor\" x=\"1450\">PART</tspan>\n",
       "</text>\n",
       "\n",
       "<text class=\"displacy-token\" fill=\"currentColor\" text-anchor=\"middle\" y=\"397.0\">\n",
       "    <tspan class=\"displacy-word\" fill=\"currentColor\" x=\"1625\">be</tspan>\n",
       "    <tspan class=\"displacy-tag\" dy=\"2em\" fill=\"currentColor\" x=\"1625\">AUX</tspan>\n",
       "</text>\n",
       "\n",
       "<text class=\"displacy-token\" fill=\"currentColor\" text-anchor=\"middle\" y=\"397.0\">\n",
       "    <tspan class=\"displacy-word\" fill=\"currentColor\" x=\"1800\">embraced</tspan>\n",
       "    <tspan class=\"displacy-tag\" dy=\"2em\" fill=\"currentColor\" x=\"1800\">VERB</tspan>\n",
       "</text>\n",
       "\n",
       "<text class=\"displacy-token\" fill=\"currentColor\" text-anchor=\"middle\" y=\"397.0\">\n",
       "    <tspan class=\"displacy-word\" fill=\"currentColor\" x=\"1975\">to</tspan>\n",
       "    <tspan class=\"displacy-tag\" dy=\"2em\" fill=\"currentColor\" x=\"1975\">ADP</tspan>\n",
       "</text>\n",
       "\n",
       "<text class=\"displacy-token\" fill=\"currentColor\" text-anchor=\"middle\" y=\"397.0\">\n",
       "    <tspan class=\"displacy-word\" fill=\"currentColor\" x=\"2150\">the</tspan>\n",
       "    <tspan class=\"displacy-tag\" dy=\"2em\" fill=\"currentColor\" x=\"2150\">DET</tspan>\n",
       "</text>\n",
       "\n",
       "<text class=\"displacy-token\" fill=\"currentColor\" text-anchor=\"middle\" y=\"397.0\">\n",
       "    <tspan class=\"displacy-word\" fill=\"currentColor\" x=\"2325\">fullest</tspan>\n",
       "    <tspan class=\"displacy-tag\" dy=\"2em\" fill=\"currentColor\" x=\"2325\">ADJ</tspan>\n",
       "</text>\n",
       "\n",
       "<text class=\"displacy-token\" fill=\"currentColor\" text-anchor=\"middle\" y=\"397.0\">\n",
       "    <tspan class=\"displacy-word\" fill=\"currentColor\" x=\"2500\">every</tspan>\n",
       "    <tspan class=\"displacy-tag\" dy=\"2em\" fill=\"currentColor\" x=\"2500\">DET</tspan>\n",
       "</text>\n",
       "\n",
       "<text class=\"displacy-token\" fill=\"currentColor\" text-anchor=\"middle\" y=\"397.0\">\n",
       "    <tspan class=\"displacy-word\" fill=\"currentColor\" x=\"2675\">day.</tspan>\n",
       "    <tspan class=\"displacy-tag\" dy=\"2em\" fill=\"currentColor\" x=\"2675\">NOUN</tspan>\n",
       "</text>\n",
       "\n",
       "<g class=\"displacy-arrow\">\n",
       "    <path class=\"displacy-arc\" id=\"arrow-33c1d19942b84831844af69da1ea418b-0-0\" stroke-width=\"2px\" d=\"M70,352.0 C70,264.5 210.0,264.5 210.0,352.0\" fill=\"none\" stroke=\"currentColor\"/>\n",
       "    <text dy=\"1.25em\" style=\"font-size: 0.8em; letter-spacing: 1px\">\n",
       "        <textPath xlink:href=\"#arrow-33c1d19942b84831844af69da1ea418b-0-0\" class=\"displacy-label\" startOffset=\"50%\" side=\"left\" fill=\"currentColor\" text-anchor=\"middle\">nsubj</textPath>\n",
       "    </text>\n",
       "    <path class=\"displacy-arrowhead\" d=\"M70,354.0 L62,342.0 78,342.0\" fill=\"currentColor\"/>\n",
       "</g>\n",
       "\n",
       "<g class=\"displacy-arrow\">\n",
       "    <path class=\"displacy-arc\" id=\"arrow-33c1d19942b84831844af69da1ea418b-0-1\" stroke-width=\"2px\" d=\"M420,352.0 C420,177.0 740.0,177.0 740.0,352.0\" fill=\"none\" stroke=\"currentColor\"/>\n",
       "    <text dy=\"1.25em\" style=\"font-size: 0.8em; letter-spacing: 1px\">\n",
       "        <textPath xlink:href=\"#arrow-33c1d19942b84831844af69da1ea418b-0-1\" class=\"displacy-label\" startOffset=\"50%\" side=\"left\" fill=\"currentColor\" text-anchor=\"middle\">det</textPath>\n",
       "    </text>\n",
       "    <path class=\"displacy-arrowhead\" d=\"M420,354.0 L412,342.0 428,342.0\" fill=\"currentColor\"/>\n",
       "</g>\n",
       "\n",
       "<g class=\"displacy-arrow\">\n",
       "    <path class=\"displacy-arc\" id=\"arrow-33c1d19942b84831844af69da1ea418b-0-2\" stroke-width=\"2px\" d=\"M595,352.0 C595,264.5 735.0,264.5 735.0,352.0\" fill=\"none\" stroke=\"currentColor\"/>\n",
       "    <text dy=\"1.25em\" style=\"font-size: 0.8em; letter-spacing: 1px\">\n",
       "        <textPath xlink:href=\"#arrow-33c1d19942b84831844af69da1ea418b-0-2\" class=\"displacy-label\" startOffset=\"50%\" side=\"left\" fill=\"currentColor\" text-anchor=\"middle\">amod</textPath>\n",
       "    </text>\n",
       "    <path class=\"displacy-arrowhead\" d=\"M595,354.0 L587,342.0 603,342.0\" fill=\"currentColor\"/>\n",
       "</g>\n",
       "\n",
       "<g class=\"displacy-arrow\">\n",
       "    <path class=\"displacy-arc\" id=\"arrow-33c1d19942b84831844af69da1ea418b-0-3\" stroke-width=\"2px\" d=\"M245,352.0 C245,89.5 745.0,89.5 745.0,352.0\" fill=\"none\" stroke=\"currentColor\"/>\n",
       "    <text dy=\"1.25em\" style=\"font-size: 0.8em; letter-spacing: 1px\">\n",
       "        <textPath xlink:href=\"#arrow-33c1d19942b84831844af69da1ea418b-0-3\" class=\"displacy-label\" startOffset=\"50%\" side=\"left\" fill=\"currentColor\" text-anchor=\"middle\">attr</textPath>\n",
       "    </text>\n",
       "    <path class=\"displacy-arrowhead\" d=\"M745.0,354.0 L753.0,342.0 737.0,342.0\" fill=\"currentColor\"/>\n",
       "</g>\n",
       "\n",
       "<g class=\"displacy-arrow\">\n",
       "    <path class=\"displacy-arc\" id=\"arrow-33c1d19942b84831844af69da1ea418b-0-4\" stroke-width=\"2px\" d=\"M945,352.0 C945,177.0 1265.0,177.0 1265.0,352.0\" fill=\"none\" stroke=\"currentColor\"/>\n",
       "    <text dy=\"1.25em\" style=\"font-size: 0.8em; letter-spacing: 1px\">\n",
       "        <textPath xlink:href=\"#arrow-33c1d19942b84831844af69da1ea418b-0-4\" class=\"displacy-label\" startOffset=\"50%\" side=\"left\" fill=\"currentColor\" text-anchor=\"middle\">nsubjpass</textPath>\n",
       "    </text>\n",
       "    <path class=\"displacy-arrowhead\" d=\"M945,354.0 L937,342.0 953,342.0\" fill=\"currentColor\"/>\n",
       "</g>\n",
       "\n",
       "<g class=\"displacy-arrow\">\n",
       "    <path class=\"displacy-arc\" id=\"arrow-33c1d19942b84831844af69da1ea418b-0-5\" stroke-width=\"2px\" d=\"M1120,352.0 C1120,264.5 1260.0,264.5 1260.0,352.0\" fill=\"none\" stroke=\"currentColor\"/>\n",
       "    <text dy=\"1.25em\" style=\"font-size: 0.8em; letter-spacing: 1px\">\n",
       "        <textPath xlink:href=\"#arrow-33c1d19942b84831844af69da1ea418b-0-5\" class=\"displacy-label\" startOffset=\"50%\" side=\"left\" fill=\"currentColor\" text-anchor=\"middle\">auxpass</textPath>\n",
       "    </text>\n",
       "    <path class=\"displacy-arrowhead\" d=\"M1120,354.0 L1112,342.0 1128,342.0\" fill=\"currentColor\"/>\n",
       "</g>\n",
       "\n",
       "<g class=\"displacy-arrow\">\n",
       "    <path class=\"displacy-arc\" id=\"arrow-33c1d19942b84831844af69da1ea418b-0-6\" stroke-width=\"2px\" d=\"M770,352.0 C770,89.5 1270.0,89.5 1270.0,352.0\" fill=\"none\" stroke=\"currentColor\"/>\n",
       "    <text dy=\"1.25em\" style=\"font-size: 0.8em; letter-spacing: 1px\">\n",
       "        <textPath xlink:href=\"#arrow-33c1d19942b84831844af69da1ea418b-0-6\" class=\"displacy-label\" startOffset=\"50%\" side=\"left\" fill=\"currentColor\" text-anchor=\"middle\">relcl</textPath>\n",
       "    </text>\n",
       "    <path class=\"displacy-arrowhead\" d=\"M1270.0,354.0 L1278.0,342.0 1262.0,342.0\" fill=\"currentColor\"/>\n",
       "</g>\n",
       "\n",
       "<g class=\"displacy-arrow\">\n",
       "    <path class=\"displacy-arc\" id=\"arrow-33c1d19942b84831844af69da1ea418b-0-7\" stroke-width=\"2px\" d=\"M1470,352.0 C1470,177.0 1790.0,177.0 1790.0,352.0\" fill=\"none\" stroke=\"currentColor\"/>\n",
       "    <text dy=\"1.25em\" style=\"font-size: 0.8em; letter-spacing: 1px\">\n",
       "        <textPath xlink:href=\"#arrow-33c1d19942b84831844af69da1ea418b-0-7\" class=\"displacy-label\" startOffset=\"50%\" side=\"left\" fill=\"currentColor\" text-anchor=\"middle\">aux</textPath>\n",
       "    </text>\n",
       "    <path class=\"displacy-arrowhead\" d=\"M1470,354.0 L1462,342.0 1478,342.0\" fill=\"currentColor\"/>\n",
       "</g>\n",
       "\n",
       "<g class=\"displacy-arrow\">\n",
       "    <path class=\"displacy-arc\" id=\"arrow-33c1d19942b84831844af69da1ea418b-0-8\" stroke-width=\"2px\" d=\"M1645,352.0 C1645,264.5 1785.0,264.5 1785.0,352.0\" fill=\"none\" stroke=\"currentColor\"/>\n",
       "    <text dy=\"1.25em\" style=\"font-size: 0.8em; letter-spacing: 1px\">\n",
       "        <textPath xlink:href=\"#arrow-33c1d19942b84831844af69da1ea418b-0-8\" class=\"displacy-label\" startOffset=\"50%\" side=\"left\" fill=\"currentColor\" text-anchor=\"middle\">auxpass</textPath>\n",
       "    </text>\n",
       "    <path class=\"displacy-arrowhead\" d=\"M1645,354.0 L1637,342.0 1653,342.0\" fill=\"currentColor\"/>\n",
       "</g>\n",
       "\n",
       "<g class=\"displacy-arrow\">\n",
       "    <path class=\"displacy-arc\" id=\"arrow-33c1d19942b84831844af69da1ea418b-0-9\" stroke-width=\"2px\" d=\"M1295,352.0 C1295,89.5 1795.0,89.5 1795.0,352.0\" fill=\"none\" stroke=\"currentColor\"/>\n",
       "    <text dy=\"1.25em\" style=\"font-size: 0.8em; letter-spacing: 1px\">\n",
       "        <textPath xlink:href=\"#arrow-33c1d19942b84831844af69da1ea418b-0-9\" class=\"displacy-label\" startOffset=\"50%\" side=\"left\" fill=\"currentColor\" text-anchor=\"middle\">xcomp</textPath>\n",
       "    </text>\n",
       "    <path class=\"displacy-arrowhead\" d=\"M1795.0,354.0 L1803.0,342.0 1787.0,342.0\" fill=\"currentColor\"/>\n",
       "</g>\n",
       "\n",
       "<g class=\"displacy-arrow\">\n",
       "    <path class=\"displacy-arc\" id=\"arrow-33c1d19942b84831844af69da1ea418b-0-10\" stroke-width=\"2px\" d=\"M1820,352.0 C1820,264.5 1960.0,264.5 1960.0,352.0\" fill=\"none\" stroke=\"currentColor\"/>\n",
       "    <text dy=\"1.25em\" style=\"font-size: 0.8em; letter-spacing: 1px\">\n",
       "        <textPath xlink:href=\"#arrow-33c1d19942b84831844af69da1ea418b-0-10\" class=\"displacy-label\" startOffset=\"50%\" side=\"left\" fill=\"currentColor\" text-anchor=\"middle\">prep</textPath>\n",
       "    </text>\n",
       "    <path class=\"displacy-arrowhead\" d=\"M1960.0,354.0 L1968.0,342.0 1952.0,342.0\" fill=\"currentColor\"/>\n",
       "</g>\n",
       "\n",
       "<g class=\"displacy-arrow\">\n",
       "    <path class=\"displacy-arc\" id=\"arrow-33c1d19942b84831844af69da1ea418b-0-11\" stroke-width=\"2px\" d=\"M2170,352.0 C2170,264.5 2310.0,264.5 2310.0,352.0\" fill=\"none\" stroke=\"currentColor\"/>\n",
       "    <text dy=\"1.25em\" style=\"font-size: 0.8em; letter-spacing: 1px\">\n",
       "        <textPath xlink:href=\"#arrow-33c1d19942b84831844af69da1ea418b-0-11\" class=\"displacy-label\" startOffset=\"50%\" side=\"left\" fill=\"currentColor\" text-anchor=\"middle\">det</textPath>\n",
       "    </text>\n",
       "    <path class=\"displacy-arrowhead\" d=\"M2170,354.0 L2162,342.0 2178,342.0\" fill=\"currentColor\"/>\n",
       "</g>\n",
       "\n",
       "<g class=\"displacy-arrow\">\n",
       "    <path class=\"displacy-arc\" id=\"arrow-33c1d19942b84831844af69da1ea418b-0-12\" stroke-width=\"2px\" d=\"M1995,352.0 C1995,177.0 2315.0,177.0 2315.0,352.0\" fill=\"none\" stroke=\"currentColor\"/>\n",
       "    <text dy=\"1.25em\" style=\"font-size: 0.8em; letter-spacing: 1px\">\n",
       "        <textPath xlink:href=\"#arrow-33c1d19942b84831844af69da1ea418b-0-12\" class=\"displacy-label\" startOffset=\"50%\" side=\"left\" fill=\"currentColor\" text-anchor=\"middle\">pobj</textPath>\n",
       "    </text>\n",
       "    <path class=\"displacy-arrowhead\" d=\"M2315.0,354.0 L2323.0,342.0 2307.0,342.0\" fill=\"currentColor\"/>\n",
       "</g>\n",
       "\n",
       "<g class=\"displacy-arrow\">\n",
       "    <path class=\"displacy-arc\" id=\"arrow-33c1d19942b84831844af69da1ea418b-0-13\" stroke-width=\"2px\" d=\"M2520,352.0 C2520,264.5 2660.0,264.5 2660.0,352.0\" fill=\"none\" stroke=\"currentColor\"/>\n",
       "    <text dy=\"1.25em\" style=\"font-size: 0.8em; letter-spacing: 1px\">\n",
       "        <textPath xlink:href=\"#arrow-33c1d19942b84831844af69da1ea418b-0-13\" class=\"displacy-label\" startOffset=\"50%\" side=\"left\" fill=\"currentColor\" text-anchor=\"middle\">det</textPath>\n",
       "    </text>\n",
       "    <path class=\"displacy-arrowhead\" d=\"M2520,354.0 L2512,342.0 2528,342.0\" fill=\"currentColor\"/>\n",
       "</g>\n",
       "\n",
       "<g class=\"displacy-arrow\">\n",
       "    <path class=\"displacy-arc\" id=\"arrow-33c1d19942b84831844af69da1ea418b-0-14\" stroke-width=\"2px\" d=\"M1820,352.0 C1820,2.0 2675.0,2.0 2675.0,352.0\" fill=\"none\" stroke=\"currentColor\"/>\n",
       "    <text dy=\"1.25em\" style=\"font-size: 0.8em; letter-spacing: 1px\">\n",
       "        <textPath xlink:href=\"#arrow-33c1d19942b84831844af69da1ea418b-0-14\" class=\"displacy-label\" startOffset=\"50%\" side=\"left\" fill=\"currentColor\" text-anchor=\"middle\">npadvmod</textPath>\n",
       "    </text>\n",
       "    <path class=\"displacy-arrowhead\" d=\"M2675.0,354.0 L2683.0,342.0 2667.0,342.0\" fill=\"currentColor\"/>\n",
       "</g>\n",
       "</svg>\n",
       "</figure>\n",
       "\n",
       "<figure style=\"margin-bottom: 6rem\">\n",
       "<svg xmlns=\"http://www.w3.org/2000/svg\" xmlns:xlink=\"http://www.w3.org/1999/xlink\" xml:lang=\"en\" id=\"33c1d19942b84831844af69da1ea418b-1\" class=\"displacy\" width=\"4425\" height=\"662.0\" direction=\"ltr\" style=\"max-width: none; height: 662.0px; color: #000000; background: #ffffff; font-family: Arial; direction: ltr\">\n",
       "<text class=\"displacy-token\" fill=\"currentColor\" text-anchor=\"middle\" y=\"572.0\">\n",
       "    <tspan class=\"displacy-word\" fill=\"currentColor\" x=\"50\">However,</tspan>\n",
       "    <tspan class=\"displacy-tag\" dy=\"2em\" fill=\"currentColor\" x=\"50\">ADV</tspan>\n",
       "</text>\n",
       "\n",
       "<text class=\"displacy-token\" fill=\"currentColor\" text-anchor=\"middle\" y=\"572.0\">\n",
       "    <tspan class=\"displacy-word\" fill=\"currentColor\" x=\"225\">that</tspan>\n",
       "    <tspan class=\"displacy-tag\" dy=\"2em\" fill=\"currentColor\" x=\"225\">DET</tspan>\n",
       "</text>\n",
       "\n",
       "<text class=\"displacy-token\" fill=\"currentColor\" text-anchor=\"middle\" y=\"572.0\">\n",
       "    <tspan class=\"displacy-word\" fill=\"currentColor\" x=\"400\">does</tspan>\n",
       "    <tspan class=\"displacy-tag\" dy=\"2em\" fill=\"currentColor\" x=\"400\">AUX</tspan>\n",
       "</text>\n",
       "\n",
       "<text class=\"displacy-token\" fill=\"currentColor\" text-anchor=\"middle\" y=\"572.0\">\n",
       "    <tspan class=\"displacy-word\" fill=\"currentColor\" x=\"575\">n’t</tspan>\n",
       "    <tspan class=\"displacy-tag\" dy=\"2em\" fill=\"currentColor\" x=\"575\">PART</tspan>\n",
       "</text>\n",
       "\n",
       "<text class=\"displacy-token\" fill=\"currentColor\" text-anchor=\"middle\" y=\"572.0\">\n",
       "    <tspan class=\"displacy-word\" fill=\"currentColor\" x=\"750\">mean</tspan>\n",
       "    <tspan class=\"displacy-tag\" dy=\"2em\" fill=\"currentColor\" x=\"750\">VERB</tspan>\n",
       "</text>\n",
       "\n",
       "<text class=\"displacy-token\" fill=\"currentColor\" text-anchor=\"middle\" y=\"572.0\">\n",
       "    <tspan class=\"displacy-word\" fill=\"currentColor\" x=\"925\">you</tspan>\n",
       "    <tspan class=\"displacy-tag\" dy=\"2em\" fill=\"currentColor\" x=\"925\">PRON</tspan>\n",
       "</text>\n",
       "\n",
       "<text class=\"displacy-token\" fill=\"currentColor\" text-anchor=\"middle\" y=\"572.0\">\n",
       "    <tspan class=\"displacy-word\" fill=\"currentColor\" x=\"1100\">always</tspan>\n",
       "    <tspan class=\"displacy-tag\" dy=\"2em\" fill=\"currentColor\" x=\"1100\">ADV</tspan>\n",
       "</text>\n",
       "\n",
       "<text class=\"displacy-token\" fill=\"currentColor\" text-anchor=\"middle\" y=\"572.0\">\n",
       "    <tspan class=\"displacy-word\" fill=\"currentColor\" x=\"1275\">wake</tspan>\n",
       "    <tspan class=\"displacy-tag\" dy=\"2em\" fill=\"currentColor\" x=\"1275\">VERB</tspan>\n",
       "</text>\n",
       "\n",
       "<text class=\"displacy-token\" fill=\"currentColor\" text-anchor=\"middle\" y=\"572.0\">\n",
       "    <tspan class=\"displacy-word\" fill=\"currentColor\" x=\"1450\">up</tspan>\n",
       "    <tspan class=\"displacy-tag\" dy=\"2em\" fill=\"currentColor\" x=\"1450\">ADP</tspan>\n",
       "</text>\n",
       "\n",
       "<text class=\"displacy-token\" fill=\"currentColor\" text-anchor=\"middle\" y=\"572.0\">\n",
       "    <tspan class=\"displacy-word\" fill=\"currentColor\" x=\"1625\">ready</tspan>\n",
       "    <tspan class=\"displacy-tag\" dy=\"2em\" fill=\"currentColor\" x=\"1625\">ADJ</tspan>\n",
       "</text>\n",
       "\n",
       "<text class=\"displacy-token\" fill=\"currentColor\" text-anchor=\"middle\" y=\"572.0\">\n",
       "    <tspan class=\"displacy-word\" fill=\"currentColor\" x=\"1800\">to</tspan>\n",
       "    <tspan class=\"displacy-tag\" dy=\"2em\" fill=\"currentColor\" x=\"1800\">PART</tspan>\n",
       "</text>\n",
       "\n",
       "<text class=\"displacy-token\" fill=\"currentColor\" text-anchor=\"middle\" y=\"572.0\">\n",
       "    <tspan class=\"displacy-word\" fill=\"currentColor\" x=\"1975\">seize</tspan>\n",
       "    <tspan class=\"displacy-tag\" dy=\"2em\" fill=\"currentColor\" x=\"1975\">VERB</tspan>\n",
       "</text>\n",
       "\n",
       "<text class=\"displacy-token\" fill=\"currentColor\" text-anchor=\"middle\" y=\"572.0\">\n",
       "    <tspan class=\"displacy-word\" fill=\"currentColor\" x=\"2150\">the</tspan>\n",
       "    <tspan class=\"displacy-tag\" dy=\"2em\" fill=\"currentColor\" x=\"2150\">DET</tspan>\n",
       "</text>\n",
       "\n",
       "<text class=\"displacy-token\" fill=\"currentColor\" text-anchor=\"middle\" y=\"572.0\">\n",
       "    <tspan class=\"displacy-word\" fill=\"currentColor\" x=\"2325\">day,</tspan>\n",
       "    <tspan class=\"displacy-tag\" dy=\"2em\" fill=\"currentColor\" x=\"2325\">NOUN</tspan>\n",
       "</text>\n",
       "\n",
       "<text class=\"displacy-token\" fill=\"currentColor\" text-anchor=\"middle\" y=\"572.0\">\n",
       "    <tspan class=\"displacy-word\" fill=\"currentColor\" x=\"2500\">and</tspan>\n",
       "    <tspan class=\"displacy-tag\" dy=\"2em\" fill=\"currentColor\" x=\"2500\">CCONJ</tspan>\n",
       "</text>\n",
       "\n",
       "<text class=\"displacy-token\" fill=\"currentColor\" text-anchor=\"middle\" y=\"572.0\">\n",
       "    <tspan class=\"displacy-word\" fill=\"currentColor\" x=\"2675\">sometimes</tspan>\n",
       "    <tspan class=\"displacy-tag\" dy=\"2em\" fill=\"currentColor\" x=\"2675\">ADV</tspan>\n",
       "</text>\n",
       "\n",
       "<text class=\"displacy-token\" fill=\"currentColor\" text-anchor=\"middle\" y=\"572.0\">\n",
       "    <tspan class=\"displacy-word\" fill=\"currentColor\" x=\"2850\">need</tspan>\n",
       "    <tspan class=\"displacy-tag\" dy=\"2em\" fill=\"currentColor\" x=\"2850\">VERB</tspan>\n",
       "</text>\n",
       "\n",
       "<text class=\"displacy-token\" fill=\"currentColor\" text-anchor=\"middle\" y=\"572.0\">\n",
       "    <tspan class=\"displacy-word\" fill=\"currentColor\" x=\"3025\">a</tspan>\n",
       "    <tspan class=\"displacy-tag\" dy=\"2em\" fill=\"currentColor\" x=\"3025\">DET</tspan>\n",
       "</text>\n",
       "\n",
       "<text class=\"displacy-token\" fill=\"currentColor\" text-anchor=\"middle\" y=\"572.0\">\n",
       "    <tspan class=\"displacy-word\" fill=\"currentColor\" x=\"3200\">reminder</tspan>\n",
       "    <tspan class=\"displacy-tag\" dy=\"2em\" fill=\"currentColor\" x=\"3200\">NOUN</tspan>\n",
       "</text>\n",
       "\n",
       "<text class=\"displacy-token\" fill=\"currentColor\" text-anchor=\"middle\" y=\"572.0\">\n",
       "    <tspan class=\"displacy-word\" fill=\"currentColor\" x=\"3375\">that</tspan>\n",
       "    <tspan class=\"displacy-tag\" dy=\"2em\" fill=\"currentColor\" x=\"3375\">SCONJ</tspan>\n",
       "</text>\n",
       "\n",
       "<text class=\"displacy-token\" fill=\"currentColor\" text-anchor=\"middle\" y=\"572.0\">\n",
       "    <tspan class=\"displacy-word\" fill=\"currentColor\" x=\"3550\">life</tspan>\n",
       "    <tspan class=\"displacy-tag\" dy=\"2em\" fill=\"currentColor\" x=\"3550\">NOUN</tspan>\n",
       "</text>\n",
       "\n",
       "<text class=\"displacy-token\" fill=\"currentColor\" text-anchor=\"middle\" y=\"572.0\">\n",
       "    <tspan class=\"displacy-word\" fill=\"currentColor\" x=\"3725\">is</tspan>\n",
       "    <tspan class=\"displacy-tag\" dy=\"2em\" fill=\"currentColor\" x=\"3725\">AUX</tspan>\n",
       "</text>\n",
       "\n",
       "<text class=\"displacy-token\" fill=\"currentColor\" text-anchor=\"middle\" y=\"572.0\">\n",
       "    <tspan class=\"displacy-word\" fill=\"currentColor\" x=\"3900\">a</tspan>\n",
       "    <tspan class=\"displacy-tag\" dy=\"2em\" fill=\"currentColor\" x=\"3900\">DET</tspan>\n",
       "</text>\n",
       "\n",
       "<text class=\"displacy-token\" fill=\"currentColor\" text-anchor=\"middle\" y=\"572.0\">\n",
       "    <tspan class=\"displacy-word\" fill=\"currentColor\" x=\"4075\">great</tspan>\n",
       "    <tspan class=\"displacy-tag\" dy=\"2em\" fill=\"currentColor\" x=\"4075\">ADJ</tspan>\n",
       "</text>\n",
       "\n",
       "<text class=\"displacy-token\" fill=\"currentColor\" text-anchor=\"middle\" y=\"572.0\">\n",
       "    <tspan class=\"displacy-word\" fill=\"currentColor\" x=\"4250\">gift.</tspan>\n",
       "    <tspan class=\"displacy-tag\" dy=\"2em\" fill=\"currentColor\" x=\"4250\">NOUN</tspan>\n",
       "</text>\n",
       "\n",
       "<g class=\"displacy-arrow\">\n",
       "    <path class=\"displacy-arc\" id=\"arrow-33c1d19942b84831844af69da1ea418b-1-0\" stroke-width=\"2px\" d=\"M70,527.0 C70,177.0 740.0,177.0 740.0,527.0\" fill=\"none\" stroke=\"currentColor\"/>\n",
       "    <text dy=\"1.25em\" style=\"font-size: 0.8em; letter-spacing: 1px\">\n",
       "        <textPath xlink:href=\"#arrow-33c1d19942b84831844af69da1ea418b-1-0\" class=\"displacy-label\" startOffset=\"50%\" side=\"left\" fill=\"currentColor\" text-anchor=\"middle\">advmod</textPath>\n",
       "    </text>\n",
       "    <path class=\"displacy-arrowhead\" d=\"M70,529.0 L62,517.0 78,517.0\" fill=\"currentColor\"/>\n",
       "</g>\n",
       "\n",
       "<g class=\"displacy-arrow\">\n",
       "    <path class=\"displacy-arc\" id=\"arrow-33c1d19942b84831844af69da1ea418b-1-1\" stroke-width=\"2px\" d=\"M245,527.0 C245,264.5 735.0,264.5 735.0,527.0\" fill=\"none\" stroke=\"currentColor\"/>\n",
       "    <text dy=\"1.25em\" style=\"font-size: 0.8em; letter-spacing: 1px\">\n",
       "        <textPath xlink:href=\"#arrow-33c1d19942b84831844af69da1ea418b-1-1\" class=\"displacy-label\" startOffset=\"50%\" side=\"left\" fill=\"currentColor\" text-anchor=\"middle\">nsubj</textPath>\n",
       "    </text>\n",
       "    <path class=\"displacy-arrowhead\" d=\"M245,529.0 L237,517.0 253,517.0\" fill=\"currentColor\"/>\n",
       "</g>\n",
       "\n",
       "<g class=\"displacy-arrow\">\n",
       "    <path class=\"displacy-arc\" id=\"arrow-33c1d19942b84831844af69da1ea418b-1-2\" stroke-width=\"2px\" d=\"M420,527.0 C420,352.0 730.0,352.0 730.0,527.0\" fill=\"none\" stroke=\"currentColor\"/>\n",
       "    <text dy=\"1.25em\" style=\"font-size: 0.8em; letter-spacing: 1px\">\n",
       "        <textPath xlink:href=\"#arrow-33c1d19942b84831844af69da1ea418b-1-2\" class=\"displacy-label\" startOffset=\"50%\" side=\"left\" fill=\"currentColor\" text-anchor=\"middle\">aux</textPath>\n",
       "    </text>\n",
       "    <path class=\"displacy-arrowhead\" d=\"M420,529.0 L412,517.0 428,517.0\" fill=\"currentColor\"/>\n",
       "</g>\n",
       "\n",
       "<g class=\"displacy-arrow\">\n",
       "    <path class=\"displacy-arc\" id=\"arrow-33c1d19942b84831844af69da1ea418b-1-3\" stroke-width=\"2px\" d=\"M595,527.0 C595,439.5 725.0,439.5 725.0,527.0\" fill=\"none\" stroke=\"currentColor\"/>\n",
       "    <text dy=\"1.25em\" style=\"font-size: 0.8em; letter-spacing: 1px\">\n",
       "        <textPath xlink:href=\"#arrow-33c1d19942b84831844af69da1ea418b-1-3\" class=\"displacy-label\" startOffset=\"50%\" side=\"left\" fill=\"currentColor\" text-anchor=\"middle\">neg</textPath>\n",
       "    </text>\n",
       "    <path class=\"displacy-arrowhead\" d=\"M595,529.0 L587,517.0 603,517.0\" fill=\"currentColor\"/>\n",
       "</g>\n",
       "\n",
       "<g class=\"displacy-arrow\">\n",
       "    <path class=\"displacy-arc\" id=\"arrow-33c1d19942b84831844af69da1ea418b-1-4\" stroke-width=\"2px\" d=\"M945,527.0 C945,352.0 1255.0,352.0 1255.0,527.0\" fill=\"none\" stroke=\"currentColor\"/>\n",
       "    <text dy=\"1.25em\" style=\"font-size: 0.8em; letter-spacing: 1px\">\n",
       "        <textPath xlink:href=\"#arrow-33c1d19942b84831844af69da1ea418b-1-4\" class=\"displacy-label\" startOffset=\"50%\" side=\"left\" fill=\"currentColor\" text-anchor=\"middle\">nsubj</textPath>\n",
       "    </text>\n",
       "    <path class=\"displacy-arrowhead\" d=\"M945,529.0 L937,517.0 953,517.0\" fill=\"currentColor\"/>\n",
       "</g>\n",
       "\n",
       "<g class=\"displacy-arrow\">\n",
       "    <path class=\"displacy-arc\" id=\"arrow-33c1d19942b84831844af69da1ea418b-1-5\" stroke-width=\"2px\" d=\"M1120,527.0 C1120,439.5 1250.0,439.5 1250.0,527.0\" fill=\"none\" stroke=\"currentColor\"/>\n",
       "    <text dy=\"1.25em\" style=\"font-size: 0.8em; letter-spacing: 1px\">\n",
       "        <textPath xlink:href=\"#arrow-33c1d19942b84831844af69da1ea418b-1-5\" class=\"displacy-label\" startOffset=\"50%\" side=\"left\" fill=\"currentColor\" text-anchor=\"middle\">advmod</textPath>\n",
       "    </text>\n",
       "    <path class=\"displacy-arrowhead\" d=\"M1120,529.0 L1112,517.0 1128,517.0\" fill=\"currentColor\"/>\n",
       "</g>\n",
       "\n",
       "<g class=\"displacy-arrow\">\n",
       "    <path class=\"displacy-arc\" id=\"arrow-33c1d19942b84831844af69da1ea418b-1-6\" stroke-width=\"2px\" d=\"M770,527.0 C770,264.5 1260.0,264.5 1260.0,527.0\" fill=\"none\" stroke=\"currentColor\"/>\n",
       "    <text dy=\"1.25em\" style=\"font-size: 0.8em; letter-spacing: 1px\">\n",
       "        <textPath xlink:href=\"#arrow-33c1d19942b84831844af69da1ea418b-1-6\" class=\"displacy-label\" startOffset=\"50%\" side=\"left\" fill=\"currentColor\" text-anchor=\"middle\">ccomp</textPath>\n",
       "    </text>\n",
       "    <path class=\"displacy-arrowhead\" d=\"M1260.0,529.0 L1268.0,517.0 1252.0,517.0\" fill=\"currentColor\"/>\n",
       "</g>\n",
       "\n",
       "<g class=\"displacy-arrow\">\n",
       "    <path class=\"displacy-arc\" id=\"arrow-33c1d19942b84831844af69da1ea418b-1-7\" stroke-width=\"2px\" d=\"M1295,527.0 C1295,439.5 1425.0,439.5 1425.0,527.0\" fill=\"none\" stroke=\"currentColor\"/>\n",
       "    <text dy=\"1.25em\" style=\"font-size: 0.8em; letter-spacing: 1px\">\n",
       "        <textPath xlink:href=\"#arrow-33c1d19942b84831844af69da1ea418b-1-7\" class=\"displacy-label\" startOffset=\"50%\" side=\"left\" fill=\"currentColor\" text-anchor=\"middle\">prt</textPath>\n",
       "    </text>\n",
       "    <path class=\"displacy-arrowhead\" d=\"M1425.0,529.0 L1433.0,517.0 1417.0,517.0\" fill=\"currentColor\"/>\n",
       "</g>\n",
       "\n",
       "<g class=\"displacy-arrow\">\n",
       "    <path class=\"displacy-arc\" id=\"arrow-33c1d19942b84831844af69da1ea418b-1-8\" stroke-width=\"2px\" d=\"M1295,527.0 C1295,352.0 1605.0,352.0 1605.0,527.0\" fill=\"none\" stroke=\"currentColor\"/>\n",
       "    <text dy=\"1.25em\" style=\"font-size: 0.8em; letter-spacing: 1px\">\n",
       "        <textPath xlink:href=\"#arrow-33c1d19942b84831844af69da1ea418b-1-8\" class=\"displacy-label\" startOffset=\"50%\" side=\"left\" fill=\"currentColor\" text-anchor=\"middle\">advcl</textPath>\n",
       "    </text>\n",
       "    <path class=\"displacy-arrowhead\" d=\"M1605.0,529.0 L1613.0,517.0 1597.0,517.0\" fill=\"currentColor\"/>\n",
       "</g>\n",
       "\n",
       "<g class=\"displacy-arrow\">\n",
       "    <path class=\"displacy-arc\" id=\"arrow-33c1d19942b84831844af69da1ea418b-1-9\" stroke-width=\"2px\" d=\"M1820,527.0 C1820,439.5 1950.0,439.5 1950.0,527.0\" fill=\"none\" stroke=\"currentColor\"/>\n",
       "    <text dy=\"1.25em\" style=\"font-size: 0.8em; letter-spacing: 1px\">\n",
       "        <textPath xlink:href=\"#arrow-33c1d19942b84831844af69da1ea418b-1-9\" class=\"displacy-label\" startOffset=\"50%\" side=\"left\" fill=\"currentColor\" text-anchor=\"middle\">aux</textPath>\n",
       "    </text>\n",
       "    <path class=\"displacy-arrowhead\" d=\"M1820,529.0 L1812,517.0 1828,517.0\" fill=\"currentColor\"/>\n",
       "</g>\n",
       "\n",
       "<g class=\"displacy-arrow\">\n",
       "    <path class=\"displacy-arc\" id=\"arrow-33c1d19942b84831844af69da1ea418b-1-10\" stroke-width=\"2px\" d=\"M1645,527.0 C1645,352.0 1955.0,352.0 1955.0,527.0\" fill=\"none\" stroke=\"currentColor\"/>\n",
       "    <text dy=\"1.25em\" style=\"font-size: 0.8em; letter-spacing: 1px\">\n",
       "        <textPath xlink:href=\"#arrow-33c1d19942b84831844af69da1ea418b-1-10\" class=\"displacy-label\" startOffset=\"50%\" side=\"left\" fill=\"currentColor\" text-anchor=\"middle\">xcomp</textPath>\n",
       "    </text>\n",
       "    <path class=\"displacy-arrowhead\" d=\"M1955.0,529.0 L1963.0,517.0 1947.0,517.0\" fill=\"currentColor\"/>\n",
       "</g>\n",
       "\n",
       "<g class=\"displacy-arrow\">\n",
       "    <path class=\"displacy-arc\" id=\"arrow-33c1d19942b84831844af69da1ea418b-1-11\" stroke-width=\"2px\" d=\"M2170,527.0 C2170,439.5 2300.0,439.5 2300.0,527.0\" fill=\"none\" stroke=\"currentColor\"/>\n",
       "    <text dy=\"1.25em\" style=\"font-size: 0.8em; letter-spacing: 1px\">\n",
       "        <textPath xlink:href=\"#arrow-33c1d19942b84831844af69da1ea418b-1-11\" class=\"displacy-label\" startOffset=\"50%\" side=\"left\" fill=\"currentColor\" text-anchor=\"middle\">det</textPath>\n",
       "    </text>\n",
       "    <path class=\"displacy-arrowhead\" d=\"M2170,529.0 L2162,517.0 2178,517.0\" fill=\"currentColor\"/>\n",
       "</g>\n",
       "\n",
       "<g class=\"displacy-arrow\">\n",
       "    <path class=\"displacy-arc\" id=\"arrow-33c1d19942b84831844af69da1ea418b-1-12\" stroke-width=\"2px\" d=\"M1995,527.0 C1995,352.0 2305.0,352.0 2305.0,527.0\" fill=\"none\" stroke=\"currentColor\"/>\n",
       "    <text dy=\"1.25em\" style=\"font-size: 0.8em; letter-spacing: 1px\">\n",
       "        <textPath xlink:href=\"#arrow-33c1d19942b84831844af69da1ea418b-1-12\" class=\"displacy-label\" startOffset=\"50%\" side=\"left\" fill=\"currentColor\" text-anchor=\"middle\">dobj</textPath>\n",
       "    </text>\n",
       "    <path class=\"displacy-arrowhead\" d=\"M2305.0,529.0 L2313.0,517.0 2297.0,517.0\" fill=\"currentColor\"/>\n",
       "</g>\n",
       "\n",
       "<g class=\"displacy-arrow\">\n",
       "    <path class=\"displacy-arc\" id=\"arrow-33c1d19942b84831844af69da1ea418b-1-13\" stroke-width=\"2px\" d=\"M1295,527.0 C1295,89.5 2495.0,89.5 2495.0,527.0\" fill=\"none\" stroke=\"currentColor\"/>\n",
       "    <text dy=\"1.25em\" style=\"font-size: 0.8em; letter-spacing: 1px\">\n",
       "        <textPath xlink:href=\"#arrow-33c1d19942b84831844af69da1ea418b-1-13\" class=\"displacy-label\" startOffset=\"50%\" side=\"left\" fill=\"currentColor\" text-anchor=\"middle\">cc</textPath>\n",
       "    </text>\n",
       "    <path class=\"displacy-arrowhead\" d=\"M2495.0,529.0 L2503.0,517.0 2487.0,517.0\" fill=\"currentColor\"/>\n",
       "</g>\n",
       "\n",
       "<g class=\"displacy-arrow\">\n",
       "    <path class=\"displacy-arc\" id=\"arrow-33c1d19942b84831844af69da1ea418b-1-14\" stroke-width=\"2px\" d=\"M2695,527.0 C2695,439.5 2825.0,439.5 2825.0,527.0\" fill=\"none\" stroke=\"currentColor\"/>\n",
       "    <text dy=\"1.25em\" style=\"font-size: 0.8em; letter-spacing: 1px\">\n",
       "        <textPath xlink:href=\"#arrow-33c1d19942b84831844af69da1ea418b-1-14\" class=\"displacy-label\" startOffset=\"50%\" side=\"left\" fill=\"currentColor\" text-anchor=\"middle\">advmod</textPath>\n",
       "    </text>\n",
       "    <path class=\"displacy-arrowhead\" d=\"M2695,529.0 L2687,517.0 2703,517.0\" fill=\"currentColor\"/>\n",
       "</g>\n",
       "\n",
       "<g class=\"displacy-arrow\">\n",
       "    <path class=\"displacy-arc\" id=\"arrow-33c1d19942b84831844af69da1ea418b-1-15\" stroke-width=\"2px\" d=\"M1295,527.0 C1295,2.0 2850.0,2.0 2850.0,527.0\" fill=\"none\" stroke=\"currentColor\"/>\n",
       "    <text dy=\"1.25em\" style=\"font-size: 0.8em; letter-spacing: 1px\">\n",
       "        <textPath xlink:href=\"#arrow-33c1d19942b84831844af69da1ea418b-1-15\" class=\"displacy-label\" startOffset=\"50%\" side=\"left\" fill=\"currentColor\" text-anchor=\"middle\">conj</textPath>\n",
       "    </text>\n",
       "    <path class=\"displacy-arrowhead\" d=\"M2850.0,529.0 L2858.0,517.0 2842.0,517.0\" fill=\"currentColor\"/>\n",
       "</g>\n",
       "\n",
       "<g class=\"displacy-arrow\">\n",
       "    <path class=\"displacy-arc\" id=\"arrow-33c1d19942b84831844af69da1ea418b-1-16\" stroke-width=\"2px\" d=\"M3045,527.0 C3045,439.5 3175.0,439.5 3175.0,527.0\" fill=\"none\" stroke=\"currentColor\"/>\n",
       "    <text dy=\"1.25em\" style=\"font-size: 0.8em; letter-spacing: 1px\">\n",
       "        <textPath xlink:href=\"#arrow-33c1d19942b84831844af69da1ea418b-1-16\" class=\"displacy-label\" startOffset=\"50%\" side=\"left\" fill=\"currentColor\" text-anchor=\"middle\">det</textPath>\n",
       "    </text>\n",
       "    <path class=\"displacy-arrowhead\" d=\"M3045,529.0 L3037,517.0 3053,517.0\" fill=\"currentColor\"/>\n",
       "</g>\n",
       "\n",
       "<g class=\"displacy-arrow\">\n",
       "    <path class=\"displacy-arc\" id=\"arrow-33c1d19942b84831844af69da1ea418b-1-17\" stroke-width=\"2px\" d=\"M2870,527.0 C2870,352.0 3180.0,352.0 3180.0,527.0\" fill=\"none\" stroke=\"currentColor\"/>\n",
       "    <text dy=\"1.25em\" style=\"font-size: 0.8em; letter-spacing: 1px\">\n",
       "        <textPath xlink:href=\"#arrow-33c1d19942b84831844af69da1ea418b-1-17\" class=\"displacy-label\" startOffset=\"50%\" side=\"left\" fill=\"currentColor\" text-anchor=\"middle\">dobj</textPath>\n",
       "    </text>\n",
       "    <path class=\"displacy-arrowhead\" d=\"M3180.0,529.0 L3188.0,517.0 3172.0,517.0\" fill=\"currentColor\"/>\n",
       "</g>\n",
       "\n",
       "<g class=\"displacy-arrow\">\n",
       "    <path class=\"displacy-arc\" id=\"arrow-33c1d19942b84831844af69da1ea418b-1-18\" stroke-width=\"2px\" d=\"M3395,527.0 C3395,352.0 3705.0,352.0 3705.0,527.0\" fill=\"none\" stroke=\"currentColor\"/>\n",
       "    <text dy=\"1.25em\" style=\"font-size: 0.8em; letter-spacing: 1px\">\n",
       "        <textPath xlink:href=\"#arrow-33c1d19942b84831844af69da1ea418b-1-18\" class=\"displacy-label\" startOffset=\"50%\" side=\"left\" fill=\"currentColor\" text-anchor=\"middle\">mark</textPath>\n",
       "    </text>\n",
       "    <path class=\"displacy-arrowhead\" d=\"M3395,529.0 L3387,517.0 3403,517.0\" fill=\"currentColor\"/>\n",
       "</g>\n",
       "\n",
       "<g class=\"displacy-arrow\">\n",
       "    <path class=\"displacy-arc\" id=\"arrow-33c1d19942b84831844af69da1ea418b-1-19\" stroke-width=\"2px\" d=\"M3570,527.0 C3570,439.5 3700.0,439.5 3700.0,527.0\" fill=\"none\" stroke=\"currentColor\"/>\n",
       "    <text dy=\"1.25em\" style=\"font-size: 0.8em; letter-spacing: 1px\">\n",
       "        <textPath xlink:href=\"#arrow-33c1d19942b84831844af69da1ea418b-1-19\" class=\"displacy-label\" startOffset=\"50%\" side=\"left\" fill=\"currentColor\" text-anchor=\"middle\">nsubj</textPath>\n",
       "    </text>\n",
       "    <path class=\"displacy-arrowhead\" d=\"M3570,529.0 L3562,517.0 3578,517.0\" fill=\"currentColor\"/>\n",
       "</g>\n",
       "\n",
       "<g class=\"displacy-arrow\">\n",
       "    <path class=\"displacy-arc\" id=\"arrow-33c1d19942b84831844af69da1ea418b-1-20\" stroke-width=\"2px\" d=\"M3220,527.0 C3220,264.5 3710.0,264.5 3710.0,527.0\" fill=\"none\" stroke=\"currentColor\"/>\n",
       "    <text dy=\"1.25em\" style=\"font-size: 0.8em; letter-spacing: 1px\">\n",
       "        <textPath xlink:href=\"#arrow-33c1d19942b84831844af69da1ea418b-1-20\" class=\"displacy-label\" startOffset=\"50%\" side=\"left\" fill=\"currentColor\" text-anchor=\"middle\">acl</textPath>\n",
       "    </text>\n",
       "    <path class=\"displacy-arrowhead\" d=\"M3710.0,529.0 L3718.0,517.0 3702.0,517.0\" fill=\"currentColor\"/>\n",
       "</g>\n",
       "\n",
       "<g class=\"displacy-arrow\">\n",
       "    <path class=\"displacy-arc\" id=\"arrow-33c1d19942b84831844af69da1ea418b-1-21\" stroke-width=\"2px\" d=\"M3920,527.0 C3920,352.0 4230.0,352.0 4230.0,527.0\" fill=\"none\" stroke=\"currentColor\"/>\n",
       "    <text dy=\"1.25em\" style=\"font-size: 0.8em; letter-spacing: 1px\">\n",
       "        <textPath xlink:href=\"#arrow-33c1d19942b84831844af69da1ea418b-1-21\" class=\"displacy-label\" startOffset=\"50%\" side=\"left\" fill=\"currentColor\" text-anchor=\"middle\">det</textPath>\n",
       "    </text>\n",
       "    <path class=\"displacy-arrowhead\" d=\"M3920,529.0 L3912,517.0 3928,517.0\" fill=\"currentColor\"/>\n",
       "</g>\n",
       "\n",
       "<g class=\"displacy-arrow\">\n",
       "    <path class=\"displacy-arc\" id=\"arrow-33c1d19942b84831844af69da1ea418b-1-22\" stroke-width=\"2px\" d=\"M4095,527.0 C4095,439.5 4225.0,439.5 4225.0,527.0\" fill=\"none\" stroke=\"currentColor\"/>\n",
       "    <text dy=\"1.25em\" style=\"font-size: 0.8em; letter-spacing: 1px\">\n",
       "        <textPath xlink:href=\"#arrow-33c1d19942b84831844af69da1ea418b-1-22\" class=\"displacy-label\" startOffset=\"50%\" side=\"left\" fill=\"currentColor\" text-anchor=\"middle\">amod</textPath>\n",
       "    </text>\n",
       "    <path class=\"displacy-arrowhead\" d=\"M4095,529.0 L4087,517.0 4103,517.0\" fill=\"currentColor\"/>\n",
       "</g>\n",
       "\n",
       "<g class=\"displacy-arrow\">\n",
       "    <path class=\"displacy-arc\" id=\"arrow-33c1d19942b84831844af69da1ea418b-1-23\" stroke-width=\"2px\" d=\"M3745,527.0 C3745,264.5 4235.0,264.5 4235.0,527.0\" fill=\"none\" stroke=\"currentColor\"/>\n",
       "    <text dy=\"1.25em\" style=\"font-size: 0.8em; letter-spacing: 1px\">\n",
       "        <textPath xlink:href=\"#arrow-33c1d19942b84831844af69da1ea418b-1-23\" class=\"displacy-label\" startOffset=\"50%\" side=\"left\" fill=\"currentColor\" text-anchor=\"middle\">attr</textPath>\n",
       "    </text>\n",
       "    <path class=\"displacy-arrowhead\" d=\"M4235.0,529.0 L4243.0,517.0 4227.0,517.0\" fill=\"currentColor\"/>\n",
       "</g>\n",
       "</svg>\n",
       "</figure>\n",
       "</body>\n",
       "</html>"
      ],
      "text/plain": [
       "<IPython.core.display.HTML object>"
      ]
     },
     "metadata": {},
     "output_type": "display_data"
    },
    {
     "name": "stdout",
     "output_type": "stream",
     "text": [
      "\n",
      "Using the 'dep' visualizer\n",
      "Serving on http://0.0.0.0:5000 ...\n",
      "\n",
      "Shutting down server on port 5000.\n"
     ]
    }
   ],
   "source": [
    "nlp = spacy.load(\"en_core_web_sm\")\n",
    "text = \"Life is a beautiful journey that is meant to be embraced to the fullest every day.However, that doesn’t mean you always wake up ready to seize the day, and sometimes need a reminder that life is a great gift.\"\n",
    "doc = nlp(text)\n",
    "sentence_spans = list(doc.sents)\n",
    "displacy.serve(sentence_spans, style=\"dep\")"
   ]
  },
  {
   "cell_type": "markdown",
   "metadata": {},
   "source": [
    "Caring only about the POS tags and not about sentence structure:"
   ]
  },
  {
   "cell_type": "code",
   "execution_count": 56,
   "metadata": {},
   "outputs": [],
   "source": [
    "def pos_lists(s1, s2):\n",
    "    \n",
    "    doc1 = nlp(s1)\n",
    "    doc2 = nlp(s2)\n",
    "\n",
    "    postags1 = []\n",
    "    for token in doc1:\n",
    "        postags1.append(token.tag_)\n",
    "\n",
    "    postags2 = []\n",
    "    for token in doc2:\n",
    "        postags2.append(token.tag_)\n",
    "\n",
    "    return postags1, postags2"
   ]
  },
  {
   "cell_type": "code",
   "execution_count": 57,
   "metadata": {},
   "outputs": [
    {
     "data": {
      "text/plain": [
       "(['PRP', 'MD', 'VB', 'DT', 'NN', 'IN', 'NN'],\n",
       " ['PRP', 'MD', 'RB', 'VB', 'DT', 'NN', 'IN', 'NN', 'RB'])"
      ]
     },
     "execution_count": 57,
     "metadata": {},
     "output_type": "execute_result"
    }
   ],
   "source": [
    "pos_lists(\"I would like a cup of tea\", \"I would also like a cup of tea too\")"
   ]
  },
  {
   "cell_type": "code",
   "execution_count": 58,
   "metadata": {},
   "outputs": [
    {
     "data": {
      "text/plain": [
       "(['PRP', 'MD', 'VB', 'DT', 'NN', 'IN', 'NN'],\n",
       " ['PRP', 'DT', 'MD', 'RB', 'RB', 'IN', 'DT', 'UH', 'UH', 'UH', '.'])"
      ]
     },
     "execution_count": 58,
     "metadata": {},
     "output_type": "execute_result"
    }
   ],
   "source": [
    "pos_lists(\"I would like a cup of tea\", \"They all would very much like some blah blah blah ...\")"
   ]
  },
  {
   "cell_type": "code",
   "execution_count": 59,
   "metadata": {},
   "outputs": [
    {
     "data": {
      "text/plain": [
       "(['PRP', 'MD', 'VB', 'DT', 'NN', 'IN', 'NN'],\n",
       " ['PRP',\n",
       "  ',',\n",
       "  'VBG',\n",
       "  'TO',\n",
       "  'VB',\n",
       "  'PRP$',\n",
       "  'NN',\n",
       "  ',',\n",
       "  'MD',\n",
       "  'RB',\n",
       "  'VB',\n",
       "  'DT',\n",
       "  'NN',\n",
       "  'IN',\n",
       "  'NN'])"
      ]
     },
     "execution_count": 59,
     "metadata": {},
     "output_type": "execute_result"
    }
   ],
   "source": [
    "pos_lists( \"I would like a cup of tea\", \"I, wanting to quench my thirst, would also like a cup of tea\")"
   ]
  },
  {
   "cell_type": "code",
   "execution_count": 60,
   "metadata": {},
   "outputs": [
    {
     "data": {
      "text/plain": [
       "(['VB', 'PRP$', 'NNS', ':', 'DT', 'JJ', 'NNS'],\n",
       " ['CC',\n",
       "  'IN',\n",
       "  'PRP',\n",
       "  'VB',\n",
       "  'VBN',\n",
       "  'DT',\n",
       "  'NN',\n",
       "  'TO',\n",
       "  'VB',\n",
       "  ',',\n",
       "  'VB',\n",
       "  'PRP',\n",
       "  'VB',\n",
       "  ',',\n",
       "  'VB',\n",
       "  'PRP',\n",
       "  'VB',\n",
       "  ',',\n",
       "  'VB',\n",
       "  'PRP',\n",
       "  'VB'])"
      ]
     },
     "execution_count": 60,
     "metadata": {},
     "output_type": "execute_result"
    }
   ],
   "source": [
    "pos_lists(\"Read my lips: No new taxes\", \"And since we've got no place to go, let it snow, let it snow, let it snow\")"
   ]
  },
  {
   "cell_type": "markdown",
   "metadata": {},
   "source": [
    "\"*Distance*\" between comparable sentences using a shallow tree structure:"
   ]
  },
  {
   "cell_type": "code",
   "execution_count": 61,
   "metadata": {},
   "outputs": [],
   "source": [
    "from zss import simple_distance, Node\n",
    "\n",
    "def distance(s1, s2):\n",
    "    \n",
    "    doc1 = nlp(s1)\n",
    "    doc2 = nlp(s2)\n",
    "\n",
    "    postags1 = []\n",
    "    for token in doc1:\n",
    "        postags1.append(token.tag_)\n",
    "\n",
    "    postags2 = []\n",
    "    for token in doc2:\n",
    "        postags2.append(token.tag_)\n",
    "\n",
    "    #return postags1, postags2\n",
    "    \n",
    "    #A = (\n",
    "    #Node(\"f\")\n",
    "    #    .addkid(Node(\"a\")\n",
    "    #        .addkid(Node(\"h\"))\n",
    "    #        .addkid(Node(\"c\")\n",
    "    #            .addkid(Node(\"l\"))))\n",
    "    #    .addkid(Node(\"e\"))\n",
    "    #)\n",
    "    \n",
    "    A = Node(\"f\")\n",
    "    for p in postags1:\n",
    "        A = A.addkid(Node(p))\n",
    "        \n",
    "    B = Node(\"f\")\n",
    "    for p in postags2:\n",
    "        B = B.addkid(Node(p))\n",
    "        \n",
    "    return simple_distance(A, B)"
   ]
  },
  {
   "cell_type": "code",
   "execution_count": 62,
   "metadata": {},
   "outputs": [
    {
     "data": {
      "text/plain": [
       "(['PRP', 'MD', 'VB', 'DT', 'NN', 'IN', 'NN'],\n",
       " ['PRP', 'MD', 'VB', 'DT', 'NN', 'IN', 'NN'])"
      ]
     },
     "execution_count": 62,
     "metadata": {},
     "output_type": "execute_result"
    }
   ],
   "source": [
    "pos_lists(\"I would like a cup of tea\", \"I would like a cup of coke\")"
   ]
  },
  {
   "cell_type": "code",
   "execution_count": 63,
   "metadata": {},
   "outputs": [
    {
     "data": {
      "text/plain": [
       "0.0"
      ]
     },
     "execution_count": 63,
     "metadata": {},
     "output_type": "execute_result"
    }
   ],
   "source": [
    "distance(\"I would like a cup of tea\", \"I would like a cup of coke\")"
   ]
  },
  {
   "cell_type": "code",
   "execution_count": 64,
   "metadata": {},
   "outputs": [
    {
     "data": {
      "text/plain": [
       "2.0"
      ]
     },
     "execution_count": 64,
     "metadata": {},
     "output_type": "execute_result"
    }
   ],
   "source": [
    "distance(\"I would like a cup of tea\", \"I would also like a cup of tea too\")"
   ]
  },
  {
   "cell_type": "code",
   "execution_count": 65,
   "metadata": {},
   "outputs": [
    {
     "data": {
      "text/plain": [
       "8.0"
      ]
     },
     "execution_count": 65,
     "metadata": {},
     "output_type": "execute_result"
    }
   ],
   "source": [
    "distance(\"I would like a cup of tea\", \"They all would very much like some blah blah blah ...\")"
   ]
  },
  {
   "cell_type": "code",
   "execution_count": 66,
   "metadata": {},
   "outputs": [
    {
     "data": {
      "text/plain": [
       "20.0"
      ]
     },
     "execution_count": 66,
     "metadata": {},
     "output_type": "execute_result"
    }
   ],
   "source": [
    "distance(\"Read my lips: No new taxes\", \"And since we've got no place to go, let it snow, let it snow, let it snow\")"
   ]
  },
  {
   "cell_type": "markdown",
   "metadata": {},
   "source": [
    "# Semantics"
   ]
  },
  {
   "cell_type": "code",
   "execution_count": 1,
   "metadata": {},
   "outputs": [],
   "source": [
    "from sentence_transformers import SentenceTransformer\n",
    "model = SentenceTransformer('stsb-roberta-large')"
   ]
  },
  {
   "cell_type": "markdown",
   "metadata": {},
   "source": [
    "The raw data:"
   ]
  },
  {
   "cell_type": "code",
   "execution_count": 2,
   "metadata": {},
   "outputs": [],
   "source": [
    "raw = [\n",
    " 'Water Nozzles & Hose Adapters\\n',\n",
    " 'I love to see a girl having fun with produce.\\n',\n",
    " 'We present sexy twinks XXX movies!\\n',\n",
    " 'right on your computer screen.\\n',\n",
    " 'and it works just like the Pay-Per-View on your\\n',\n",
    " 'thousands of other adult movies that are on-line.\\n',\n",
    " 'Copyright 1998- Sexycatlive.com, All Rights\\n',\n",
    " 'donations and also help spread the word about this organization on to your friends and family.\\n',\n",
    " '2011-12-06 - URBANLOOK - NEW FACE FOR FASHION\\n',\n",
    " '\\xc2\\xa9 Sunset Chevrolet Buick GMC.\\n',\n",
    " 'Car Dealer Website Powered by Liquid Motors\\n',\n",
    " 'Possibly related posts: (automatically generated)\\n',\n",
    " 'The Andaman Sea - Most of the diving off the western flank of the isthmus is based around the southern beach resorts of Phuket, Krabi, and Ko Phi Phi.\\n',\n",
    " 'The three-dives-in-a-day outings include the triad of Shark Point, Anemone Reef, and the Ko Phi Phi National Marine Park and prove most popular.\\n',\n",
    " 'Teeming with schools of reef fish in every stripe and hue, \"Shark Point\" is the most often visited site in the area and was named after the leopard sharks often spotted on the sea floor.\\n',\n",
    " 'FOR MORE INFORMATION PLEASE VISIT THE TOURISM AUTHORITY OF THAILAND\\n',\n",
    " 'How to Release Stress - Meditation Classes\\n',\n",
    " \"There are different things that you'll notice while meditating:\\xc3\\x82\\xc2\\xa0 anxiety, irritability and other negative emotions will be diminished.\\n\",\n",
    " \"You'll feel better and centered.\\n\",\n",
    " 'The first word, \"B\\'reisheit\" instructs us that we should be looking for the \"reisheit\" that is \"in\" the Torah.\\n',\n",
    " 'Of every jot, tittle, letter, word, phrase, sentence, verse, narrative, portion, and book, the Torah instructs us to inquiring of it, \"what does this have to do with the \"reisheit,\" the first word of the Torah.\\n',\n",
    " \"Listen, my son, to your father's instruction and do not forsake your mother's Torah.\\n\",\n",
    " 'February 19, 2009 at 12:21 am\\n',\n",
    " 'What HaShem gave to Moshe was the Tablets, The Torah, and the Commandment for their instruction.\\n',\n",
    " 'The \"Commandment\" for their instruction refers to the understanding of each mitzvah of \"The Torah\" and the \"Tablets.\"\\n',\n",
    " 'This understanding was not written down.\\n',\n",
    " 'It is the glory of G-d to conceal a matter; to search out a matter is the glory of kings .\\n',\n",
    " 'Bringing non-sucky advice to beautiful people like YOU since 2011!\\n',\n",
    " 'Assassin\\'s Creed Brotherhood Ezio Costume - Completed finally finished my assassins creed brotherhood: \"wetland ebony\" version of...\\n',\n",
    " 'VVBC: SEXY COSTUME CONTEST PROMO CLIP - VBConline.Tv\\n',\n",
    " 'Free WordPress Themes | Free Web Space\\n',\n",
    " 'Carolina Tar Heel Blue \" UNC Football The Blog For All UNC Sports Fans Carolina Football Recruiting Class It shows on ESPN that the Tarheels have the 25th best recruiting class in the nation.\\n',\n",
    " 'Might not sound that great, but compared to the schools in front of it, I\\xe2\\x80\\x99d say its an accompolishment.\\xc2\\xa0According to ESPN, Carolina has signed on two ESPN 150 players.\\n',\n",
    " \"Of their 21 signings 5 are four star players and More > UNC Football Turnovers Dash UNC Hopes in 31-30 Meineke Bowl Loss to WVa Recap of West Virginia's 31-30 bowl game victory over UNC, courtesy of UNC's two fourth-quarter turnovers.\\n\",\n",
    " 'ACC Football UNC Athletics UNC Football ACC Big East Big East Football Meineke Car Care Bowl UNC West Virginia West Virginia Football Excitement Builds for UNC - WVA Bowl Game Preview of the UNC - WVA bowl game taking place on Saturday, Dec.\\n',\n",
    " 'North Carolina looks to take the next step in advancing from a lower-tier ACC team to a perennial contender.\\n',\n",
    " 'UNC Athletics UNC Football ACC Football Big East Football Bill Stewart Butch Davis UNC West Virginia Football\\n',\n",
    " 'The hottest glamour babes on the internet!\\n',\n",
    " 'Check out what our friends at Art Lingerie sent us this morning.....\\n',\n",
    " 'This hot little brunette out in the woods wearing nothing but sexy white stockings and high heels....\\n',\n",
    " 'Why is that defenseless women half naked in the woods always turn us on?\\n',\n",
    " 'If you say you believe, yet you will not follow Jesus, you, in fact,\\n',\n",
    " 'BECAUSE OF UNBELIEF THEY WERE BROKEN OFF (they were cut off from\\n',\n",
    " 'We are to SERVE THE LORD WITH FEAR, AND REJOICE WITH TREMBLING .\\n',\n",
    " 'the Lord, and are you working for Him?\\n',\n",
    " 'These Scriptures are showing us how to\\n',\n",
    " 'MAN IS HE THAT FEARETH THE LORD?\\n',\n",
    " 'HIM SHALL HE TEACH IN THE WAY THAT HE SHALL\\n',\n",
    " 'We see this in several instances, such\\n',\n",
    " \"Indeed, God's wrath may come upon us if we do not humble ourselves\\n\",\n",
    " 'then we can know (have complete faith) that our prayer is answered; it is as\\n',\n",
    " 'We must study the Bible and act on it.\\n',\n",
    " 'This should be the first priority\\n',\n",
    " 'in your Bible for the entire time.\\n',\n",
    " \"Study God's Word, pray, and fast for at least\\n\",\n",
    " 'THE CHILD WAS CURED FROM THAT VERY HOUR.\\n',\n",
    " 'THEN CAME THE DISCIPLES TO JESUS APART,\\n',\n",
    " 'It cannot be done \"your\" way.\\n',\n",
    " 'MOREOVER WHEN YE FAST, BE NOT, AS THE HYPOCRITES, OF A SAD COUNTENANCE:\\n',\n",
    " 'If we do not do this, our prayers will\\n',\n",
    " 'We only need to study parts of it,\" is not faith.\\n',\n",
    " 'these things\"; the Tribulation?\\n',\n",
    " 'You are called to live a holy life.\\n',\n",
    " 'We can ask God to hinder Satan from interfering in letting them make their\\n',\n",
    " 'God says, LET YOUR SPEECH BE ALWAY WITH GRACE, SEASONED WITH SALT,\\n',\n",
    " 'SERPENTS, AND HARMLESS AS DOVES-Mt 10:16.\\n',\n",
    " 'AND HE SAITH UNTO THEM, FOLLOW ME,\\n',\n",
    " 'Our words have no power to convict anyone of anything.\\n',\n",
    " \"not teach directly in line with God's Word , find one that\\n\",\n",
    " 'FOR YE ARE LIKE UNTO WHITED SEPULCHRES, WHICH INDEED APPEAR BEAUTIFUL\\n',\n",
    " 'Many are the religious leaders of today that are included, just\\n',\n",
    " 'ME WITH STRENGTH IN MY SOUL-Ps 138:3.\\n',\n",
    " 'SAVE THY PEOPLE, AND BLESS THINE INHERITANCE: FEED THEM ALSO,\\n',\n",
    " \"You should act on God's Word and believe you have received even as\\n\",\n",
    " 'PRAYED FOR THEM, THAT THEY MIGHT RECEIVE THE HOLY GHOST-Acts 8:15.\\n',\n",
    " 'THAT WE MAY LEAD A QUIET AND PEACEABLE LIFE IN ALL GODLINESS AND HONESTY.\\n',\n",
    " 'THING THAT THEY SHALL ASK, IT SHALL BE DONE FOR THEM OF MY FATHER WHICH IS IN\\n',\n",
    " 'IF HE WILL NOT HEAR THEE, THEN TAKE WITH THEE ONE OR TWO MORE, THAT IN THE MOUTH\\n',\n",
    " 'OF TWO OR THREE WITNESSES EVERY WORD MAY BE ESTABLISHED.\\n',\n",
    " 'falls on Jesus, as you are doing it to Him?\\n',\n",
    " 'YEA, THINE OWN LIPS TESTIFY AGAINST THEE-Job 15:4-6.\\n',\n",
    " 'THOU ART SNARED WITH THE WORDS OF THY MOUTH ,\\n',\n",
    " 'MURDERS, ADULTERIES, FORNICATIONS, THEFTS, FALSE WITNESS, BLASPHEMIES-Mt 15:18,19.\\n',\n",
    " 'AND WE TURN ABOUT THEIR WHOLE BODY.\\n',\n",
    " 'BEHOLD ALSO THE SHIPS, WHICH THOUGH THEY\\n',\n",
    " 'All our good works, all our labors are in vain if we do not go\\n',\n",
    " \"you want your prayers answered, you must be in God's will; you must be living\\n\",\n",
    " 'In the Ten Commandments we read, THOU SHALT NOT TAKE THE NAME\\n',\n",
    " 'The Bible shows us, if you love Me you will keep My commandments -ref\\n',\n",
    " 'This entry was posted in Being an Expat .\\n',\n",
    " 'In as little as a few minutes you can learn how much money you can get in your possession to handle problematic bills when you get started on your auto title loan.\\n',\n",
    " \"When you've been turned down for a loan elsewhere, you'll see a car title loan in Santa Monica is the way to go.\\n\",\n",
    " \"With this sort of minimal requirements, you don't have to leap through hoops.\\n\",\n",
    " 'A car title loan allows you to relax and not have financial difficulties on your mind.\\n',\n",
    " 'Four Cups....of milk??!!: Pesachim 99b\\n',\n",
    " 'Daven for your Beautiful Esrog TODAY!!!\\n',\n",
    " 'Ethics of the Fathers: Chapter 4 Mishnah 6 (1-3)\\n',\n",
    " 'SUMMARY: Ethics of the Fathers: Chapter 4 7 (1-4)\\n',\n",
    " 'Involve Yourself With Torah (Avoid Your Yetzer Hara)\\n',\n",
    " 'Righteousness, righteousness you shall pursue!!\\n',\n",
    " \"Don't Say Hashem was Guilty of transgressing Bal Talin\\n\",\n",
    " 'Why the repetition we get the point already!!!\\n',\n",
    " 'Yirmiyah 43-48 and living in Egypt\\n',\n",
    " 'Archives: View Previous Newsletters\\n',\n",
    " 'Have you seen the style of facebook groups?\\n',\n",
    " 'You can now add a 200\\xc3\\x97800 px banner that reflects your group.\\n',\n",
    " 'Here is the one I made for our German Spouses in the US Military Group.\\n',\n",
    " 'And here is a similar one for your timeline.\\n',\n",
    " 'If you are a German Spouse of a Military service... read more \"\\n',\n",
    " 'Coming out of the Closet The Fossil Key Per Tote\\n',\n",
    " 'Vanilla Easter Braid Bread - Osterzopf\\n',\n",
    " '\"For me, there are two principle differences - the approach and the aftermath.\\n',\n",
    " 'Regarding the approach, there is an embedded collaboration in coaching which engages a client more than a top down approach.\\n',\n",
    " 'When it comes to the aftermath, often there is a furlough at the end of training but coaching walks with the client/trainee through the changes - that follow-up piece is critical for change sticking.\"\\n',\n",
    " 'inspectors any more latitude.\\n',\n",
    " 'This is the third and final pass\\n',\n",
    " 'planet configuration, the square (90 degree aspect) between\\n',\n",
    " 'The International Monetary Fund (IMF) will be replenished\\n',\n",
    " 'easily win over Al Gore in the next Presidential race.\\n',\n",
    " 'Bill Clinton than he does with his father.\\n',\n",
    " 'intellectual and persuasive powers, but at its worst can\\n',\n",
    " 'It is especially design for outdoor networking facility\\n',\n",
    " 'Accelerated PPH processing at the HIPO (Hungarian Intellectual Property Office)\\n',\n",
    " 'Home \\xe2\\x80\\xba Programs \\xe2\\x80\\xba Junior and Senior High\\n',\n",
    " 'Adventure School (MAS) \\xe2\\x80\\xba Media Gallery \\xe2\\x80\\xba \\xe2\\x80\\xba\\n',\n",
    " 'Digital Cameras, Video Cameras & Camera Accessories, All Available Here!\\n',\n",
    " 'UNDERWATER Digital Camera: CAPTURING MOMENTS UNDERWATER\\n',\n",
    " 'If you are shooting with your underwater digital camera, you need to take note of a few things to help you come up with the best images underwater.\\n',\n",
    " 'Home | About us | Events | We Buy | Mailing List | Links | Contact Us\\n',\n",
    " 'Website & Outreach: Christine Barry\\n',\n",
    " 'Copyright \\xc2\\xa9 2012 Shiawassee Dems - All Rights Reserved Powered by WordPress & Atahualpa\\n',\n",
    " 'Ganoderma Enriched-Coffee-Tea-Supplements-Cocoa-Mocca-Schokolade\\n',\n",
    " 'Check Out The Documented Medical Information\\n',\n",
    " 'The Best GanoDerma Lucidum, Buy It Here\\n',\n",
    " 'Gyal Wa Nyame Sherab Gyaltsen is the founder of Menri Monastery.\\n',\n",
    " 'He is the second most important Tonpa of the Bon in this era.\\n',\n",
    " 'The Menopause Support Programme covers\\n',\n",
    " 'It is important to ensure continued support for graduating students and so we have set up a dedicated 2008 Student Scholarship Fund to help our 2008 graduates maintain their education under our supervision.\\n',\n",
    " 'A07-Full Zip Hooded Sweatshirt\\n',\n",
    " \"Lots of things happening around here...With this site being the most obvious of new things!\\xc2\\xa0 I won't be updating the blogspot page anymore - So, if you want to know about new work and upcoming projects you'll have to check back here.\\n\",\n",
    " 'Tweets that mention Inside the Style Council | Jillian Villafane -- Topsy.com on Inside the Style Council\\n',\n",
    " 'Travelling to Sofia International Airport\\n',\n",
    " 'Airlines flying from Sofia International Airport\\n',\n",
    " 'One of many human challenges is that we identify with our bodies, and our thoughts and feelings as the ultimate truth of who we really are.\\n',\n",
    " 'We are that which has a body; we that which possesses and creates thoughts and feelings but we are not these things.\\n',\n",
    " 'We came to believe that our value is defined by the external.\\n',\n",
    " 'You can start to adjust the floor plan and design it to fit the style you originally selected when you have a rough floor plan.\\n',\n",
    " \"Home \\xc2\\xa0>\\xc2\\xa0 BLOG \\xc2\\xa0>\\xc2\\xa0 Digital \\xc2\\xa0>\\xc2\\xa0 Improve your site's ranking\\n\",\n",
    " 'Niche Social Media Communities\\n',\n",
    " 'In our last blog entry, 10 tips on optimising online press release distributions , we listed websites where you can upload your press releases with live links back to your website.\\n',\n",
    " 'Here, we list the more popular online article directories where you can upload your B2B articles, which also allow live links back to your website.\\n',\n",
    " '\\xe2\\x80\\xa2 Non-Latin domain names for B2B websites\\n',\n",
    " '\\xe2\\x80\\xa2 Q&A: Pros and Cons of online research\\n',\n",
    " 'Raw Power in its entirety captured live in September 2010 at All Tomorrows Parties.\\n',\n",
    " 'I was lucky enough to see the Stooges play Chicago a few months ago, and if this disc captures even half the intensity ...\\n',\n",
    " 'Tagged Iggy Pop , The Stooges\\n',\n",
    " 'I do not think that you will have any problem in finding cheap accommodation in Coober Pedy.\\n',\n",
    " 'It is really small place and you cannot expect hotels with five stars there.\\n',\n",
    " 'You do not have to prepare anything early.\\n',\n",
    " 'You can find good hotel when you get there.\\n',\n",
    " 'Even though you do not want to spend money you should find a good hotel.\\n',\n",
    " 'Mark my words ~ Eat well three times a day at virginia bed and breakfast\\n',\n",
    " 'You can vote in polls in this forum\\n',\n",
    " \"men's watches |women's watches |jewellery rings |jewellery pendants |jewellery necklaces |jewellery bracelets |jewellery earrings \\xc2\\xa9 CopyRight Like Bracelets 2010-2012 RunTime:0.988308\\n\",\n",
    " 'No items matching your keywords were found.\\n',\n",
    " 'Michelle Obama and Jill Biden booed at NASCAR\\n',\n",
    " 'Hereford United Childrens Replica Shirts\\n',\n",
    " 'Hereford United Mens Leisurewear\\n',\n",
    " 'Hereford United Coaching at John Kyrle High School Ross\\n',\n",
    " 'University College Dublin Ladies Boat Club\\n',\n",
    " 'Dutch cemetery location and photography, for more information about graveyard service go to the English part.\\n',\n",
    " 'Jewish graveyards, go to this link.\\n',\n",
    " 'Also photos of graveyards all over the world.\\n',\n",
    " 'Defy Age Management Exfoliator\\n',\n",
    " 'I brought Easy Writer Magic Board for my 3 year old kid.\\n',\n",
    " 'He is very much happy with his new slate.\\n',\n",
    " 'The advantage of this slate is no need of pysical...\\n',\n",
    " 'World Judo Championships TOKYO 2010 at Yoyogi National Gymnasium from 9th to 13th September 2010\\n',\n",
    " 'Jewelry Trends Spring/Summer 2012\\n',\n",
    " 'There have been separate typecasts of baby eczemas therein overlarge pieces of babies have been infested by atopic baby eczemas.\\n',\n",
    " 'Atopic eczema is endemic as well as goes upon during 2-3 months of aged age.\\n',\n",
    " 'The name Atopic relates to an oversensitivity of resistant complement of passive when it responds to a unfamiliar environs.\\n',\n",
    " \"Nevertheless you can't discuss it which at your convenience opposite family members have been trouble from a relations diseases such as asthma conflict or luxuriously heat as well as afterwards only a baby is starting to be impacted by baby eczema.\\n\",\n",
    " \"Dr. Barbara Levine outlines how we can save income but sacrificing any elements of your baby's illness in difficult mercantile times.\\n\",\n",
    " 'Healthy Women Healthy Families: Prenatal Health\\n',\n",
    " 'Metallurgy - . (of a metal) treated so as to impart impassivity.\\n',\n",
    " 'Statusuri Haioase 90 \" I\\'m mobile ca n-am pc... \"\\n',\n",
    " 'On August 1st, 2008, anonim said:\\n',\n",
    " 'On January 10th, 2009, gabriela said:\\n',\n",
    " 'On August 13th, 2009, stefanel said:\\n',\n",
    " 'ee jale cu sts-urile voastre dativa dreq foc\\n',\n",
    " 'Categories: Business Opportunity | Tags: Best , Cell , Mobile , Phone , Plan. | 10 Comments \"\\n',\n",
    " 'Comments for Boston Boudoir Photography Comment on A Bombshell Birthday | Boston Boudoir Photographer by Lloyd - Edmonton Intimate Boudoir Photography Hi Laura!\\n',\n",
    " \"I just adore the smile on photo 2; it's lovely.\\n\",\n",
    " 'Looking forward to seeing more.\\n',\n",
    " \"I just adore the smile on photo 2; it's lovely.\\n\",\n",
    " 'Looking forward to seeing more.\\n',\n",
    " \"Comment on A Cool Email by Rob Oresteen Laura - congrats on the new boudoir site....I'm sure it will be a big hit and soon as Boston knows about it, you won't have time to do anything else!\\n\",\n",
    " \"Laura - congrats on the new boudoir site....I'm sure it will be a big hit and soon as Boston knows about it, you won't have time to do anything else!\\n\",\n",
    " \"Comment on Make It A Sexy Valentine's Day by tallee i would love to book for valentine day session.. i would love to book for valentine day session..\\n\",\n",
    " \"I found this 'Icecream Loot Tag - Each' and thought that you may be interested.\\n\",\n",
    " 'Me To You - Kolekce SKETCHBOOK\\n',\n",
    " 'Drive, Class 2A, Fully Threaded, indented head, the washer provides a large, flat bearing surface\\n',\n",
    " 'Credit Card Debt Consolidation\\n',\n",
    " 'search of things that made you feel good about yourself.\\n',\n",
    " 'the persons in whom you come in contact, become victim of oversight?\\n',\n",
    " 'As reported in the Los Angeles Times , the\\n',\n",
    " 'What does all this mean to you?\\n',\n",
    " 'please visit www.rigsbee.com/downloadaccess.htm .\\n',\n",
    " 'March 2012 Chapter Meeting: Relationship Marketing for Your ...\\n',\n",
    " 'published: 2005-01-18 10:02:56\\n',\n",
    " 'Star Wars Basic Figure:Count Dooku The former Jedi is in league with the Trade Federation and cyborg General Grievous to propel his galaxy-wide revolt.\\n',\n",
    " 'Dooku communicates with his allies via a hologram transmission to coordinate the next steps in his quest to overthrow the Republic.\\n',\n",
    " 'Shortages , Strobe Light , Strobe Lights , Tethers , Worlds Smallest Rc Helicopter\\n',\n",
    " 'Thomas & Friends Island of Sodor Wooden Play Table\\n',\n",
    " 'Kids Toy Chests Storage Discount\\n',\n",
    " 'DELUXE MILITARY DIE CAST TOY TANKS - 3 PIECE SET\\n',\n",
    " 'Industrial Safety Equipment Supply\\n',\n",
    " 'Hourly updated report the most gifted in toys.\\n',\n",
    " 'Princess Cut Diamond Engagement Rings - You will find almost as numerous ways to style princess cut diamond wedding rings to create it unique and appearance personalized.\\n',\n",
    " 'Trayvon Martin Witness Believes \"He Intended for This Kid to Die\"\\n',\n",
    " '-EU trade chief says EU, ECB drawing up contingency plans in case of Greek exit -De Gucht urges Greece to stick to path of reforms and remain in Euro -No risk of contagion to rest of the Euro-zone if Greece leaves, De Gucht says (Adds spokeswoman denying plans under way, recasts to conform) BRUSSELS (Dow [...]\\n',\n",
    " 'Court suspends Ratko Mladic war crimes trial\\n',\n",
    " 'filter:alpha (opacity=100);opacity:1} .cnn_html_slideshow_media_caption a,.cnn_html_slideshow_media_caption a:visited,.cnn_html_slideshow_media_caption a:link,.captionText a,.captionText a:visited,.captiontext a:link{color:outline:medium none} .cnnVerticalGalleryPhoto{margin:0 auto;padding-right:68\\n',\n",
    " 'Congress Decries $800M in Unused Federal Grants\\n',\n",
    " \"O Holy night, the stars are brightly shining It is the night of our dear Savior's birth Long lay the world in sin and error pining Til He appeared and the soul felt it's worth A thrill of hope the weary world rejoyces For yonder breaks a new and glorious morn Fall on your knees O hear the angel voices O night divine!\\n\",\n",
    " 'O night when Christ was born O night divine!\\n',\n",
    " 'And in His Name, all oppression shall cease Sweet hymns of joy in grateful chorus raise we Let all within us praise his holy name Christ is the\\n',\n",
    " 'All tours are led by fully qualified Blue and Green Badge Guides.\\n',\n",
    " 'The gallery opened in 1992 with just 100 pictures, it now displays over 1,000...\\n',\n",
    " 'We welcome you to click on the Availability\\xc2\\xa0link on each individually owned condo.\\n',\n",
    " 'Sunset Resort Rentals \\xc2\\xa0offer the best of both worlds.\\xc2\\xa0 We provide the personal service that you would expect from a Rental\\n',\n",
    " 'and boats are readied for the next outing.\\n',\n",
    " 'holiday at www.SunsetResortRentals.com\\n',\n",
    " 'Site Map | About Us | Customer Service | Return Policy | Browse | Privacy Policy | Unique Garden Decor Home\\n',\n",
    " '2012\\xc2\\xa0Unique Garden Decor.\\xc2\\xa0All rights reserved.\\n',\n",
    " 'The West Peoria Plan Commission meets the\\xc2\\xa03rd Tuesday of\\xc2\\xa0every month from 5:30 p.m. - 6:30 p.m. at City Hall.\\n',\n",
    " 'in Beverly Hills or California medical office careers?\\n',\n",
    " 'You will recieve an access code from our computer.\\n',\n",
    " 'Enter the recieved access code below and press \"ENTER \"\\n',\n",
    " 'What is the role of collaborative law in a custody/visitation?\\n',\n",
    " \"Can I open my spouse's mail, including email?\\n\",\n",
    " 'You want to have a circuit base training.\\n',\n",
    " 'Jumping from one exercise to another that is time based and not rep based.\\n',\n",
    " 'With these exercises, you should be thinking speed that requires explosive movements.\\n',\n",
    " 'The idea is to go from one exercise to another in a way that will increase your...\\n',\n",
    " 'Whether your goals are to increase your speed when you sprint or to melt the fat from your body, this sprint training program will help you in both areas.\\n',\n",
    " 'Disclosure | Terms of Use & Disclaimer | Privacy Policy\\n',\n",
    " 'Lifestyle Choices and Subcultures\\n',\n",
    " \"Special press review 'Bank client confidentiality' and Swiss financial Place\\n\",\n",
    " 'Report on international financial and tax matters 2011\\n',\n",
    " 'Le secret bancaire: quel avenir ?\\n',\n",
    " 'While it is true that many girls will often sit around and gossip about the guys they all know, so do the guys, but its not very likely that they will want to hear about that hot chick sitting across the bar from you, or have you leering at her either.\\n',\n",
    " \"When a woman is with you, she wants to be the one you're thinking about and she doesn't want to hear all about your ex girlfriends, even if you are being negative about them.\\n\",\n",
    " \"The only thing this tells her is that you're still obsessed and upset about them.\\n\",\n",
    " \"Girls don't want to feel like you're settling; they want to think that you're really interested in them.\\n\",\n",
    " \"Another thing you need to know...while girls think that a ruggedly handsome guy can pull off the slightly scruffy look...occasionally...you probably cannot while dating, so please don't try.\\n\",\n",
    " 'Put on a clean shirt, wash your hair and face and smell good.\\n',\n",
    " 'Girls want to see that you have put some effort out there to look good because you were going to see them.\\n',\n",
    " 'You can bet they have just been to a bit of trouble in the bathroom!\\n',\n",
    " 'Plus, they want to know that no matter what, they can go into a public place with you, there new date and not be embarrassed by how you might turn up and look.\\n',\n",
    " 'Snowball Launchers, Giant-pumpkin Growers, And Other Cool Contraptions ...More\\n',\n",
    " 'Basto - Again and Again (DJ Solovey Boty Mix) (4:39) 2.\\n',\n",
    " 'Nicki Minaj - Turn Me On (Yanis.S Remix) (4:35) 3.\\n',\n",
    " 'Dream Dance Alliance - Frozen (Extended Female Mix) (5:56) 4.\\n',\n",
    " \"Kylie Minogue - Can't Get You Out Of My Head (Dj Amor Remix) (5:37) 5.\\n\",\n",
    " \"Navi G. - Nothing You Can Do (AivaR & N'Lezzon Remix) (3:52) 6.\\n\",\n",
    " 'One-T & Cool-T - The Magic Key (Slayback Remix) (5:58) 7.\\n',\n",
    " \"Home:: Blog:: Produce:: Other Products:: What's Ripe:: Recipes:: Facts:: Shop:: About:: Directions:: Newsletter:: Contact:: Sitemap\\n\",\n",
    " 'What do you do as a driver instructor?\\n',\n",
    " 'Costume Includes Dress and Hat.\\n',\n",
    " 'We accept all major Credit and Debit Cards as well as PayPal Payments.\\n',\n",
    " 'Visa and MasterCards are verified to give you added security .\\n',\n",
    " 'There are no divorce laws in the Philippines so the sanctity of marriage is held in high regard.\\n',\n",
    " 'With divorce being unacceptable, a wife will give top priority to the stability of her marriage and family.\\n',\n",
    " 'Women are quite willing to sacrifice their careers for this sake.\\n',\n",
    " 'How To Impress A Girl Who Is Special\\n',\n",
    " 'Dating Married Women Brings You A Roller Coaster Ride\\n',\n",
    " 'American Isagenix Distributors:\\n',\n",
    " 'Where to Buy Isagenix in Arkansas\\n',\n",
    " 'Where to Buy Isagenix in Louisiana\\n',\n",
    " 'I have been in a relationsh ip with my girlfriend for four years on and off, and through a lot of cheating, lies and now a pregnancy we have managed to work everything out.\\n',\n",
    " \"But lately I feel like Im doing everything wrong, I know I've lied in the [...]\\n\",\n",
    " 'so can you please tell me any other algorithm for finger detection.\\n',\n",
    " 'Memory leaking debugging errors\\n',\n",
    " 'HIGHGUI ERROR: V4L: index 0 is not correct\\n',\n",
    " 'CTS Outdoor, 52 Series Large Grenades\\n',\n",
    " 'BLUE Big Book (Hardback) Cover with Serenity Prayer & Medallion Holder\\n',\n",
    " 'Satellite-Interception Tactical\\n',\n",
    " '2 Responses to \"Marathoning For Mortals\"\\n',\n",
    " 'Having fun with friends on my deck\\n',\n",
    " 'through these terms and conditions carefully before using this website and\\n',\n",
    " 'reserve the right to change these terms and conditions at any time.\\n',\n",
    " 'orders that you place on this website will be subject to acceptance in\\n',\n",
    " 'of your order and the completion of the contract between you and us will\\n',\n",
    " 'will inform you as soon as possible and give you the options of either\\n',\n",
    " 'the products provided that we have processed and received payment in full\\n',\n",
    " 'any losses caused as a result of unauthorised access to information\\n',\n",
    " 'with our internal security policy and the law.\\n',\n",
    " 'temporarily stored on your computer.\\n',\n",
    " 'A session cookie is also called a\\n',\n",
    " 'X-Men Origins: Wolverine (2009)\\n',\n",
    " 'When Kermit and the gang cause three letters on their way to Santa Claus to go missing, the troupe is tasked with saving Christmas for the letter-writers.\\n',\n",
    " 'Excellent stud, one of the most sought after in the world.\\n',\n",
    " \"all the extra's and then some!\\n\",\n",
    " 'She is the daughter of V16 Campino von der Piste Trophe,\\n',\n",
    " 'thanks Johnnie f. looks like i screwed up was hoping to visit Loas. never mind next time\\n',\n",
    " 'Anyone who goes to a psychiatrist should have his head examined.\\n',\n",
    " '\" Reply #5 on: November 19, 2011, 08:48:19 PM \"\\n',\n",
    " 'In vogue Unstinting Software Is To each These Days\\n',\n",
    " 'Sales & Marketing Consultants\\n',\n",
    " 'Hammacher Schlemmer discount for up to a 45% discount.\\n',\n",
    " 'New promotional coupon codes & coupons\\n',\n",
    " 'Definitive Guide to Making Money Online - Fast!\\n',\n",
    " 'August 29th, 2011 - General Internet Marketing , affiliate marketing\\n',\n",
    " 'We have all to a certain degree been touched by the progress of social network sites and Facebook has now come to be the market leader.\\n',\n",
    " 'Six million users could turn out to be one billion in the not too distant future if you consider it was only 2004 when this all began.\\n',\n",
    " 'This kind of growth is impossible to ignore when contemplating the marketing potential of such an enormous global audience and big businesses are already using this to market their brands.\\n',\n",
    " 'There are those that declare this is now essential for success on the internet and we will study this in greater detail.\\n',\n",
    " 'You must be a logged-in member to vote\\n',\n",
    " 'Script Executed in 0.1412 seconds\\n',\n",
    " 'Through what I\\xc2\\xa0can feel is a\\xc2\\xa0great effort of will, your eyes regain their focus on me and a\\xc2\\xa0muf\\xc2\\xadfled \"mmmh-uh\" is all that escapes you.\\n',\n",
    " 'I\\xc2\\xa0speak in a\\xc2\\xa0sur\\xc2\\xadpris\\xc2\\xadingly even voice con\\xc2\\xadsid\\xc2\\xader\\xc2\\xading my pent-up desire for you.\\n',\n",
    " 'Your eyes and mouth snap open, star\\xc2\\xadtled, and your body starts shak\\xc2\\xading.\\n',\n",
    " 'As I\\xc2\\xa0cover your lips with mine you twist your face in a\\xc2\\xa0mix\\xc2\\xadture of plea\\xc2\\xadsure and pain, let\\xc2\\xadting out a\\xc2\\xa0plain\\xc2\\xadtive, wail\\xc2\\xading scream into my lungs.\\n',\n",
    " 'I\\xc2\\xa0hold you like that while your body thrash and your arms flail and you are com\\xc2\\xading and falling deeper and deeper into dark\\xc2\\xadness.\\n',\n",
    " 'As you come, I\\xc2\\xa0twist and turn your nip\\xc2\\xadple, I\\xc2\\xa0rel\\xc2\\xadish in my inner sadist and I\\xc2\\xa0do every\\xc2\\xadthing I\\xc2\\xa0can to fuel the fiery cords of light I\\xc2\\xa0imag\\xc2\\xadine I\\xc2\\xa0can see between your nip\\xc2\\xadple and your clit and your\\xc2\\xa0heart.\\n',\n",
    " 'Love let\\xc2\\xadters: The third day (Or the calm before the\\xc2\\xa0storm)\\n',\n",
    " 'My Love, \\xc2\\xa0 I am not good at all with the spoken word.\\xc2\\xa0 The language of my heart comes only through my writing so I write you this in hopes to express to you the meaning you have in my life.\\xc2\\xa0\\xc2\\xa0 When I met you, I had no idea that you were to be the [...]\\n',\n",
    " 'Dreamwalker asked me the other day when I asked him how much he loved me....How can I quantify love?\\xc2\\xa0 It got me to thinking what is love really, how do you explain it in words?\\n',\n",
    " 'He was so right.\\xc2\\xa0 There is no way to express love in words.\\n',\n",
    " 'Love is so many things and he [...]\\n',\n",
    " 'Training: I get a little rush of blood to the head on Tuesdays.\\xc2\\xa0 Tuesdays is the day I submit my weekly assignment.\\n',\n",
    " \"Am I Still A Submiss...: It's been a while since I've written anything here.\\n\",\n",
    " \"I haven't really had the mind to do so, but here lately...\\n\",\n",
    " 'Kelseyville Unified School District\\n',\n",
    " 'Lakeport Unified School District\\n',\n",
    " 'Upper Lake Union Elementary School\\n',\n",
    " 'Introduction to Mathematics Common Core: Grades 7-8\\n',\n",
    " 'Mr. Drummond provides legal advise regarding issues of school law, and government law, including but not limited to administrative hearings, arbitrations, bilingual education, the Brown Act, CEQA, charter schools, child abuse, collective bargaining, competitive bidding, conflict of interest, constitutional law, contracts, copyright infringement, curriculum, developer fees, elections, eminent domain, employment law, employment discrimination law, Field Act, general plan, grievances, legislation, litigation defense, NCLB, school finance, grant applications, prevailing wage, public school construction, real property matters, redevelopment, special education, student rights, student expulsions, tort claims, tort liability, waivers, and zoning.\\n',\n",
    " 'Tercel Eyas 1200mm Panel End Rectangular Desk\\n',\n",
    " ', Processed in 0.047988 second (s), 21 queries\\n',\n",
    " \"persecutions, God's wrath, hell and the lake of fire, sin, the Revelation and\\n\",\n",
    " 'Regarding America and the more\\n',\n",
    " 'WOULD BE LIKE WITHIN THEMSELVES\\n',\n",
    " 'by the Moslems, during the Middle Ages, and abandoned; its desolate ruins remain\\n',\n",
    " 'They do not have on the white garments of\\n',\n",
    " 'righteousness, but are clothed with the black wool of deceit, which is no clothing\\n',\n",
    " 'This church is shown to be naked, but they do not know these things.\\n',\n",
    " 'It is a church age for laughing rather than for crying.\\n',\n",
    " 'They love the praise of men more than the praise of God.\\n',\n",
    " 'to do all manner of things, but does not find time to humbly dwell in and study\\n',\n",
    " 'It is the church age when thousands\\n',\n",
    " 'and deceptions of the Laodicean age with them to the mission field and further\\n',\n",
    " 'Their confidence is so deeply rooted that it is nearly impossible\\n',\n",
    " 'the doctrine of perfection and holiness.\\n',\n",
    " 'Their thoughts are divided between\\n',\n",
    " 'being taught in Laodicea; however, it was rejected.\\n',\n",
    " 'considered itself rich and increased with goods.\\n',\n",
    " 'that sees itself as a good and spiritually sound institution with no needs.\\n',\n",
    " 'staff, and in volunteer workers.\\n',\n",
    " 'Never in church history has there been so many\\n',\n",
    " \"and what is in the people's hearts .\\n\",\n",
    " 'that hears lukewarm preaching and comes away empty and unfulfilled, yet is in\\n',\n",
    " 'such darkness that it is content; it does not even know it is wretched.\\n',\n",
    " 'word appears only one other time in the New Testament.\\n',\n",
    " 'understanding the Word of God.\\n',\n",
    " 'They are not zealous for the truth.\\n',\n",
    " 'Following Rev 3:22, there should\\n',\n",
    " 'The last church age would be wretched, miserable, poor, blind,\\n',\n",
    " 'People would be willingly ignorant of the truth.\\n',\n",
    " 'People would forget that the world was destroyed by water.\\n',\n",
    " 'Scriptures reflect no revival, but rather people being greatly deceived.\\n',\n",
    " 'People would have an outer form of godliness but denying Jesus.\\n',\n",
    " 'Scriptures reflect no revival.\\n',\n",
    " 'Rather they portray the clergy becoming more\\n',\n",
    " 'People would despise those that do good.\\n',\n",
    " 'Women would be weak-willed in resisting sin (including sex).\\n',\n",
    " 'People would try to cause divisions between the saints.\\n',\n",
    " 'People would still be giving away their offspring to be married.\\n',\n",
    " 'People would be buying things, as if nothing was going to happen.\\n',\n",
    " 'These picture people that are so corrupt that they do not even hide\\n',\n",
    " 'Is the statement that a great\\n',\n",
    " 'Those that do get saved, during that horrible time, can expect to flee for their\\n',\n",
    " '(or I have acquired wealth-NIV), AND HAVE NEED OF NOTHING; AND KNOWEST NOT THAT\\n',\n",
    " 'IF ANY MAN HEAR MY VOICE, AND OPEN THE DOOR, I WILL COME IN TO HIM, AND WILL\\n',\n",
    " \"Shares of RIM's Playbook Make Melt Destroy\\n\",\n",
    " \"S7 is designed different from our competitors, so the S7 is not a tablet PC works only Android but he's also there is also a function of his phone.\\n\"\n",
    "]"
   ]
  },
  {
   "cell_type": "code",
   "execution_count": 4,
   "metadata": {},
   "outputs": [
    {
     "data": {
      "text/plain": [
       "2513"
      ]
     },
     "execution_count": 4,
     "metadata": {},
     "output_type": "execute_result"
    }
   ],
   "source": [
    "# creating our word dictionary\n",
    "words = set()\n",
    "for s in raw:\n",
    "    sentence_words = s.split()\n",
    "    for w in sentence_words:\n",
    "        words.add(w)\n",
    "    \n",
    "len(words)"
   ]
  },
  {
   "cell_type": "markdown",
   "metadata": {},
   "source": [
    "# Syntax tree\n",
    "Last meeting, our backend team showed interesting work: They translated a POS parse tree into vector embeddings so that we can compute a cosine similarity between an incoming sentence and reference (corpus) sentences.\n",
    "\n",
    "But they explained nothing and even left out a file for the professor to go on wild goose chase about.\n",
    "<br />\n",
    "<left>\n",
    "<img src=\"ipynb.images/wild-goose-chase.gif\" width=400 />\n",
    "</left>\n",
    "\n",
    "So today professor explains this to you in a little clearer fashion :-)\n",
    "\n",
    "Here's how to build a sentence syntax tree with the [Berkeley](https://pypi.org/project/benepar/) parser:"
   ]
  },
  {
   "cell_type": "code",
   "execution_count": 67,
   "metadata": {},
   "outputs": [
    {
     "name": "stdout",
     "output_type": "stream",
     "text": [
      "(S (NP (NP (DT The) (NN time)) (PP (IN for) (NP (NN action)))) (VP (VBZ is) (ADVP (RB now))) (. .))\n"
     ]
    },
    {
     "name": "stderr",
     "output_type": "stream",
     "text": [
      "d:\\Anaconda3.5.1\\lib\\site-packages\\torch\\distributions\\distribution.py:46: UserWarning: <class 'torch_struct.distributions.TreeCRF'> does not define `arg_constraints`. Please set `arg_constraints = {}` or initialize the distribution with `validate_args=False` to turn off validation.\n",
      "  'with `validate_args=False` to turn off validation.')\n"
     ]
    }
   ],
   "source": [
    "import benepar, spacy, huggingface_hub\n",
    "nlp = spacy.load('en_core_web_sm')\n",
    "if spacy.__version__.startswith('2'):\n",
    "    nlp.add_pipe(benepar.BeneparComponent(\"benepar_en3\"))\n",
    "else:\n",
    "    nlp.add_pipe(\"benepar\", config={\"model\": \"benepar_en3\"})\n",
    "doc = nlp(\"The time for action is now. It's never too late to do something.\")\n",
    "sent = list(doc.sents)[0]\n",
    "print(sent._.parse_string)"
   ]
  },
  {
   "cell_type": "markdown",
   "metadata": {},
   "source": [
    "You can see the POS tags, but also groupings with parenses. Look [here](https://www.nltk.org/book/ch08.html) to learn more about how sentences are grammtically partitioned.\n",
    "\n",
    "Backend team's utlity functions:"
   ]
  },
  {
   "cell_type": "markdown",
   "metadata": {
    "id": "nVeAgZRHxL6_"
   },
   "source": [
    "### Define Helper Functions"
   ]
  },
  {
   "cell_type": "code",
   "execution_count": 6,
   "metadata": {
    "id": "R23SXQNjxJu7"
   },
   "outputs": [],
   "source": [
    "# Inputs a parsed sentence and outputs tree\n",
    "def construct_tree(sent):\n",
    "  output = Node(\"S\")\n",
    "  path = [output]\n",
    "  target = path[-1]\n",
    "\n",
    "  lefts = [i for i in range(len(sent)) if sent[i] == '('][1:]\n",
    "  rights = [i for i in range(len(sent)) if sent[i] == ')']\n",
    "\n",
    "  while path:\n",
    "    if lefts and lefts[0] < rights[0]:\n",
    "      # See a left\n",
    "      if len(lefts) > 1 and lefts[1] < rights[0]:\n",
    "        # See a ((  \n",
    "        new_node = Node(sent[lefts[0]+1:lefts[1]-1])\n",
    "      else:\n",
    "        # See a ()\n",
    "        space_idx = sent[lefts[0]:rights[0]].index(' ') + lefts[0]\n",
    "        new_node = Node(sent[lefts[0]+1:space_idx])\n",
    "      \n",
    "      target.addkid(new_node)\n",
    "      path.append(new_node)\n",
    "      target = new_node\n",
    "      lefts.pop(0)\n",
    "\n",
    "    else:\n",
    "      # See a right\n",
    "      path.pop()\n",
    "      target = path[-1] if path else None\n",
    "      rights.pop(0)\n",
    "\n",
    "  return output"
   ]
  },
  {
   "cell_type": "code",
   "execution_count": 7,
   "metadata": {
    "id": "VdAniP-UxUOX"
   },
   "outputs": [],
   "source": [
    "# Inputs a str and outputs parse\n",
    "def text_to_parse(text):\n",
    "  doc = nlp(text)\n",
    "  return list(doc.sents)[0]._.parse_string"
   ]
  },
  {
   "cell_type": "code",
   "execution_count": 8,
   "metadata": {
    "id": "r59h1MEzxVZI"
   },
   "outputs": [],
   "source": [
    "# Inputs a str and outputs tree\n",
    "def text_to_tree(text):\n",
    "  doc = nlp(text)\n",
    "  sent = list(doc.sents)[0]._.parse_string\n",
    "  return construct_tree(sent)"
   ]
  },
  {
   "cell_type": "code",
   "execution_count": 9,
   "metadata": {
    "id": "TD_hzxDPxbpJ"
   },
   "outputs": [
    {
     "name": "stdout",
     "output_type": "stream",
     "text": [
      "1 2\n",
      "2 1\n",
      "1 3\n",
      "3 1\n",
      "1 4\n",
      "4 1\n",
      "1 5\n",
      "5 1\n",
      "2 6\n",
      "6 2\n",
      "4 7\n",
      "7 4\n",
      "5 8\n",
      "8 5\n",
      "5 9\n",
      "9 5\n",
      "9 10\n",
      "10 9\n",
      "9 11\n",
      "11 9\n",
      "9 12\n",
      "12 9\n",
      "11 13\n",
      "13 11\n",
      "11 14\n",
      "14 11\n",
      "12 15\n",
      "15 12\n",
      "14 16\n",
      "16 14\n",
      "14 17\n",
      "17 14\n"
     ]
    }
   ],
   "source": [
    "# Inputs a tree and outputs edge list\n",
    "def construct_edge_list(sent):\n",
    "  count = 2\n",
    "  queue = OrderedDict()\n",
    "  queue[1] = sent\n",
    "\n",
    "  output = []\n",
    "\n",
    "  while queue:\n",
    "    num, target = queue.popitem(last=False)\n",
    "\n",
    "    for children in target.children:\n",
    "      queue[count] = children\n",
    "      output.append(\"{} {}\".format(str(num), count))\n",
    "      output.append(\"{} {}\".format(count, str(num)))\n",
    "      count += 1\n",
    "\n",
    "  return '\\n'.join(output)\n",
    "\n",
    "text = 'Hello, I am going to the store today'\n",
    "edge_list = construct_edge_list(text_to_tree(text))\n",
    "print(edge_list)"
   ]
  },
  {
   "cell_type": "markdown",
   "metadata": {
    "id": "twpk5XsVyC8t"
   },
   "source": [
    "Use Edge List to create embeddings"
   ]
  },
  {
   "cell_type": "code",
   "execution_count": 10,
   "metadata": {
    "colab": {
     "base_uri": "https://localhost:8080/"
    },
    "executionInfo": {
     "elapsed": 199,
     "status": "ok",
     "timestamp": 1651780494858,
     "user": {
      "displayName": "XinRu He",
      "userId": "07942384921814832921"
     },
     "user_tz": 240
    },
    "id": "feY8ADXUxtQC",
    "outputId": "16091e17-d15a-46a3-dec2-bcee34c5a799"
   },
   "outputs": [
    {
     "name": "stdout",
     "output_type": "stream",
     "text": [
      "env: PYTHONHASHSEED=0\n"
     ]
    }
   ],
   "source": [
    "%env PYTHONHASHSEED=0 \n",
    "# Set python environment seed to 0 for consistent embeddings"
   ]
  },
  {
   "cell_type": "code",
   "execution_count": 11,
   "metadata": {
    "id": "UZbh581GyEgn"
   },
   "outputs": [],
   "source": [
    "# Store edge list into a .edgelist file for processing\n",
    "with open(\"edgelist.edgelist\",'w') as f:\n",
    "   f.write(edge_list)"
   ]
  },
  {
   "cell_type": "markdown",
   "metadata": {},
   "source": [
    "This is the idea the backed team implemented: Interactions within graphs can be captured and encoded by simple neural networks into embeddings.\n",
    "\n",
    "The ability of graph data structures to represent complex interactions such as knowledge graphs has led to new ways to analyze and classify entities defined by their interactions. While these analyses are powerful at finding different structures within the network, they lack the ability to encode aspects of the graph for input into conventional machine learning algorithms\n",
    "\n",
    "DeepWalk is a type of graph neural network that operates directly on the target graph structure. It uses a randomized path traversing technique to provide insights into localized structures within networks. It does so by utilizing these random paths as sequences, that are then used to train a Skip-Gram Language Model.\n",
    "\n",
    "It relies on the Word2Vec language model presented by Google in 2013, Word2Vec allowed for words to be embedded into n-dimensional space, with similar words being locally situated near each-other. This means that words that are often used together or in similar situations would have smaller cosine distances.\n",
    "\n",
    "Word2Vec does this by using the Skip-Gram algorithm to compare the target words with its context. At a high level, Skip-Gram operates using a sliding window technique — where it tries to predict the surrounding words given the target word in the middle. \n",
    "\n",
    "For our use-case, we try to encode neighboring nodes within the graph to be close to each-other in n-dimensional space, this means that we are effectively trying to guess the neighbors around the target node within our network.\n",
    "\n",
    "DeepWalk utilizes random path-making through graphs to reveal latent patterns in the network, these patterns are then learned and encoded by neural networks to yield our final embeddings. These random paths are generated in a simple manner: Starting from the target root, randomly select a neighbor of that node, and add it to the path, next you randomly choose a neighbor of that node and continue through the walk until the desired number of steps has been taken. \n",
    "\n",
    "This repeated sampling of network paths yields a list of pos tags. These pos tags are then treated as if they were tokens in a sentence, and the state-space is learned from them using a Word2Vec model.\n",
    "\n",
    "Here's what the code would look like, using `networkX` as our graph library, and `gensim` for the SkipWords algorithm:"
   ]
  },
  {
   "cell_type": "code",
   "execution_count": 68,
   "metadata": {},
   "outputs": [],
   "source": [
    "import networkx as nx\n",
    "import matplotlib.pyplot as plt\n",
    "\n",
    "# Instantiate a undirected Networkx graph\n",
    "#G = nx.Graph()\n",
    "#G.add_edges_from(...)\n",
    "# Returns the perfectly balanced r-ary tree of height h\n",
    "# r = 2 and h = 5 simulates a sentence POS graph nicely:\n",
    "G = nx.balanced_tree(2, 5)"
   ]
  },
  {
   "cell_type": "code",
   "execution_count": 69,
   "metadata": {},
   "outputs": [
    {
     "data": {
      "image/png": "[encoded data removed]",
      "text/plain": [
       "<Figure size 432x288 with 1 Axes>"
      ]
     },
     "metadata": {},
     "output_type": "display_data"
    }
   ],
   "source": [
    "nx.draw(G)"
   ]
  },
  {
   "cell_type": "code",
   "execution_count": 70,
   "metadata": {},
   "outputs": [
    {
     "data": {
      "text/plain": [
       "63"
      ]
     },
     "execution_count": 70,
     "metadata": {},
     "output_type": "execute_result"
    }
   ],
   "source": [
    "G.number_of_nodes()"
   ]
  },
  {
   "cell_type": "markdown",
   "metadata": {},
   "source": [
    "Another example:"
   ]
  },
  {
   "cell_type": "code",
   "execution_count": 71,
   "metadata": {},
   "outputs": [
    {
     "data": {
      "image/png": "[encoded data removed]",
      "text/plain": [
       "<Figure size 432x288 with 1 Axes>"
      ]
     },
     "metadata": {},
     "output_type": "display_data"
    }
   ],
   "source": [
    "G2 = nx.complete_graph(10)\n",
    "nx.draw(G2)"
   ]
  },
  {
   "cell_type": "code",
   "execution_count": 20,
   "metadata": {},
   "outputs": [
    {
     "data": {
      "image/png": "[encoded data removed]",
      "text/plain": [
       "<Figure size 432x288 with 1 Axes>"
      ]
     },
     "metadata": {},
     "output_type": "display_data"
    }
   ],
   "source": [
    "G3 = nx.dorogovtsev_goltsev_mendes_graph(3)\n",
    "nx.draw(G3)"
   ]
  },
  {
   "cell_type": "markdown",
   "metadata": {},
   "source": [
    "You can find more graph examples [here](https://networkx.org/documentation/stable/reference/generators.html).\n",
    "\n",
    "Now let's go out on 10 random walks for each node of G:"
   ]
  },
  {
   "cell_type": "code",
   "execution_count": 72,
   "metadata": {},
   "outputs": [
    {
     "data": {
      "text/plain": [
       "[['0', '2', '6', '14', '6'],\n",
       " ['0', '2', '0', '1', '4'],\n",
       " ['0', '1', '4', '10', '22'],\n",
       " ['0', '2', '0', '2', '0'],\n",
       " ['0', '1', '0', '1', '4'],\n",
       " ['0', '2', '5', '2', '6'],\n",
       " ['0', '1', '0', '1', '3'],\n",
       " ['0', '2', '5', '12', '5'],\n",
       " ['0', '2', '6', '2', '5'],\n",
       " ['0', '2', '5', '12', '5'],\n",
       " ['1', '0', '2', '6', '14'],\n",
       " ['1', '4', '9', '20', '41'],\n",
       " ['1', '0', '2', '6', '13'],\n",
       " ['1', '0', '2', '0', '2'],\n",
       " ['1', '3', '1', '0', '2'],\n",
       " ['1', '4', '10', '22', '45'],\n",
       " ['1', '4', '10', '4', '9'],\n",
       " ['1', '3', '1', '3', '1'],\n",
       " ['1', '3', '7', '3', '8'],\n",
       " ['1', '4', '9', '20', '42'],\n",
       " ['2', '5', '12', '26', '53'],\n",
       " ['2', '6', '14', '29', '59'],\n",
       " ['2', '5', '11', '23', '47'],\n",
       " ['2', '0', '1', '4', '1'],\n",
       " ['2', '0', '2', '6', '13'],\n",
       " ['2', '5', '2', '0', '1'],\n",
       " ['2', '5', '12', '5', '12'],\n",
       " ['2', '5', '11', '24', '50'],\n",
       " ['2', '0', '1', '0', '2'],\n",
       " ['2', '6', '2', '5', '11'],\n",
       " ['3', '8', '3', '1', '3'],\n",
       " ['3', '7', '15', '7', '15'],\n",
       " ['3', '8', '3', '1', '3'],\n",
       " ['3', '8', '3', '1', '3'],\n",
       " ['3', '1', '0', '1', '4'],\n",
       " ['3', '1', '0', '2', '0'],\n",
       " ['3', '1', '3', '7', '3'],\n",
       " ['3', '1', '0', '2', '6'],\n",
       " ['3', '1', '3', '7', '3'],\n",
       " ['3', '1', '0', '1', '3'],\n",
       " ['4', '10', '21', '44', '21'],\n",
       " ['4', '10', '4', '9', '4'],\n",
       " ['4', '9', '19', '9', '19'],\n",
       " ['4', '10', '22', '45', '22'],\n",
       " ['4', '10', '21', '44', '21'],\n",
       " ['4', '9', '19', '9', '20'],\n",
       " ['4', '10', '4', '9', '20'],\n",
       " ['4', '1', '4', '9', '4'],\n",
       " ['4', '1', '0', '2', '6'],\n",
       " ['4', '1', '4', '9', '20'],\n",
       " ['5', '12', '26', '54', '26'],\n",
       " ['5', '2', '6', '14', '6'],\n",
       " ['5', '11', '23', '48', '23'],\n",
       " ['5', '12', '26', '12', '26'],\n",
       " ['5', '11', '24', '11', '23'],\n",
       " ['5', '12', '5', '2', '5'],\n",
       " ['5', '12', '26', '53', '26'],\n",
       " ['5', '2', '5', '11', '24'],\n",
       " ['5', '11', '23', '11', '23'],\n",
       " ['5', '2', '6', '2', '5'],\n",
       " ['6', '13', '6', '2', '0'],\n",
       " ['6', '2', '5', '2', '0'],\n",
       " ['6', '2', '0', '2', '5'],\n",
       " ['6', '14', '30', '14', '6'],\n",
       " ['6', '14', '6', '14', '6'],\n",
       " ['6', '13', '28', '57', '28'],\n",
       " ['6', '14', '30', '14', '30'],\n",
       " ['6', '2', '0', '2', '0'],\n",
       " ['6', '2', '5', '11', '24'],\n",
       " ['6', '2', '0', '2', '0'],\n",
       " ['7', '16', '33', '16', '33'],\n",
       " ['7', '15', '32', '15', '31'],\n",
       " ['7', '16', '33', '16', '33'],\n",
       " ['7', '15', '31', '15', '32'],\n",
       " ['7', '3', '8', '17', '8'],\n",
       " ['7', '16', '7', '3', '8'],\n",
       " ['7', '15', '31', '15', '31'],\n",
       " ['7', '15', '32', '15', '7'],\n",
       " ['7', '3', '7', '15', '7'],\n",
       " ['7', '16', '33', '16', '7'],\n",
       " ['8', '3', '8', '18', '8'],\n",
       " ['8', '17', '36', '17', '8'],\n",
       " ['8', '3', '1', '0', '2'],\n",
       " ['8', '17', '36', '17', '8'],\n",
       " ['8', '18', '37', '18', '38'],\n",
       " ['8', '18', '37', '18', '8'],\n",
       " ['8', '18', '37', '18', '37'],\n",
       " ['8', '3', '1', '0', '1'],\n",
       " ['8', '17', '36', '17', '8'],\n",
       " ['8', '17', '35', '17', '35'],\n",
       " ['9', '20', '41', '20', '41'],\n",
       " ['9', '19', '40', '19', '9'],\n",
       " ['9', '19', '39', '19', '9'],\n",
       " ['9', '4', '1', '0', '2'],\n",
       " ['9', '19', '9', '20', '42'],\n",
       " ['9', '19', '9', '4', '1'],\n",
       " ['9', '4', '9', '4', '10'],\n",
       " ['9', '4', '9', '4', '9'],\n",
       " ['9', '20', '42', '20', '41'],\n",
       " ['9', '4', '9', '19', '40'],\n",
       " ['10', '22', '10', '4', '9'],\n",
       " ['10', '22', '46', '22', '10'],\n",
       " ['10', '22', '10', '4', '9'],\n",
       " ['10', '22', '45', '22', '46'],\n",
       " ['10', '21', '43', '21', '43'],\n",
       " ['10', '22', '46', '22', '10'],\n",
       " ['10', '22', '10', '21', '44'],\n",
       " ['10', '4', '1', '3', '1'],\n",
       " ['10', '22', '45', '22', '45'],\n",
       " ['10', '21', '43', '21', '10'],\n",
       " ['11', '23', '48', '23', '11'],\n",
       " ['11', '24', '49', '24', '50'],\n",
       " ['11', '24', '49', '24', '50'],\n",
       " ['11', '23', '47', '23', '11'],\n",
       " ['11', '23', '47', '23', '48'],\n",
       " ['11', '24', '11', '24', '49'],\n",
       " ['11', '5', '2', '6', '13'],\n",
       " ['11', '24', '49', '24', '49'],\n",
       " ['11', '24', '11', '23', '47'],\n",
       " ['11', '23', '11', '5', '11'],\n",
       " ['12', '5', '12', '25', '51'],\n",
       " ['12', '26', '12', '26', '53'],\n",
       " ['12', '25', '52', '25', '12'],\n",
       " ['12', '26', '53', '26', '12'],\n",
       " ['12', '5', '11', '24', '50'],\n",
       " ['12', '5', '12', '26', '53'],\n",
       " ['12', '26', '53', '26', '53'],\n",
       " ['12', '25', '12', '26', '53'],\n",
       " ['12', '25', '51', '25', '52'],\n",
       " ['12', '26', '54', '26', '12'],\n",
       " ['13', '28', '58', '28', '57'],\n",
       " ['13', '27', '13', '27', '56'],\n",
       " ['13', '6', '14', '29', '60'],\n",
       " ['13', '6', '14', '30', '61'],\n",
       " ['13', '28', '13', '6', '14'],\n",
       " ['13', '6', '2', '5', '2'],\n",
       " ['13', '6', '13', '6', '14'],\n",
       " ['13', '27', '56', '27', '13'],\n",
       " ['13', '28', '57', '28', '57'],\n",
       " ['13', '28', '58', '28', '58'],\n",
       " ['14', '6', '13', '27', '13'],\n",
       " ['14', '30', '14', '6', '13'],\n",
       " ['14', '30', '14', '29', '60'],\n",
       " ['14', '30', '14', '30', '62'],\n",
       " ['14', '30', '14', '29', '60'],\n",
       " ['14', '29', '59', '29', '60'],\n",
       " ['14', '30', '14', '29', '14'],\n",
       " ['14', '6', '14', '6', '14'],\n",
       " ['14', '6', '13', '6', '2'],\n",
       " ['14', '30', '62', '30', '61'],\n",
       " ['15', '31', '15', '32', '15'],\n",
       " ['15', '31', '15', '32', '15'],\n",
       " ['15', '7', '16', '7', '16'],\n",
       " ['15', '32', '15', '7', '3'],\n",
       " ['15', '31', '15', '7', '15'],\n",
       " ['15', '32', '15', '32', '15'],\n",
       " ['15', '32', '15', '7', '16'],\n",
       " ['15', '32', '15', '32', '15'],\n",
       " ['15', '31', '15', '32', '15'],\n",
       " ['15', '7', '16', '7', '15'],\n",
       " ['16', '33', '16', '7', '16'],\n",
       " ['16', '34', '16', '33', '16'],\n",
       " ['16', '7', '16', '34', '16'],\n",
       " ['16', '34', '16', '7', '16'],\n",
       " ['16', '33', '16', '7', '3'],\n",
       " ['16', '7', '3', '8', '17'],\n",
       " ['16', '7', '16', '33', '16'],\n",
       " ['16', '7', '16', '7', '3'],\n",
       " ['16', '34', '16', '7', '16'],\n",
       " ['16', '33', '16', '7', '3'],\n",
       " ['17', '36', '17', '36', '17'],\n",
       " ['17', '35', '17', '35', '17'],\n",
       " ['17', '36', '17', '36', '17'],\n",
       " ['17', '8', '18', '37', '18'],\n",
       " ['17', '36', '17', '8', '17'],\n",
       " ['17', '8', '17', '36', '17'],\n",
       " ['17', '35', '17', '36', '17'],\n",
       " ['17', '8', '3', '1', '4'],\n",
       " ['17', '8', '3', '8', '3'],\n",
       " ['17', '8', '3', '8', '17'],\n",
       " ['18', '38', '18', '8', '18'],\n",
       " ['18', '37', '18', '8', '18'],\n",
       " ['18', '37', '18', '38', '18'],\n",
       " ['18', '37', '18', '37', '18'],\n",
       " ['18', '37', '18', '8', '18'],\n",
       " ['18', '37', '18', '37', '18'],\n",
       " ['18', '37', '18', '38', '18'],\n",
       " ['18', '38', '18', '8', '18'],\n",
       " ['18', '37', '18', '37', '18'],\n",
       " ['18', '38', '18', '37', '18'],\n",
       " ['19', '39', '19', '40', '19'],\n",
       " ['19', '9', '4', '9', '19'],\n",
       " ['19', '9', '19', '39', '19'],\n",
       " ['19', '40', '19', '9', '4'],\n",
       " ['19', '39', '19', '39', '19'],\n",
       " ['19', '9', '4', '9', '20'],\n",
       " ['19', '40', '19', '9', '20'],\n",
       " ['19', '9', '19', '39', '19'],\n",
       " ['19', '40', '19', '9', '20'],\n",
       " ['19', '39', '19', '9', '4'],\n",
       " ['20', '9', '20', '42', '20'],\n",
       " ['20', '42', '20', '42', '20'],\n",
       " ['20', '41', '20', '41', '20'],\n",
       " ['20', '42', '20', '9', '20'],\n",
       " ['20', '42', '20', '42', '20'],\n",
       " ['20', '9', '19', '39', '19'],\n",
       " ['20', '42', '20', '42', '20'],\n",
       " ['20', '9', '20', '41', '20'],\n",
       " ['20', '41', '20', '41', '20'],\n",
       " ['20', '41', '20', '42', '20'],\n",
       " ['21', '10', '4', '1', '0'],\n",
       " ['21', '44', '21', '10', '22'],\n",
       " ['21', '44', '21', '44', '21'],\n",
       " ['21', '43', '21', '44', '21'],\n",
       " ['21', '10', '22', '46', '22'],\n",
       " ['21', '10', '4', '1', '3'],\n",
       " ['21', '43', '21', '43', '21'],\n",
       " ['21', '10', '4', '10', '4'],\n",
       " ['21', '44', '21', '44', '21'],\n",
       " ['21', '44', '21', '43', '21'],\n",
       " ['22', '45', '22', '45', '22'],\n",
       " ['22', '10', '4', '10', '4'],\n",
       " ['22', '10', '4', '9', '20'],\n",
       " ['22', '10', '22', '45', '22'],\n",
       " ['22', '46', '22', '10', '4'],\n",
       " ['22', '45', '22', '10', '22'],\n",
       " ['22', '45', '22', '10', '22'],\n",
       " ['22', '10', '4', '10', '4'],\n",
       " ['22', '10', '22', '46', '22'],\n",
       " ['22', '45', '22', '10', '21'],\n",
       " ['23', '47', '23', '48', '23'],\n",
       " ['23', '11', '24', '49', '24'],\n",
       " ['23', '11', '5', '12', '5'],\n",
       " ['23', '11', '5', '11', '24'],\n",
       " ['23', '11', '24', '11', '5'],\n",
       " ['23', '48', '23', '11', '23'],\n",
       " ['23', '48', '23', '47', '23'],\n",
       " ['23', '47', '23', '11', '5'],\n",
       " ['23', '48', '23', '47', '23'],\n",
       " ['23', '48', '23', '48', '23'],\n",
       " ['24', '49', '24', '11', '5'],\n",
       " ['24', '11', '23', '48', '23'],\n",
       " ['24', '49', '24', '50', '24'],\n",
       " ['24', '11', '5', '11', '23'],\n",
       " ['24', '50', '24', '49', '24'],\n",
       " ['24', '50', '24', '11', '5'],\n",
       " ['24', '49', '24', '11', '5'],\n",
       " ['24', '49', '24', '11', '23'],\n",
       " ['24', '49', '24', '50', '24'],\n",
       " ['24', '49', '24', '50', '24'],\n",
       " ['25', '51', '25', '12', '26'],\n",
       " ['25', '51', '25', '52', '25'],\n",
       " ['25', '12', '26', '53', '26'],\n",
       " ['25', '51', '25', '52', '25'],\n",
       " ['25', '12', '25', '12', '26'],\n",
       " ['25', '12', '26', '12', '26'],\n",
       " ['25', '12', '5', '11', '23'],\n",
       " ['25', '51', '25', '12', '5'],\n",
       " ['25', '51', '25', '51', '25'],\n",
       " ['25', '52', '25', '51', '25'],\n",
       " ['26', '12', '5', '11', '5'],\n",
       " ['26', '54', '26', '12', '26'],\n",
       " ['26', '53', '26', '53', '26'],\n",
       " ['26', '53', '26', '53', '26'],\n",
       " ['26', '12', '26', '12', '26'],\n",
       " ['26', '54', '26', '12', '25'],\n",
       " ['26', '53', '26', '54', '26'],\n",
       " ['26', '54', '26', '54', '26'],\n",
       " ['26', '53', '26', '53', '26'],\n",
       " ['26', '53', '26', '54', '26'],\n",
       " ['27', '56', '27', '55', '27'],\n",
       " ['27', '55', '27', '13', '6'],\n",
       " ['27', '13', '6', '2', '5'],\n",
       " ['27', '56', '27', '55', '27'],\n",
       " ['27', '56', '27', '55', '27'],\n",
       " ['27', '56', '27', '13', '27'],\n",
       " ['27', '56', '27', '56', '27'],\n",
       " ['27', '55', '27', '13', '27'],\n",
       " ['27', '56', '27', '56', '27'],\n",
       " ['27', '13', '6', '2', '6'],\n",
       " ['28', '13', '6', '13', '6'],\n",
       " ['28', '57', '28', '13', '6'],\n",
       " ['28', '13', '27', '55', '27'],\n",
       " ['28', '58', '28', '13', '27'],\n",
       " ['28', '58', '28', '58', '28'],\n",
       " ['28', '13', '28', '58', '28'],\n",
       " ['28', '13', '27', '55', '27'],\n",
       " ['28', '57', '28', '58', '28'],\n",
       " ['28', '58', '28', '58', '28'],\n",
       " ['28', '13', '6', '13', '28'],\n",
       " ['29', '59', '29', '59', '29'],\n",
       " ['29', '59', '29', '59', '29'],\n",
       " ['29', '60', '29', '14', '30'],\n",
       " ['29', '59', '29', '14', '30'],\n",
       " ['29', '14', '6', '13', '6'],\n",
       " ['29', '14', '30', '14', '30'],\n",
       " ['29', '59', '29', '59', '29'],\n",
       " ['29', '14', '6', '14', '6'],\n",
       " ['29', '14', '29', '60', '29'],\n",
       " ['29', '59', '29', '60', '29'],\n",
       " ['30', '14', '29', '60', '29'],\n",
       " ['30', '14', '30', '14', '6'],\n",
       " ['30', '61', '30', '62', '30'],\n",
       " ['30', '14', '29', '59', '29'],\n",
       " ['30', '61', '30', '61', '30'],\n",
       " ['30', '62', '30', '62', '30'],\n",
       " ['30', '14', '29', '14', '30'],\n",
       " ['30', '61', '30', '14', '6'],\n",
       " ['30', '61', '30', '14', '29'],\n",
       " ['30', '14', '6', '14', '30'],\n",
       " ['31', '15', '32', '15', '31'],\n",
       " ['31', '15', '7', '3', '1'],\n",
       " ['31', '15', '31', '15', '7'],\n",
       " ['31', '15', '31', '15', '7'],\n",
       " ['31', '15', '32', '15', '31'],\n",
       " ['31', '15', '32', '15', '32'],\n",
       " ['31', '15', '32', '15', '31'],\n",
       " ['31', '15', '31', '15', '31'],\n",
       " ['31', '15', '32', '15', '7'],\n",
       " ['31', '15', '32', '15', '31'],\n",
       " ['32', '15', '31', '15', '31'],\n",
       " ['32', '15', '7', '15', '31'],\n",
       " ['32', '15', '32', '15', '32'],\n",
       " ['32', '15', '31', '15', '31'],\n",
       " ['32', '15', '32', '15', '32'],\n",
       " ['32', '15', '7', '16', '7'],\n",
       " ['32', '15', '31', '15', '31'],\n",
       " ['32', '15', '31', '15', '32'],\n",
       " ['32', '15', '31', '15', '7'],\n",
       " ['32', '15', '31', '15', '7'],\n",
       " ['33', '16', '7', '15', '7'],\n",
       " ['33', '16', '7', '16', '34'],\n",
       " ['33', '16', '34', '16', '7'],\n",
       " ['33', '16', '34', '16', '7'],\n",
       " ['33', '16', '34', '16', '7'],\n",
       " ['33', '16', '34', '16', '33'],\n",
       " ['33', '16', '34', '16', '33'],\n",
       " ['33', '16', '33', '16', '7'],\n",
       " ['33', '16', '34', '16', '34'],\n",
       " ['33', '16', '34', '16', '7'],\n",
       " ['34', '16', '34', '16', '34'],\n",
       " ['34', '16', '34', '16', '7'],\n",
       " ['34', '16', '33', '16', '34'],\n",
       " ['34', '16', '34', '16', '33'],\n",
       " ['34', '16', '34', '16', '34'],\n",
       " ['34', '16', '34', '16', '33'],\n",
       " ['34', '16', '7', '16', '33'],\n",
       " ['34', '16', '33', '16', '34'],\n",
       " ['34', '16', '33', '16', '7'],\n",
       " ['34', '16', '33', '16', '34'],\n",
       " ['35', '17', '36', '17', '8'],\n",
       " ['35', '17', '8', '3', '1'],\n",
       " ['35', '17', '8', '3', '7'],\n",
       " ['35', '17', '35', '17', '35'],\n",
       " ['35', '17', '36', '17', '35'],\n",
       " ['35', '17', '35', '17', '36'],\n",
       " ['35', '17', '35', '17', '35'],\n",
       " ['35', '17', '36', '17', '8'],\n",
       " ['35', '17', '8', '17', '36'],\n",
       " ['35', '17', '35', '17', '8'],\n",
       " ['36', '17', '35', '17', '8'],\n",
       " ['36', '17', '35', '17', '36'],\n",
       " ['36', '17', '35', '17', '35'],\n",
       " ['36', '17', '36', '17', '35'],\n",
       " ['36', '17', '36', '17', '35'],\n",
       " ['36', '17', '8', '18', '38'],\n",
       " ['36', '17', '35', '17', '35'],\n",
       " ['36', '17', '8', '3', '1'],\n",
       " ['36', '17', '36', '17', '8'],\n",
       " ['36', '17', '8', '17', '36'],\n",
       " ['37', '18', '38', '18', '37'],\n",
       " ['37', '18', '38', '18', '8'],\n",
       " ['37', '18', '37', '18', '8'],\n",
       " ['37', '18', '37', '18', '37'],\n",
       " ['37', '18', '8', '17', '35'],\n",
       " ['37', '18', '37', '18', '8'],\n",
       " ['37', '18', '38', '18', '38'],\n",
       " ['37', '18', '38', '18', '37'],\n",
       " ['37', '18', '38', '18', '37'],\n",
       " ['37', '18', '8', '17', '35'],\n",
       " ['38', '18', '37', '18', '37'],\n",
       " ['38', '18', '37', '18', '8'],\n",
       " ['38', '18', '38', '18', '38'],\n",
       " ['38', '18', '38', '18', '37'],\n",
       " ['38', '18', '8', '17', '35'],\n",
       " ['38', '18', '38', '18', '37'],\n",
       " ['38', '18', '8', '18', '38'],\n",
       " ['38', '18', '37', '18', '37'],\n",
       " ['38', '18', '8', '17', '35'],\n",
       " ['38', '18', '37', '18', '8'],\n",
       " ['39', '19', '9', '4', '10'],\n",
       " ['39', '19', '40', '19', '39'],\n",
       " ['39', '19', '40', '19', '9'],\n",
       " ['39', '19', '9', '19', '40'],\n",
       " ['39', '19', '39', '19', '39'],\n",
       " ['39', '19', '39', '19', '9'],\n",
       " ['39', '19', '39', '19', '40'],\n",
       " ['39', '19', '40', '19', '9'],\n",
       " ['39', '19', '39', '19', '9'],\n",
       " ['39', '19', '40', '19', '40'],\n",
       " ['40', '19', '40', '19', '9'],\n",
       " ['40', '19', '9', '4', '9'],\n",
       " ['40', '19', '9', '20', '41'],\n",
       " ['40', '19', '9', '20', '41'],\n",
       " ['40', '19', '9', '20', '42'],\n",
       " ['40', '19', '9', '4', '9'],\n",
       " ['40', '19', '9', '4', '9'],\n",
       " ['40', '19', '9', '4', '9'],\n",
       " ['40', '19', '9', '20', '41'],\n",
       " ['40', '19', '39', '19', '40'],\n",
       " ['41', '20', '41', '20', '9'],\n",
       " ['41', '20', '41', '20', '41'],\n",
       " ['41', '20', '9', '19', '40'],\n",
       " ['41', '20', '9', '4', '1'],\n",
       " ['41', '20', '9', '19', '40'],\n",
       " ['41', '20', '41', '20', '9'],\n",
       " ['41', '20', '42', '20', '42'],\n",
       " ['41', '20', '9', '19', '9'],\n",
       " ['41', '20', '41', '20', '9'],\n",
       " ['41', '20', '41', '20', '41'],\n",
       " ['42', '20', '42', '20', '42'],\n",
       " ['42', '20', '42', '20', '42'],\n",
       " ['42', '20', '9', '4', '10'],\n",
       " ['42', '20', '41', '20', '42'],\n",
       " ['42', '20', '9', '4', '9'],\n",
       " ['42', '20', '42', '20', '42'],\n",
       " ['42', '20', '41', '20', '9'],\n",
       " ['42', '20', '9', '19', '40'],\n",
       " ['42', '20', '9', '4', '9'],\n",
       " ['42', '20', '42', '20', '9'],\n",
       " ['43', '21', '44', '21', '10'],\n",
       " ['43', '21', '10', '4', '1'],\n",
       " ['43', '21', '43', '21', '10'],\n",
       " ['43', '21', '44', '21', '10'],\n",
       " ['43', '21', '43', '21', '10'],\n",
       " ['43', '21', '44', '21', '43'],\n",
       " ['43', '21', '10', '4', '9'],\n",
       " ['43', '21', '10', '4', '9'],\n",
       " ['43', '21', '43', '21', '44'],\n",
       " ['43', '21', '44', '21', '43'],\n",
       " ['44', '21', '10', '22', '45'],\n",
       " ['44', '21', '44', '21', '44'],\n",
       " ['44', '21', '43', '21', '44'],\n",
       " ['44', '21', '43', '21', '43'],\n",
       " ['44', '21', '10', '4', '10'],\n",
       " ['44', '21', '10', '22', '45'],\n",
       " ['44', '21', '43', '21', '44'],\n",
       " ['44', '21', '10', '21', '44'],\n",
       " ['44', '21', '10', '21', '10'],\n",
       " ['44', '21', '10', '4', '1'],\n",
       " ['45', '22', '45', '22', '46'],\n",
       " ['45', '22', '45', '22', '10'],\n",
       " ['45', '22', '45', '22', '10'],\n",
       " ['45', '22', '10', '22', '45'],\n",
       " ['45', '22', '10', '21', '10'],\n",
       " ['45', '22', '10', '21', '44'],\n",
       " ['45', '22', '10', '4', '1'],\n",
       " ['45', '22', '10', '22', '10'],\n",
       " ['45', '22', '45', '22', '46'],\n",
       " ['45', '22', '46', '22', '10'],\n",
       " ['46', '22', '10', '22', '10'],\n",
       " ['46', '22', '10', '22', '46'],\n",
       " ['46', '22', '10', '22', '46'],\n",
       " ['46', '22', '10', '22', '10'],\n",
       " ['46', '22', '46', '22', '10'],\n",
       " ['46', '22', '10', '4', '1'],\n",
       " ['46', '22', '46', '22', '10'],\n",
       " ['46', '22', '45', '22', '10'],\n",
       " ['46', '22', '46', '22', '45'],\n",
       " ['46', '22', '10', '21', '43'],\n",
       " ['47', '23', '11', '23', '47'],\n",
       " ['47', '23', '11', '23', '48'],\n",
       " ['47', '23', '48', '23', '48'],\n",
       " ['47', '23', '48', '23', '48'],\n",
       " ['47', '23', '47', '23', '48'],\n",
       " ['47', '23', '11', '24', '11'],\n",
       " ['47', '23', '48', '23', '47'],\n",
       " ['47', '23', '47', '23', '47'],\n",
       " ['47', '23', '11', '24', '11'],\n",
       " ['47', '23', '11', '23', '48'],\n",
       " ['48', '23', '48', '23', '11'],\n",
       " ['48', '23', '11', '23', '11'],\n",
       " ['48', '23', '11', '24', '49'],\n",
       " ['48', '23', '48', '23', '48'],\n",
       " ['48', '23', '47', '23', '11'],\n",
       " ['48', '23', '11', '5', '11'],\n",
       " ['48', '23', '48', '23', '48'],\n",
       " ['48', '23', '47', '23', '11'],\n",
       " ['48', '23', '47', '23', '47'],\n",
       " ['48', '23', '11', '23', '11'],\n",
       " ['49', '24', '50', '24', '11'],\n",
       " ['49', '24', '50', '24', '11'],\n",
       " ['49', '24', '49', '24', '49'],\n",
       " ['49', '24', '50', '24', '50'],\n",
       " ['49', '24', '11', '24', '49'],\n",
       " ['49', '24', '11', '23', '48'],\n",
       " ['49', '24', '49', '24', '11'],\n",
       " ['49', '24', '49', '24', '49'],\n",
       " ['49', '24', '11', '5', '12'],\n",
       " ['49', '24', '50', '24', '50'],\n",
       " ['50', '24', '11', '24', '11'],\n",
       " ['50', '24', '50', '24', '50'],\n",
       " ['50', '24', '50', '24', '50'],\n",
       " ['50', '24', '11', '23', '47'],\n",
       " ['50', '24', '11', '24', '11'],\n",
       " ['50', '24', '50', '24', '11'],\n",
       " ['50', '24', '49', '24', '49'],\n",
       " ['50', '24', '49', '24', '49'],\n",
       " ['50', '24', '49', '24', '50'],\n",
       " ['50', '24', '50', '24', '50'],\n",
       " ['51', '25', '12', '26', '53'],\n",
       " ['51', '25', '12', '5', '11'],\n",
       " ['51', '25', '51', '25', '52'],\n",
       " ['51', '25', '52', '25', '51'],\n",
       " ['51', '25', '12', '25', '51'],\n",
       " ['51', '25', '12', '26', '54'],\n",
       " ['51', '25', '51', '25', '51'],\n",
       " ['51', '25', '52', '25', '12'],\n",
       " ['51', '25', '51', '25', '12'],\n",
       " ['51', '25', '52', '25', '12'],\n",
       " ['52', '25', '12', '5', '12'],\n",
       " ['52', '25', '52', '25', '51'],\n",
       " ['52', '25', '12', '26', '12'],\n",
       " ['52', '25', '51', '25', '52'],\n",
       " ['52', '25', '12', '26', '54'],\n",
       " ['52', '25', '51', '25', '12'],\n",
       " ['52', '25', '52', '25', '51'],\n",
       " ['52', '25', '12', '26', '12'],\n",
       " ['52', '25', '52', '25', '12'],\n",
       " ['52', '25', '12', '5', '2'],\n",
       " ['53', '26', '12', '25', '12'],\n",
       " ['53', '26', '53', '26', '53'],\n",
       " ['53', '26', '12', '5', '2'],\n",
       " ['53', '26', '12', '25', '12'],\n",
       " ['53', '26', '12', '26', '53'],\n",
       " ['53', '26', '12', '25', '12'],\n",
       " ['53', '26', '54', '26', '12'],\n",
       " ['53', '26', '54', '26', '54'],\n",
       " ['53', '26', '12', '26', '12'],\n",
       " ['53', '26', '12', '26', '53'],\n",
       " ['54', '26', '54', '26', '12'],\n",
       " ['54', '26', '12', '5', '12'],\n",
       " ['54', '26', '12', '25', '52'],\n",
       " ['54', '26', '53', '26', '53'],\n",
       " ['54', '26', '54', '26', '53'],\n",
       " ['54', '26', '53', '26', '53'],\n",
       " ['54', '26', '53', '26', '12'],\n",
       " ['54', '26', '12', '5', '2'],\n",
       " ['54', '26', '12', '26', '12'],\n",
       " ['54', '26', '54', '26', '12'],\n",
       " ['55', '27', '56', '27', '56'],\n",
       " ['55', '27', '56', '27', '55'],\n",
       " ['55', '27', '56', '27', '55'],\n",
       " ['55', '27', '56', '27', '55'],\n",
       " ['55', '27', '13', '27', '55'],\n",
       " ['55', '27', '55', '27', '56'],\n",
       " ['55', '27', '55', '27', '13'],\n",
       " ['55', '27', '55', '27', '56'],\n",
       " ['55', '27', '13', '6', '14'],\n",
       " ['55', '27', '56', '27', '13'],\n",
       " ['56', '27', '55', '27', '55'],\n",
       " ['56', '27', '13', '27', '56'],\n",
       " ['56', '27', '55', '27', '55'],\n",
       " ['56', '27', '55', '27', '13'],\n",
       " ['56', '27', '56', '27', '56'],\n",
       " ['56', '27', '55', '27', '55'],\n",
       " ['56', '27', '55', '27', '13'],\n",
       " ['56', '27', '55', '27', '13'],\n",
       " ['56', '27', '56', '27', '55'],\n",
       " ['56', '27', '56', '27', '13'],\n",
       " ['57', '28', '58', '28', '13'],\n",
       " ['57', '28', '58', '28', '13'],\n",
       " ['57', '28', '58', '28', '58'],\n",
       " ['57', '28', '57', '28', '13'],\n",
       " ['57', '28', '13', '27', '56'],\n",
       " ['57', '28', '57', '28', '58'],\n",
       " ['57', '28', '58', '28', '58'],\n",
       " ['57', '28', '57', '28', '57'],\n",
       " ['57', '28', '57', '28', '13'],\n",
       " ['57', '28', '57', '28', '13'],\n",
       " ['58', '28', '57', '28', '57'],\n",
       " ['58', '28', '13', '28', '58'],\n",
       " ['58', '28', '58', '28', '57'],\n",
       " ['58', '28', '58', '28', '58'],\n",
       " ['58', '28', '57', '28', '57'],\n",
       " ['58', '28', '13', '27', '55'],\n",
       " ['58', '28', '58', '28', '58'],\n",
       " ['58', '28', '13', '28', '57'],\n",
       " ['58', '28', '57', '28', '57'],\n",
       " ['58', '28', '13', '27', '13'],\n",
       " ['59', '29', '14', '29', '14'],\n",
       " ['59', '29', '14', '29', '59'],\n",
       " ['59', '29', '59', '29', '59'],\n",
       " ['59', '29', '59', '29', '60'],\n",
       " ['59', '29', '59', '29', '14'],\n",
       " ['59', '29', '14', '29', '14'],\n",
       " ['59', '29', '60', '29', '59'],\n",
       " ['59', '29', '60', '29', '60'],\n",
       " ['59', '29', '60', '29', '59'],\n",
       " ['59', '29', '14', '6', '14'],\n",
       " ['60', '29', '60', '29', '59'],\n",
       " ['60', '29', '60', '29', '14'],\n",
       " ['60', '29', '14', '30', '14'],\n",
       " ['60', '29', '60', '29', '14'],\n",
       " ['60', '29', '60', '29', '14'],\n",
       " ['60', '29', '14', '6', '13'],\n",
       " ['60', '29', '60', '29', '14'],\n",
       " ['60', '29', '60', '29', '59'],\n",
       " ['60', '29', '59', '29', '59'],\n",
       " ['60', '29', '60', '29', '14'],\n",
       " ['61', '30', '62', '30', '62'],\n",
       " ['61', '30', '62', '30', '61'],\n",
       " ['61', '30', '14', '30', '62'],\n",
       " ['61', '30', '62', '30', '61'],\n",
       " ['61', '30', '62', '30', '14'],\n",
       " ['61', '30', '14', '29', '59'],\n",
       " ['61', '30', '62', '30', '62'],\n",
       " ['61', '30', '14', '29', '14'],\n",
       " ['61', '30', '62', '30', '62'],\n",
       " ['61', '30', '14', '30', '14'],\n",
       " ['62', '30', '61', '30', '14'],\n",
       " ['62', '30', '62', '30', '14'],\n",
       " ['62', '30', '14', '29', '14'],\n",
       " ['62', '30', '14', '29', '60'],\n",
       " ['62', '30', '61', '30', '62'],\n",
       " ['62', '30', '61', '30', '62'],\n",
       " ['62', '30', '61', '30', '61'],\n",
       " ['62', '30', '14', '29', '59'],\n",
       " ['62', '30', '14', '29', '14'],\n",
       " ['62', '30', '62', '30', '62']]"
      ]
     },
     "execution_count": 72,
     "metadata": {},
     "output_type": "execute_result"
    }
   ],
   "source": [
    "import random \n",
    "\n",
    "def get_random_walk(graph:nx.Graph, node:int, n_steps:int = 4):\n",
    "   \"\"\" Given a graph and a node, \n",
    "       return a random walk starting from the node \n",
    "   \"\"\"\n",
    "   local_path = [str(node),]\n",
    "   target_node = node\n",
    "   for _ in range(n_steps):\n",
    "      neighbors = list(nx.all_neighbors(graph, target_node))\n",
    "      target_node = random.choice(neighbors)\n",
    "      local_path.append(str(target_node))\n",
    "   return local_path\n",
    "\n",
    "walk_paths = []\n",
    "for node in G.nodes():\n",
    "   for _ in range(10):\n",
    "      walk_paths.append(get_random_walk(G, node))\n",
    "        \n",
    "walk_paths"
   ]
  },
  {
   "cell_type": "markdown",
   "metadata": {},
   "source": [
    "What these random walks provide us is a series of strings that act as a path from the start node — randomly walking from one node to the next down the list. \n",
    "\n",
    "Now let's repeat this process with a real sentence:"
   ]
  },
  {
   "cell_type": "code",
   "execution_count": 73,
   "metadata": {},
   "outputs": [
    {
     "name": "stdout",
     "output_type": "stream",
     "text": [
      "{'text': 'Life is a beautiful journey that is meant to be embraced to the fullest every day. However, that doesn’t mean you always wake up ready to seize the day, and sometimes need a reminder that life is a great gift.', 'ents': [{'start': 72, 'end': 81, 'label': 'DATE'}, {'start': 144, 'end': 151, 'label': 'DATE'}], 'sents': [{'start': 0, 'end': 82}, {'start': 83, 'end': 209}], 'tokens': [{'id': 0, 'start': 0, 'end': 4, 'pos': 'NOUN', 'tag': 'NN', 'dep': 'nsubj', 'head': 1}, {'id': 1, 'start': 5, 'end': 7, 'pos': 'AUX', 'tag': 'VBZ', 'dep': 'ROOT', 'head': 1}, {'id': 2, 'start': 8, 'end': 9, 'pos': 'DET', 'tag': 'DT', 'dep': 'det', 'head': 4}, {'id': 3, 'start': 10, 'end': 19, 'pos': 'ADJ', 'tag': 'JJ', 'dep': 'amod', 'head': 4}, {'id': 4, 'start': 20, 'end': 27, 'pos': 'NOUN', 'tag': 'NN', 'dep': 'attr', 'head': 1}, {'id': 5, 'start': 28, 'end': 32, 'pos': 'DET', 'tag': 'WDT', 'dep': 'nsubjpass', 'head': 7}, {'id': 6, 'start': 33, 'end': 35, 'pos': 'AUX', 'tag': 'VBZ', 'dep': 'auxpass', 'head': 7}, {'id': 7, 'start': 36, 'end': 41, 'pos': 'VERB', 'tag': 'VBN', 'dep': 'relcl', 'head': 4}, {'id': 8, 'start': 42, 'end': 44, 'pos': 'PART', 'tag': 'TO', 'dep': 'aux', 'head': 10}, {'id': 9, 'start': 45, 'end': 47, 'pos': 'AUX', 'tag': 'VB', 'dep': 'auxpass', 'head': 10}, {'id': 10, 'start': 48, 'end': 56, 'pos': 'VERB', 'tag': 'VBN', 'dep': 'xcomp', 'head': 7}, {'id': 11, 'start': 57, 'end': 59, 'pos': 'ADP', 'tag': 'IN', 'dep': 'prep', 'head': 10}, {'id': 12, 'start': 60, 'end': 63, 'pos': 'DET', 'tag': 'DT', 'dep': 'det', 'head': 13}, {'id': 13, 'start': 64, 'end': 71, 'pos': 'ADJ', 'tag': 'JJS', 'dep': 'pobj', 'head': 11}, {'id': 14, 'start': 72, 'end': 77, 'pos': 'DET', 'tag': 'DT', 'dep': 'det', 'head': 15}, {'id': 15, 'start': 78, 'end': 81, 'pos': 'NOUN', 'tag': 'NN', 'dep': 'npadvmod', 'head': 10}, {'id': 16, 'start': 81, 'end': 82, 'pos': 'PUNCT', 'tag': '.', 'dep': 'punct', 'head': 1}, {'id': 17, 'start': 83, 'end': 90, 'pos': 'ADV', 'tag': 'RB', 'dep': 'advmod', 'head': 22}, {'id': 18, 'start': 90, 'end': 91, 'pos': 'PUNCT', 'tag': ',', 'dep': 'punct', 'head': 22}, {'id': 19, 'start': 92, 'end': 96, 'pos': 'DET', 'tag': 'DT', 'dep': 'nsubj', 'head': 22}, {'id': 20, 'start': 97, 'end': 101, 'pos': 'AUX', 'tag': 'VBZ', 'dep': 'aux', 'head': 22}, {'id': 21, 'start': 101, 'end': 104, 'pos': 'PART', 'tag': 'RB', 'dep': 'neg', 'head': 22}, {'id': 22, 'start': 105, 'end': 109, 'pos': 'VERB', 'tag': 'VB', 'dep': 'ROOT', 'head': 22}, {'id': 23, 'start': 110, 'end': 113, 'pos': 'PRON', 'tag': 'PRP', 'dep': 'nsubj', 'head': 25}, {'id': 24, 'start': 114, 'end': 120, 'pos': 'ADV', 'tag': 'RB', 'dep': 'advmod', 'head': 25}, {'id': 25, 'start': 121, 'end': 125, 'pos': 'VERB', 'tag': 'VBP', 'dep': 'ccomp', 'head': 22}, {'id': 26, 'start': 126, 'end': 128, 'pos': 'ADP', 'tag': 'RP', 'dep': 'prt', 'head': 25}, {'id': 27, 'start': 129, 'end': 134, 'pos': 'ADJ', 'tag': 'JJ', 'dep': 'advcl', 'head': 25}, {'id': 28, 'start': 135, 'end': 137, 'pos': 'PART', 'tag': 'TO', 'dep': 'aux', 'head': 29}, {'id': 29, 'start': 138, 'end': 143, 'pos': 'VERB', 'tag': 'VB', 'dep': 'xcomp', 'head': 27}, {'id': 30, 'start': 144, 'end': 147, 'pos': 'DET', 'tag': 'DT', 'dep': 'det', 'head': 31}, {'id': 31, 'start': 148, 'end': 151, 'pos': 'NOUN', 'tag': 'NN', 'dep': 'dobj', 'head': 29}, {'id': 32, 'start': 151, 'end': 152, 'pos': 'PUNCT', 'tag': ',', 'dep': 'punct', 'head': 25}, {'id': 33, 'start': 153, 'end': 156, 'pos': 'CCONJ', 'tag': 'CC', 'dep': 'cc', 'head': 25}, {'id': 34, 'start': 157, 'end': 166, 'pos': 'ADV', 'tag': 'RB', 'dep': 'advmod', 'head': 35}, {'id': 35, 'start': 167, 'end': 171, 'pos': 'VERB', 'tag': 'VB', 'dep': 'conj', 'head': 25}, {'id': 36, 'start': 172, 'end': 173, 'pos': 'DET', 'tag': 'DT', 'dep': 'det', 'head': 37}, {'id': 37, 'start': 174, 'end': 182, 'pos': 'NOUN', 'tag': 'NN', 'dep': 'dobj', 'head': 35}, {'id': 38, 'start': 183, 'end': 187, 'pos': 'SCONJ', 'tag': 'IN', 'dep': 'mark', 'head': 40}, {'id': 39, 'start': 188, 'end': 192, 'pos': 'NOUN', 'tag': 'NN', 'dep': 'nsubj', 'head': 40}, {'id': 40, 'start': 193, 'end': 195, 'pos': 'AUX', 'tag': 'VBZ', 'dep': 'acl', 'head': 37}, {'id': 41, 'start': 196, 'end': 197, 'pos': 'DET', 'tag': 'DT', 'dep': 'det', 'head': 43}, {'id': 42, 'start': 198, 'end': 203, 'pos': 'ADJ', 'tag': 'JJ', 'dep': 'amod', 'head': 43}, {'id': 43, 'start': 204, 'end': 208, 'pos': 'NOUN', 'tag': 'NN', 'dep': 'attr', 'head': 40}, {'id': 44, 'start': 208, 'end': 209, 'pos': 'PUNCT', 'tag': '.', 'dep': 'punct', 'head': 22}]}\n"
     ]
    }
   ],
   "source": [
    "text = \"Life is a beautiful journey that is meant to be embraced to the fullest every day. However, that doesn’t mean you always wake up ready to seize the day, and sometimes need a reminder that life is a great gift.\"\n",
    "doc = nlp(text)\n",
    "print(doc.to_json())"
   ]
  },
  {
   "cell_type": "markdown",
   "metadata": {},
   "source": [
    "Let's Load spacy’s dependency tree into a networkx graph:\n",
    "```\n",
    "pip install networkx\n",
    "```\n",
    "\n",
    "Here are the graph's edges, what the backend team uses the `zss` library for:"
   ]
  },
  {
   "cell_type": "code",
   "execution_count": 74,
   "metadata": {},
   "outputs": [],
   "source": [
    "edges = []\n",
    "for token in doc:\n",
    "    for child in token.children:\n",
    "        edges.append(('{0}'.format(token.lower_),\n",
    "                      '{0}'.format(child.lower_)))"
   ]
  },
  {
   "cell_type": "code",
   "execution_count": 75,
   "metadata": {},
   "outputs": [
    {
     "data": {
      "text/plain": [
       "[('is', 'life'),\n",
       " ('is', 'journey'),\n",
       " ('is', '.'),\n",
       " ('journey', 'a'),\n",
       " ('journey', 'beautiful'),\n",
       " ('journey', 'meant'),\n",
       " ('meant', 'that'),\n",
       " ('meant', 'is'),\n",
       " ('meant', 'embraced'),\n",
       " ('embraced', 'to'),\n",
       " ('embraced', 'be'),\n",
       " ('embraced', 'to'),\n",
       " ('embraced', 'day'),\n",
       " ('to', 'fullest'),\n",
       " ('fullest', 'the'),\n",
       " ('day', 'every'),\n",
       " ('mean', 'however'),\n",
       " ('mean', ','),\n",
       " ('mean', 'that'),\n",
       " ('mean', 'does'),\n",
       " ('mean', 'n’t'),\n",
       " ('mean', 'wake'),\n",
       " ('mean', '.'),\n",
       " ('wake', 'you'),\n",
       " ('wake', 'always'),\n",
       " ('wake', 'up'),\n",
       " ('wake', 'ready'),\n",
       " ('wake', ','),\n",
       " ('wake', 'and'),\n",
       " ('wake', 'need'),\n",
       " ('ready', 'seize'),\n",
       " ('seize', 'to'),\n",
       " ('seize', 'day'),\n",
       " ('day', 'the'),\n",
       " ('need', 'sometimes'),\n",
       " ('need', 'reminder'),\n",
       " ('reminder', 'a'),\n",
       " ('reminder', 'is'),\n",
       " ('is', 'that'),\n",
       " ('is', 'life'),\n",
       " ('is', 'gift'),\n",
       " ('gift', 'a'),\n",
       " ('gift', 'great')]"
      ]
     },
     "execution_count": 75,
     "metadata": {},
     "output_type": "execute_result"
    }
   ],
   "source": [
    "edges"
   ]
  },
  {
   "cell_type": "code",
   "execution_count": 76,
   "metadata": {},
   "outputs": [],
   "source": [
    "Gdt = nx.Graph(edges)"
   ]
  },
  {
   "cell_type": "code",
   "execution_count": 77,
   "metadata": {},
   "outputs": [
    {
     "data": {
      "image/png": "[encoded data removed]",
      "text/plain": [
       "<Figure size 432x288 with 1 Axes>"
      ]
     },
     "metadata": {},
     "output_type": "display_data"
    }
   ],
   "source": [
    "nx.draw(Gdt)"
   ]
  },
  {
   "cell_type": "markdown",
   "metadata": {},
   "source": [
    "So our syntax dependency tree really looks like a balanced tree!\n",
    "\n",
    "By the way, [Deep Graph Library](https://www.dgl.ai/) (DGL) is a framework-neutral, easy-to-use, and scalable Python library used for implementing and training Graph Neural Networks (GNN). We should prototype with it one day!\n",
    "```\n",
    "g = dgl.DGLGraph()\n",
    "g.from_networkx(graph)\n",
    "```"
   ]
  },
  {
   "cell_type": "code",
   "execution_count": 37,
   "metadata": {},
   "outputs": [
    {
     "ename": "ImportError",
     "evalue": "('requires pygraphviz ', 'http://pygraphviz.github.io/')",
     "output_type": "error",
     "traceback": [
      "\u001b[1;31m---------------------------------------------------------------------------\u001b[0m",
      "\u001b[1;31mModuleNotFoundError\u001b[0m                       Traceback (most recent call last)",
      "\u001b[1;32md:\\Anaconda3.5.1\\lib\\site-packages\\networkx\\drawing\\nx_agraph.py\u001b[0m in \u001b[0;36mpygraphviz_layout\u001b[1;34m(G, prog, root, args)\u001b[0m\n\u001b[0;32m    282\u001b[0m     \u001b[1;32mtry\u001b[0m\u001b[1;33m:\u001b[0m\u001b[1;33m\u001b[0m\u001b[1;33m\u001b[0m\u001b[0m\n\u001b[1;32m--> 283\u001b[1;33m         \u001b[1;32mimport\u001b[0m \u001b[0mpygraphviz\u001b[0m\u001b[1;33m\u001b[0m\u001b[1;33m\u001b[0m\u001b[0m\n\u001b[0m\u001b[0;32m    284\u001b[0m     \u001b[1;32mexcept\u001b[0m \u001b[0mImportError\u001b[0m\u001b[1;33m:\u001b[0m\u001b[1;33m\u001b[0m\u001b[1;33m\u001b[0m\u001b[0m\n",
      "\u001b[1;31mModuleNotFoundError\u001b[0m: No module named 'pygraphviz'",
      "\nDuring handling of the above exception, another exception occurred:\n",
      "\u001b[1;31mImportError\u001b[0m                               Traceback (most recent call last)",
      "\u001b[1;32m<ipython-input-37-3b7d9115d607>\u001b[0m in \u001b[0;36m<module>\u001b[1;34m\u001b[0m\n\u001b[0;32m      5\u001b[0m     \u001b[0mplt\u001b[0m\u001b[1;33m.\u001b[0m\u001b[0mshow\u001b[0m\u001b[1;33m(\u001b[0m\u001b[1;33m)\u001b[0m\u001b[1;33m\u001b[0m\u001b[1;33m\u001b[0m\u001b[0m\n\u001b[0;32m      6\u001b[0m \u001b[1;33m\u001b[0m\u001b[0m\n\u001b[1;32m----> 7\u001b[1;33m \u001b[0mplot_tree\u001b[0m\u001b[1;33m(\u001b[0m\u001b[0mGdt\u001b[0m\u001b[1;33m)\u001b[0m\u001b[1;33m\u001b[0m\u001b[1;33m\u001b[0m\u001b[0m\n\u001b[0m",
      "\u001b[1;32m<ipython-input-37-3b7d9115d607>\u001b[0m in \u001b[0;36mplot_tree\u001b[1;34m(g)\u001b[0m\n\u001b[0;32m      1\u001b[0m \u001b[1;32mdef\u001b[0m \u001b[0mplot_tree\u001b[0m\u001b[1;33m(\u001b[0m\u001b[0mg\u001b[0m\u001b[1;33m)\u001b[0m\u001b[1;33m:\u001b[0m\u001b[1;33m\u001b[0m\u001b[1;33m\u001b[0m\u001b[0m\n\u001b[1;32m----> 2\u001b[1;33m     \u001b[0mpos\u001b[0m \u001b[1;33m=\u001b[0m \u001b[0mnx\u001b[0m\u001b[1;33m.\u001b[0m\u001b[0mnx_agraph\u001b[0m\u001b[1;33m.\u001b[0m\u001b[0mgraphviz_layout\u001b[0m\u001b[1;33m(\u001b[0m\u001b[0mg\u001b[0m\u001b[1;33m,\u001b[0m \u001b[0mprog\u001b[0m\u001b[1;33m=\u001b[0m\u001b[1;34m'dot'\u001b[0m\u001b[1;33m)\u001b[0m\u001b[1;33m\u001b[0m\u001b[1;33m\u001b[0m\u001b[0m\n\u001b[0m\u001b[0;32m      3\u001b[0m     nx.draw(g, pos, with_labels=False, node_size=10,\n\u001b[0;32m      4\u001b[0m             node_color=[[.5, .5, .5]], arrowsize=4)\n\u001b[0;32m      5\u001b[0m     \u001b[0mplt\u001b[0m\u001b[1;33m.\u001b[0m\u001b[0mshow\u001b[0m\u001b[1;33m(\u001b[0m\u001b[1;33m)\u001b[0m\u001b[1;33m\u001b[0m\u001b[1;33m\u001b[0m\u001b[0m\n",
      "\u001b[1;32md:\\Anaconda3.5.1\\lib\\site-packages\\networkx\\drawing\\nx_agraph.py\u001b[0m in \u001b[0;36mgraphviz_layout\u001b[1;34m(G, prog, root, args)\u001b[0m\n\u001b[0;32m    241\u001b[0m     \u001b[0mThis\u001b[0m \u001b[1;32mis\u001b[0m \u001b[0ma\u001b[0m \u001b[0mwrapper\u001b[0m \u001b[1;32mfor\u001b[0m \u001b[0mpygraphviz_layout\u001b[0m\u001b[1;33m.\u001b[0m\u001b[1;33m\u001b[0m\u001b[1;33m\u001b[0m\u001b[0m\n\u001b[0;32m    242\u001b[0m     \"\"\"\n\u001b[1;32m--> 243\u001b[1;33m     \u001b[1;32mreturn\u001b[0m \u001b[0mpygraphviz_layout\u001b[0m\u001b[1;33m(\u001b[0m\u001b[0mG\u001b[0m\u001b[1;33m,\u001b[0m \u001b[0mprog\u001b[0m\u001b[1;33m=\u001b[0m\u001b[0mprog\u001b[0m\u001b[1;33m,\u001b[0m \u001b[0mroot\u001b[0m\u001b[1;33m=\u001b[0m\u001b[0mroot\u001b[0m\u001b[1;33m,\u001b[0m \u001b[0margs\u001b[0m\u001b[1;33m=\u001b[0m\u001b[0margs\u001b[0m\u001b[1;33m)\u001b[0m\u001b[1;33m\u001b[0m\u001b[1;33m\u001b[0m\u001b[0m\n\u001b[0m\u001b[0;32m    244\u001b[0m \u001b[1;33m\u001b[0m\u001b[0m\n\u001b[0;32m    245\u001b[0m \u001b[1;33m\u001b[0m\u001b[0m\n",
      "\u001b[1;32md:\\Anaconda3.5.1\\lib\\site-packages\\networkx\\drawing\\nx_agraph.py\u001b[0m in \u001b[0;36mpygraphviz_layout\u001b[1;34m(G, prog, root, args)\u001b[0m\n\u001b[0;32m    284\u001b[0m     \u001b[1;32mexcept\u001b[0m \u001b[0mImportError\u001b[0m\u001b[1;33m:\u001b[0m\u001b[1;33m\u001b[0m\u001b[1;33m\u001b[0m\u001b[0m\n\u001b[0;32m    285\u001b[0m         raise ImportError('requires pygraphviz ',\n\u001b[1;32m--> 286\u001b[1;33m                           'http://pygraphviz.github.io/')\n\u001b[0m\u001b[0;32m    287\u001b[0m     \u001b[1;32mif\u001b[0m \u001b[0mroot\u001b[0m \u001b[1;32mis\u001b[0m \u001b[1;32mnot\u001b[0m \u001b[1;32mNone\u001b[0m\u001b[1;33m:\u001b[0m\u001b[1;33m\u001b[0m\u001b[1;33m\u001b[0m\u001b[0m\n\u001b[0;32m    288\u001b[0m         \u001b[0margs\u001b[0m \u001b[1;33m+=\u001b[0m \u001b[1;34m\"-Groot=%s\"\u001b[0m \u001b[1;33m%\u001b[0m \u001b[0mroot\u001b[0m\u001b[1;33m\u001b[0m\u001b[1;33m\u001b[0m\u001b[0m\n",
      "\u001b[1;31mImportError\u001b[0m: ('requires pygraphviz ', 'http://pygraphviz.github.io/')"
     ]
    }
   ],
   "source": [
    "def plot_tree(g):\n",
    "    pos = nx.nx_agraph.graphviz_layout(g, prog='dot')\n",
    "    nx.draw(g, pos, with_labels=False, node_size=10,\n",
    "            node_color=[[.5, .5, .5]], arrowsize=4)\n",
    "    plt.show()\n",
    "    \n",
    "plot_tree(Gdt)"
   ]
  },
  {
   "cell_type": "markdown",
   "metadata": {},
   "source": [
    "Now, let's walk our `Gdt` graph:"
   ]
  },
  {
   "cell_type": "code",
   "execution_count": 78,
   "metadata": {},
   "outputs": [
    {
     "data": {
      "text/plain": [
       "[['is', 'journey', 'beautiful', 'journey', 'beautiful'],\n",
       " ['is', 'gift', 'great', 'gift', 'is'],\n",
       " ['is', 'gift', 'great', 'gift', 'great'],\n",
       " ['is', 'life', 'is', 'journey', 'is'],\n",
       " ['is', 'gift', 'great', 'gift', 'great'],\n",
       " ['is', 'that', 'is', 'gift', 'a'],\n",
       " ['is', 'life', 'is', '.', 'is'],\n",
       " ['is', 'life', 'is', '.', 'mean'],\n",
       " ['is', 'gift', 'is', 'reminder', 'is'],\n",
       " ['is', 'journey', 'beautiful', 'journey', 'meant'],\n",
       " ['life', 'is', 'gift', 'great', 'gift'],\n",
       " ['life', 'is', 'gift', 'is', 'that'],\n",
       " ['life', 'is', 'journey', 'meant', 'that'],\n",
       " ['life', 'is', 'gift', 'great', 'gift'],\n",
       " ['life', 'is', 'life', 'is', 'journey'],\n",
       " ['life', 'is', 'reminder', 'need', 'wake'],\n",
       " ['life', 'is', 'meant', 'that', 'mean'],\n",
       " ['life', 'is', 'meant', 'journey', 'a'],\n",
       " ['life', 'is', 'life', 'is', 'that'],\n",
       " ['life', 'is', '.', 'is', 'life'],\n",
       " ['journey', 'is', 'that', 'is', 'meant'],\n",
       " ['journey', 'beautiful', 'journey', 'a', 'reminder'],\n",
       " ['journey', 'is', 'meant', 'that', 'meant'],\n",
       " ['journey', 'is', 'meant', 'is', 'journey'],\n",
       " ['journey', 'a', 'journey', 'meant', 'is'],\n",
       " ['journey', 'is', 'meant', 'journey', 'a'],\n",
       " ['journey', 'a', 'reminder', 'is', 'reminder'],\n",
       " ['journey', 'a', 'gift', 'is', 'journey'],\n",
       " ['journey', 'a', 'gift', 'great', 'gift'],\n",
       " ['journey', 'beautiful', 'journey', 'a', 'gift'],\n",
       " ['.', 'mean', 'n’t', 'mean', 'n’t'],\n",
       " ['.', 'is', 'gift', 'a', 'gift'],\n",
       " ['.', 'mean', 'n’t', 'mean', 'does'],\n",
       " ['.', 'is', '.', 'mean', 'wake'],\n",
       " ['.', 'is', 'life', 'is', 'that'],\n",
       " ['.', 'is', 'meant', 'journey', 'is'],\n",
       " ['.', 'is', '.', 'mean', ','],\n",
       " ['.', 'is', 'that', 'is', 'life'],\n",
       " ['.', 'is', 'gift', 'great', 'gift'],\n",
       " ['.', 'is', 'gift', 'is', 'life'],\n",
       " ['a', 'reminder', 'is', 'that', 'meant'],\n",
       " ['a', 'journey', 'is', 'journey', 'is'],\n",
       " ['a', 'gift', 'a', 'gift', 'is'],\n",
       " ['a', 'journey', 'meant', 'embraced', 'day'],\n",
       " ['a', 'reminder', 'is', 'life', 'is'],\n",
       " ['a', 'journey', 'a', 'gift', 'is'],\n",
       " ['a', 'gift', 'is', 'reminder', 'need'],\n",
       " ['a', 'reminder', 'need', 'reminder', 'a'],\n",
       " ['a', 'gift', 'is', '.', 'is'],\n",
       " ['a', 'gift', 'great', 'gift', 'is'],\n",
       " ['beautiful', 'journey', 'a', 'journey', 'beautiful'],\n",
       " ['beautiful', 'journey', 'a', 'journey', 'meant'],\n",
       " ['beautiful', 'journey', 'meant', 'is', 'meant'],\n",
       " ['beautiful', 'journey', 'meant', 'is', 'gift'],\n",
       " ['beautiful', 'journey', 'meant', 'embraced', 'day'],\n",
       " ['beautiful', 'journey', 'meant', 'journey', 'meant'],\n",
       " ['beautiful', 'journey', 'is', 'that', 'mean'],\n",
       " ['beautiful', 'journey', 'a', 'gift', 'a'],\n",
       " ['beautiful', 'journey', 'a', 'journey', 'beautiful'],\n",
       " ['beautiful', 'journey', 'meant', 'journey', 'a'],\n",
       " ['meant', 'is', 'journey', 'meant', 'is'],\n",
       " ['meant', 'that', 'meant', 'journey', 'meant'],\n",
       " ['meant', 'embraced', 'be', 'embraced', 'meant'],\n",
       " ['meant', 'journey', 'meant', 'journey', 'a'],\n",
       " ['meant', 'journey', 'is', 'journey', 'beautiful'],\n",
       " ['meant', 'is', 'reminder', 'is', 'that'],\n",
       " ['meant', 'journey', 'a', 'journey', 'a'],\n",
       " ['meant', 'is', 'reminder', 'a', 'reminder'],\n",
       " ['meant', 'embraced', 'to', 'seize', 'ready'],\n",
       " ['meant', 'is', 'reminder', 'need', 'sometimes'],\n",
       " ['that', 'meant', 'is', 'that', 'mean'],\n",
       " ['that', 'mean', 'does', 'mean', 'does'],\n",
       " ['that', 'is', 'gift', 'great', 'gift'],\n",
       " ['that', 'meant', 'embraced', 'to', 'embraced'],\n",
       " ['that', 'meant', 'embraced', 'day', 'embraced'],\n",
       " ['that', 'is', 'gift', 'great', 'gift'],\n",
       " ['that', 'is', 'meant', 'journey', 'is'],\n",
       " ['that', 'meant', 'journey', 'beautiful', 'journey'],\n",
       " ['that', 'is', 'that', 'is', 'life'],\n",
       " ['that', 'mean', 'however', 'mean', ','],\n",
       " ['embraced', 'day', 'the', 'fullest', 'to'],\n",
       " ['embraced', 'to', 'embraced', 'to', 'fullest'],\n",
       " ['embraced', 'to', 'embraced', 'meant', 'is'],\n",
       " ['embraced', 'day', 'the', 'day', 'embraced'],\n",
       " ['embraced', 'be', 'embraced', 'be', 'embraced'],\n",
       " ['embraced', 'to', 'fullest', 'the', 'fullest'],\n",
       " ['embraced', 'be', 'embraced', 'to', 'fullest'],\n",
       " ['embraced', 'meant', 'journey', 'is', 'journey'],\n",
       " ['embraced', 'day', 'seize', 'ready', 'seize'],\n",
       " ['embraced', 'to', 'fullest', 'to', 'fullest'],\n",
       " ['to', 'seize', 'ready', 'seize', 'day'],\n",
       " ['to', 'seize', 'day', 'the', 'day'],\n",
       " ['to', 'embraced', 'day', 'the', 'day'],\n",
       " ['to', 'fullest', 'the', 'fullest', 'the'],\n",
       " ['to', 'embraced', 'meant', 'that', 'mean'],\n",
       " ['to', 'embraced', 'meant', 'that', 'mean'],\n",
       " ['to', 'embraced', 'be', 'embraced', 'be'],\n",
       " ['to', 'fullest', 'the', 'fullest', 'to'],\n",
       " ['to', 'fullest', 'to', 'embraced', 'be'],\n",
       " ['to', 'embraced', 'to', 'seize', 'day'],\n",
       " ['be', 'embraced', 'be', 'embraced', 'to'],\n",
       " ['be', 'embraced', 'be', 'embraced', 'to'],\n",
       " ['be', 'embraced', 'be', 'embraced', 'day'],\n",
       " ['be', 'embraced', 'to', 'embraced', 'meant'],\n",
       " ['be', 'embraced', 'to', 'seize', 'to'],\n",
       " ['be', 'embraced', 'day', 'the', 'day'],\n",
       " ['be', 'embraced', 'to', 'fullest', 'the'],\n",
       " ['be', 'embraced', 'to', 'seize', 'ready'],\n",
       " ['be', 'embraced', 'meant', 'embraced', 'meant'],\n",
       " ['be', 'embraced', 'be', 'embraced', 'day'],\n",
       " ['day', 'seize', 'to', 'seize', 'to'],\n",
       " ['day', 'the', 'day', 'the', 'fullest'],\n",
       " ['day', 'seize', 'to', 'embraced', 'be'],\n",
       " ['day', 'seize', 'to', 'embraced', 'to'],\n",
       " ['day', 'the', 'day', 'seize', 'ready'],\n",
       " ['day', 'every', 'day', 'seize', 'ready'],\n",
       " ['day', 'the', 'day', 'embraced', 'meant'],\n",
       " ['day', 'embraced', 'to', 'seize', 'ready'],\n",
       " ['day', 'seize', 'day', 'embraced', 'be'],\n",
       " ['day', 'seize', 'day', 'every', 'day'],\n",
       " ['fullest', 'to', 'embraced', 'meant', 'embraced'],\n",
       " ['fullest', 'the', 'fullest', 'to', 'seize'],\n",
       " ['fullest', 'to', 'fullest', 'to', 'embraced'],\n",
       " ['fullest', 'the', 'day', 'seize', 'to'],\n",
       " ['fullest', 'the', 'day', 'seize', 'ready'],\n",
       " ['fullest', 'to', 'embraced', 'to', 'embraced'],\n",
       " ['fullest', 'to', 'seize', 'ready', 'seize'],\n",
       " ['fullest', 'to', 'fullest', 'to', 'fullest'],\n",
       " ['fullest', 'to', 'seize', 'day', 'embraced'],\n",
       " ['fullest', 'the', 'fullest', 'to', 'fullest'],\n",
       " ['the', 'day', 'embraced', 'to', 'seize'],\n",
       " ['the', 'day', 'seize', 'day', 'embraced'],\n",
       " ['the', 'day', 'every', 'day', 'every'],\n",
       " ['the', 'fullest', 'to', 'fullest', 'the'],\n",
       " ['the', 'fullest', 'to', 'embraced', 'to'],\n",
       " ['the', 'fullest', 'to', 'seize', 'day'],\n",
       " ['the', 'fullest', 'the', 'fullest', 'to'],\n",
       " ['the', 'day', 'embraced', 'be', 'embraced'],\n",
       " ['the', 'day', 'embraced', 'to', 'fullest'],\n",
       " ['the', 'day', 'seize', 'day', 'seize'],\n",
       " ['every', 'day', 'every', 'day', 'seize'],\n",
       " ['every', 'day', 'every', 'day', 'every'],\n",
       " ['every', 'day', 'every', 'day', 'every'],\n",
       " ['every', 'day', 'embraced', 'meant', 'embraced'],\n",
       " ['every', 'day', 'seize', 'ready', 'seize'],\n",
       " ['every', 'day', 'seize', 'ready', 'wake'],\n",
       " ['every', 'day', 'the', 'fullest', 'the'],\n",
       " ['every', 'day', 'embraced', 'meant', 'that'],\n",
       " ['every', 'day', 'the', 'fullest', 'to'],\n",
       " ['every', 'day', 'embraced', 'meant', 'embraced'],\n",
       " ['mean', 'does', 'mean', 'however', 'mean'],\n",
       " ['mean', ',', 'wake', ',', 'wake'],\n",
       " ['mean', 'however', 'mean', 'that', 'meant'],\n",
       " ['mean', 'however', 'mean', '.', 'is'],\n",
       " ['mean', 'wake', 'up', 'wake', 'and'],\n",
       " ['mean', 'however', 'mean', 'that', 'meant'],\n",
       " ['mean', 'does', 'mean', 'n’t', 'mean'],\n",
       " ['mean', 'that', 'is', 'gift', 'great'],\n",
       " ['mean', 'however', 'mean', ',', 'wake'],\n",
       " ['mean', 'wake', 'ready', 'seize', 'to'],\n",
       " ['however', 'mean', ',', 'wake', 'ready'],\n",
       " ['however', 'mean', 'does', 'mean', 'does'],\n",
       " ['however', 'mean', '.', 'is', '.'],\n",
       " ['however', 'mean', 'does', 'mean', '.'],\n",
       " ['however', 'mean', '.', 'mean', 'does'],\n",
       " ['however', 'mean', '.', 'is', '.'],\n",
       " ['however', 'mean', 'wake', 'up', 'wake'],\n",
       " ['however', 'mean', ',', 'mean', 'however'],\n",
       " ['however', 'mean', 'does', 'mean', 'n’t'],\n",
       " ['however', 'mean', 'does', 'mean', 'wake'],\n",
       " [',', 'wake', 'always', 'wake', 'you'],\n",
       " [',', 'mean', 'wake', 'you', 'wake'],\n",
       " [',', 'wake', 'ready', 'seize', 'ready'],\n",
       " [',', 'wake', 'need', 'reminder', 'a'],\n",
       " [',', 'wake', 'always', 'wake', 'ready'],\n",
       " [',', 'wake', ',', 'wake', ','],\n",
       " [',', 'wake', 'need', 'wake', ','],\n",
       " [',', 'wake', 'mean', 'does', 'mean'],\n",
       " [',', 'mean', 'however', 'mean', 'wake'],\n",
       " [',', 'mean', 'that', 'mean', 'n’t'],\n",
       " ['does', 'mean', 'does', 'mean', 'does'],\n",
       " ['does', 'mean', 'that', 'mean', 'that'],\n",
       " ['does', 'mean', 'n’t', 'mean', 'however'],\n",
       " ['does', 'mean', 'n’t', 'mean', 'that'],\n",
       " ['does', 'mean', 'however', 'mean', ','],\n",
       " ['does', 'mean', ',', 'wake', 'you'],\n",
       " ['does', 'mean', 'does', 'mean', 'does'],\n",
       " ['does', 'mean', ',', 'wake', 'always'],\n",
       " ['does', 'mean', 'however', 'mean', 'that'],\n",
       " ['does', 'mean', 'does', 'mean', 'however'],\n",
       " ['n’t', 'mean', 'that', 'mean', 'however'],\n",
       " ['n’t', 'mean', ',', 'mean', 'however'],\n",
       " ['n’t', 'mean', 'does', 'mean', 'that'],\n",
       " ['n’t', 'mean', 'that', 'mean', 'n’t'],\n",
       " ['n’t', 'mean', ',', 'mean', 'that'],\n",
       " ['n’t', 'mean', 'however', 'mean', 'wake'],\n",
       " ['n’t', 'mean', 'wake', 'and', 'wake'],\n",
       " ['n’t', 'mean', '.', 'is', 'gift'],\n",
       " ['n’t', 'mean', 'wake', 'mean', 'wake'],\n",
       " ['n’t', 'mean', 'however', 'mean', 'does'],\n",
       " ['wake', 'and', 'wake', 'need', 'reminder'],\n",
       " ['wake', 'mean', 'that', 'meant', 'is'],\n",
       " ['wake', 'always', 'wake', 'you', 'wake'],\n",
       " ['wake', 'mean', 'wake', 'you', 'wake'],\n",
       " ['wake', 'ready', 'seize', 'day', 'every'],\n",
       " ['wake', 'always', 'wake', 'and', 'wake'],\n",
       " ['wake', 'up', 'wake', ',', 'mean'],\n",
       " ['wake', 'and', 'wake', 'need', 'reminder'],\n",
       " ['wake', 'ready', 'seize', 'ready', 'wake'],\n",
       " ['wake', 'ready', 'seize', 'to', 'seize'],\n",
       " ['you', 'wake', ',', 'mean', 'n’t'],\n",
       " ['you', 'wake', 'up', 'wake', 'need'],\n",
       " ['you', 'wake', 'and', 'wake', ','],\n",
       " ['you', 'wake', 'you', 'wake', 'and'],\n",
       " ['you', 'wake', 'mean', 'does', 'mean'],\n",
       " ['you', 'wake', 'need', 'reminder', 'a'],\n",
       " ['you', 'wake', 'you', 'wake', 'and'],\n",
       " ['you', 'wake', 'ready', 'wake', 'and'],\n",
       " ['you', 'wake', 'ready', 'seize', 'to'],\n",
       " ['you', 'wake', 'ready', 'seize', 'to'],\n",
       " ['always', 'wake', 'always', 'wake', 'ready'],\n",
       " ['always', 'wake', ',', 'mean', '.'],\n",
       " ['always', 'wake', ',', 'mean', 'however'],\n",
       " ['always', 'wake', ',', 'wake', 'need'],\n",
       " ['always', 'wake', 'mean', ',', 'wake'],\n",
       " ['always', 'wake', 'need', 'sometimes', 'need'],\n",
       " ['always', 'wake', ',', 'wake', 'need'],\n",
       " ['always', 'wake', ',', 'mean', 'wake'],\n",
       " ['always', 'wake', 'and', 'wake', 'up'],\n",
       " ['always', 'wake', 'you', 'wake', ','],\n",
       " ['up', 'wake', 'up', 'wake', 'you'],\n",
       " ['up', 'wake', 'ready', 'wake', 'ready'],\n",
       " ['up', 'wake', 'up', 'wake', 'always'],\n",
       " ['up', 'wake', ',', 'mean', 'however'],\n",
       " ['up', 'wake', ',', 'mean', 'however'],\n",
       " ['up', 'wake', 'up', 'wake', 'mean'],\n",
       " ['up', 'wake', 'mean', ',', 'mean'],\n",
       " ['up', 'wake', 'ready', 'seize', 'ready'],\n",
       " ['up', 'wake', 'mean', 'does', 'mean'],\n",
       " ['up', 'wake', 'always', 'wake', 'you'],\n",
       " ['ready', 'wake', 'up', 'wake', 'up'],\n",
       " ['ready', 'wake', ',', 'wake', 'ready'],\n",
       " ['ready', 'wake', 'mean', 'however', 'mean'],\n",
       " ['ready', 'seize', 'to', 'seize', 'day'],\n",
       " ['ready', 'seize', 'day', 'the', 'day'],\n",
       " ['ready', 'seize', 'day', 'the', 'day'],\n",
       " ['ready', 'wake', 'and', 'wake', 'up'],\n",
       " ['ready', 'wake', 'always', 'wake', 'mean'],\n",
       " ['ready', 'seize', 'day', 'the', 'fullest'],\n",
       " ['ready', 'wake', 'always', 'wake', 'and'],\n",
       " ['and', 'wake', 'mean', 'however', 'mean'],\n",
       " ['and', 'wake', 'ready', 'seize', 'day'],\n",
       " ['and', 'wake', 'up', 'wake', 'you'],\n",
       " ['and', 'wake', 'and', 'wake', 'and'],\n",
       " ['and', 'wake', 'mean', 'however', 'mean'],\n",
       " ['and', 'wake', 'up', 'wake', 'need'],\n",
       " ['and', 'wake', 'you', 'wake', 'need'],\n",
       " ['and', 'wake', 'always', 'wake', 'mean'],\n",
       " ['and', 'wake', 'need', 'wake', 'always'],\n",
       " ['and', 'wake', ',', 'wake', 'mean'],\n",
       " ['need', 'wake', 'always', 'wake', 'and'],\n",
       " ['need', 'reminder', 'a', 'reminder', 'need'],\n",
       " ['need', 'reminder', 'is', 'reminder', 'need'],\n",
       " ['need', 'wake', ',', 'mean', 'that'],\n",
       " ['need', 'sometimes', 'need', 'reminder', 'a'],\n",
       " ['need', 'reminder', 'need', 'wake', 'and'],\n",
       " ['need', 'reminder', 'need', 'sometimes', 'need'],\n",
       " ['need', 'wake', 'ready', 'seize', 'to'],\n",
       " ['need', 'sometimes', 'need', 'wake', 'always'],\n",
       " ['need', 'sometimes', 'need', 'wake', 'always'],\n",
       " ['seize', 'day', 'embraced', 'be', 'embraced'],\n",
       " ['seize', 'day', 'seize', 'ready', 'wake'],\n",
       " ['seize', 'ready', 'wake', 'mean', 'n’t'],\n",
       " ['seize', 'to', 'fullest', 'the', 'fullest'],\n",
       " ['seize', 'day', 'the', 'day', 'the'],\n",
       " ['seize', 'to', 'embraced', 'meant', 'embraced'],\n",
       " ['seize', 'day', 'seize', 'to', 'embraced'],\n",
       " ['seize', 'ready', 'wake', 'up', 'wake'],\n",
       " ['seize', 'to', 'seize', 'day', 'seize'],\n",
       " ['seize', 'day', 'seize', 'ready', 'seize'],\n",
       " ['sometimes', 'need', 'wake', 'need', 'reminder'],\n",
       " ['sometimes', 'need', 'reminder', 'a', 'reminder'],\n",
       " ['sometimes', 'need', 'sometimes', 'need', 'wake'],\n",
       " ['sometimes', 'need', 'sometimes', 'need', 'reminder'],\n",
       " ['sometimes', 'need', 'sometimes', 'need', 'reminder'],\n",
       " ['sometimes', 'need', 'sometimes', 'need', 'reminder'],\n",
       " ['sometimes', 'need', 'sometimes', 'need', 'wake'],\n",
       " ['sometimes', 'need', 'reminder', 'need', 'reminder'],\n",
       " ['sometimes', 'need', 'sometimes', 'need', 'sometimes'],\n",
       " ['sometimes', 'need', 'sometimes', 'need', 'sometimes'],\n",
       " ['reminder', 'is', 'journey', 'meant', 'that'],\n",
       " ['reminder', 'a', 'journey', 'is', 'meant'],\n",
       " ['reminder', 'is', 'meant', 'is', 'life'],\n",
       " ['reminder', 'a', 'reminder', 'is', '.'],\n",
       " ['reminder', 'is', 'meant', 'journey', 'is'],\n",
       " ['reminder', 'need', 'sometimes', 'need', 'sometimes'],\n",
       " ['reminder', 'is', 'reminder', 'is', 'life'],\n",
       " ['reminder', 'a', 'gift', 'is', 'journey'],\n",
       " ['reminder', 'need', 'reminder', 'a', 'reminder'],\n",
       " ['reminder', 'need', 'reminder', 'is', 'gift'],\n",
       " ['gift', 'is', 'that', 'mean', 'however'],\n",
       " ['gift', 'a', 'journey', 'is', '.'],\n",
       " ['gift', 'is', 'journey', 'a', 'journey'],\n",
       " ['gift', 'is', 'meant', 'that', 'meant'],\n",
       " ['gift', 'a', 'reminder', 'is', '.'],\n",
       " ['gift', 'is', '.', 'is', 'meant'],\n",
       " ['gift', 'is', '.', 'is', '.'],\n",
       " ['gift', 'a', 'gift', 'is', 'journey'],\n",
       " ['gift', 'great', 'gift', 'a', 'journey'],\n",
       " ['gift', 'a', 'reminder', 'is', 'journey'],\n",
       " ['great', 'gift', 'great', 'gift', 'a'],\n",
       " ['great', 'gift', 'a', 'reminder', 'need'],\n",
       " ['great', 'gift', 'great', 'gift', 'a'],\n",
       " ['great', 'gift', 'great', 'gift', 'a'],\n",
       " ['great', 'gift', 'a', 'reminder', 'is'],\n",
       " ['great', 'gift', 'a', 'journey', 'meant'],\n",
       " ['great', 'gift', 'is', '.', 'mean'],\n",
       " ['great', 'gift', 'a', 'reminder', 'a'],\n",
       " ['great', 'gift', 'is', 'gift', 'a'],\n",
       " ['great', 'gift', 'a', 'journey', 'is']]"
      ]
     },
     "execution_count": 78,
     "metadata": {},
     "output_type": "execute_result"
    }
   ],
   "source": [
    "walk_paths = []\n",
    "for node in Gdt.nodes():\n",
    "   for _ in range(10):\n",
    "      walk_paths.append(get_random_walk(Gdt, node))\n",
    "        \n",
    "walk_paths"
   ]
  },
  {
   "cell_type": "markdown",
   "metadata": {},
   "source": [
    "What we do next is we treat these lists of strings as sentences, then utilize these series of strings to train a Word2Vec model:\n",
    "```\n",
    "pip install gensim\n",
    "```"
   ]
  },
  {
   "cell_type": "code",
   "execution_count": 79,
   "metadata": {},
   "outputs": [],
   "source": [
    "import gensim as gs\n",
    "\n",
    "#import gensim.models\n",
    "#sentences = MyCorpus()\n",
    "#model = gensim.models.Word2Vec(sentences=sentences)\n",
    "\n",
    "# Instantiate word2vec model\n",
    "embedder = gs.models.Word2Vec(\n",
    "   window=4, sg=1, hs=0, negative=10, alpha=0.03, min_alpha=0.0001,    \n",
    "   seed=42\n",
    ")"
   ]
  },
  {
   "cell_type": "code",
   "execution_count": 80,
   "metadata": {},
   "outputs": [],
   "source": [
    "# Build Vocabulary\n",
    "embedder.build_vocab(walk_paths, progress_per=2)"
   ]
  },
  {
   "cell_type": "code",
   "execution_count": 81,
   "metadata": {},
   "outputs": [
    {
     "name": "stderr",
     "output_type": "stream",
     "text": [
      "WARNING:gensim.models.base_any2vec:under 10 jobs per worker: consider setting a smaller `batch_words' for smoother alpha decay\n"
     ]
    },
    {
     "data": {
      "text/plain": [
       "(6654, 32000)"
      ]
     },
     "execution_count": 81,
     "metadata": {},
     "output_type": "execute_result"
    }
   ],
   "source": [
    "# Train\n",
    "embedder.train(\n",
    "   walk_paths, total_examples=embedder.corpus_count, epochs=20, \n",
    "   report_delay=1\n",
    ")"
   ]
  },
  {
   "cell_type": "markdown",
   "metadata": {},
   "source": [
    "The trained word vectors are stored in a KeyedVectors instance, as `model.wv`:"
   ]
  },
  {
   "cell_type": "code",
   "execution_count": 83,
   "metadata": {},
   "outputs": [
    {
     "data": {
      "text/plain": [
       "array([ 7.78488144e-02,  1.11302203e-02, -1.96144506e-01, -3.73516057e-04,\n",
       "       -1.43209293e-01,  1.75821438e-01, -1.00669153e-01,  2.99831837e-01,\n",
       "       -2.08503395e-01,  1.24599434e-01,  1.40366843e-02,  3.07773679e-01,\n",
       "        5.08663468e-02,  2.57226173e-03,  5.86614273e-02, -4.80998009e-02,\n",
       "       -2.02736139e-01, -1.91672161e-01,  1.99413911e-01,  9.48941056e-03,\n",
       "        1.96362138e-01,  1.46340579e-01,  3.03328067e-01,  2.95356121e-02,\n",
       "       -3.87209170e-02, -1.66106537e-01,  1.23073131e-01, -2.30956018e-01,\n",
       "        3.41198146e-01,  2.51559228e-01,  9.04020369e-02, -4.10179757e-02,\n",
       "        1.56106666e-01, -2.19163612e-01,  3.60981263e-02,  1.15907870e-01,\n",
       "        1.16590485e-01, -7.90010393e-02,  1.10613115e-01,  9.90859419e-02,\n",
       "       -9.49917361e-02,  2.61545908e-02, -1.18630223e-01,  4.77116853e-02,\n",
       "        2.40795538e-01, -1.70439422e-01, -1.59459144e-01, -5.37725613e-02,\n",
       "       -2.07737321e-03, -4.89889942e-02,  9.51398537e-02, -1.83836281e-01,\n",
       "       -5.25461733e-02,  2.23409757e-01,  7.83747658e-02, -1.89614043e-01,\n",
       "       -5.95223950e-03,  5.14299832e-02, -1.11576974e-01, -2.54060887e-02,\n",
       "       -9.80462655e-02, -3.19330961e-01,  2.06447333e-01, -2.40645826e-01,\n",
       "        8.04062113e-02,  4.07149792e-01, -3.85900098e-03, -1.32472232e-01,\n",
       "        1.77912459e-01,  1.80181727e-01, -7.58573040e-02,  1.14469573e-01,\n",
       "        1.38365582e-01, -4.04254198e-02, -3.24467301e-01, -3.75608057e-01,\n",
       "        6.63683116e-02, -2.27893852e-02, -9.40013751e-02,  3.18306163e-02,\n",
       "       -7.56037980e-02,  1.06563568e-01,  1.93613812e-01, -1.46979079e-01,\n",
       "        8.28371346e-02,  1.45164117e-01, -9.42434929e-03, -2.82628108e-02,\n",
       "       -2.49276198e-02,  1.99316815e-03,  3.54951061e-02,  1.40478373e-01,\n",
       "        1.12047553e-01, -1.63675891e-03, -1.31681770e-01,  7.64083415e-02,\n",
       "       -1.74670279e-01,  2.03672782e-01,  2.39052877e-01, -1.24824665e-01],\n",
       "      dtype=float32)"
      ]
     },
     "execution_count": 83,
     "metadata": {},
     "output_type": "execute_result"
    }
   ],
   "source": [
    "vector = embedder.wv['journey']  # get numpy vector of a word\n",
    "vector"
   ]
  },
  {
   "cell_type": "code",
   "execution_count": 45,
   "metadata": {},
   "outputs": [
    {
     "data": {
      "text/plain": [
       "(100,)"
      ]
     },
     "execution_count": 45,
     "metadata": {},
     "output_type": "execute_result"
    }
   ],
   "source": [
    "vector.shape"
   ]
  },
  {
   "cell_type": "code",
   "execution_count": 48,
   "metadata": {},
   "outputs": [
    {
     "data": {
      "text/plain": [
       "'Life is a beautiful journey that is meant to be embraced to the fullest every day. However, that doesn’t mean you always wake up ready to seize the day, and sometimes need a reminder that life is a great gift.'"
      ]
     },
     "execution_count": 48,
     "metadata": {},
     "output_type": "execute_result"
    }
   ],
   "source": [
    "text"
   ]
  },
  {
   "cell_type": "code",
   "execution_count": 47,
   "metadata": {},
   "outputs": [
    {
     "data": {
      "text/plain": [
       "[('is', 0.9996013641357422),\n",
       " ('gift', 0.9995642304420471),\n",
       " ('beautiful', 0.9995521306991577),\n",
       " ('that', 0.9995238780975342),\n",
       " ('meant', 0.9995033740997314),\n",
       " ('a', 0.9994637370109558),\n",
       " ('great', 0.9994596242904663),\n",
       " ('life', 0.999431312084198),\n",
       " ('.', 0.9994122385978699),\n",
       " ('reminder', 0.999411940574646)]"
      ]
     },
     "execution_count": 47,
     "metadata": {},
     "output_type": "execute_result"
    }
   ],
   "source": [
    "sims = embedder.wv.most_similar('journey', topn=10)  # get other similar words\n",
    "sims"
   ]
  },
  {
   "cell_type": "markdown",
   "metadata": {},
   "source": [
    "And indeed, `reminder` is meant as a replacement to `journey` in our corpus (and so is `gift`, `beautiful`, and `life`)!"
   ]
  },
  {
   "cell_type": "code",
   "execution_count": 84,
   "metadata": {},
   "outputs": [
    {
     "data": {
      "text/plain": [
       "array([ 0.08523814,  0.00669777, -0.18410069, -0.00792388, -0.13643168,\n",
       "        0.17911454, -0.0879211 ,  0.28519428, -0.20240425,  0.11717642,\n",
       "        0.0119487 ,  0.2894415 ,  0.05452685,  0.01145295,  0.05495064,\n",
       "       -0.03891929, -0.19635318, -0.1843441 ,  0.19806114,  0.01472252,\n",
       "        0.18362741,  0.14484538,  0.29661018,  0.03095117, -0.02710129,\n",
       "       -0.16846368,  0.11026654, -0.22503233,  0.33640537,  0.2470466 ,\n",
       "        0.08857347, -0.0434832 ,  0.14962181, -0.21155868,  0.03991435,\n",
       "        0.1149494 ,  0.12031633, -0.07444841,  0.10311568,  0.09540988,\n",
       "       -0.0936202 ,  0.02846018, -0.11522228,  0.04563295,  0.22689365,\n",
       "       -0.15605474, -0.14416029, -0.03491969, -0.0024987 , -0.03578737,\n",
       "        0.086165  , -0.18365744, -0.05577597,  0.21614344,  0.08342959,\n",
       "       -0.19508854, -0.00679338,  0.03610394, -0.09424504, -0.03400315,\n",
       "       -0.09214951, -0.30479646,  0.1930848 , -0.23050912,  0.07703371,\n",
       "        0.39708033, -0.00472079, -0.12747724,  0.18757108,  0.18176737,\n",
       "       -0.08116908,  0.11362585,  0.14400223, -0.036966  , -0.31885865,\n",
       "       -0.35829765,  0.06021918, -0.03251523, -0.09572343,  0.03921305,\n",
       "       -0.07192731,  0.09909479,  0.18333898, -0.15200521,  0.07770225,\n",
       "        0.14589866, -0.01046812, -0.03212594, -0.02852613,  0.01058561,\n",
       "        0.03851537,  0.12383161,  0.10610505, -0.00457624, -0.13382816,\n",
       "        0.07087722, -0.16495675,  0.20151421,  0.22280617, -0.10668697],\n",
       "      dtype=float32)"
      ]
     },
     "execution_count": 84,
     "metadata": {},
     "output_type": "execute_result"
    }
   ],
   "source": [
    "vector2 = embedder.wv['reminder'] \n",
    "vector2"
   ]
  },
  {
   "cell_type": "code",
   "execution_count": 85,
   "metadata": {},
   "outputs": [
    {
     "data": {
      "text/plain": [
       "0.9990574"
      ]
     },
     "execution_count": 85,
     "metadata": {},
     "output_type": "execute_result"
    }
   ],
   "source": [
    "import numpy as np\n",
    "from numpy import dot\n",
    "from numpy.linalg import norm\n",
    "\n",
    "#calculate Cosine Similarity python\n",
    "result = dot(vector, vector2)/(norm(vector)*norm(vector2))\n",
    "result"
   ]
  },
  {
   "cell_type": "markdown",
   "metadata": {},
   "source": [
    "If we translate a sentence into POS tags, then this might be a way to compare an incoming sentence's POS tags with those of reference sentences.\n",
    "\n",
    ">**Note**: But I'm not sure this kind of complexity may be needed, when we can use a simpler POS tag delta with the `zss` library..\n",
    "\n",
    "Parametrizable aspects of the model:\n",
    "- Number of random walks performed for the W2V training dat\n",
    "- Depth of each walk taken from the node\n",
    "\n",
    "The classification performance (in accuracy) of the classifier trained on the node vectors from our Word2Vec model using increasing numbers of random walks on the y-axis, and increasing random walk depth on the x-axis shows that accuracy increases as both parameters increase, but yields a diminishing rate of returns as they both increase upwards\n",
    "\n",
    "Back to our raw data, the below takes forever, had to interrupt even though `edgelist.edgelist` is a small file!"
   ]
  },
  {
   "cell_type": "code",
   "execution_count": null,
   "metadata": {
    "colab": {
     "base_uri": "https://localhost:8080/"
    },
    "executionInfo": {
     "elapsed": 1814,
     "status": "ok",
     "timestamp": 1651780500203,
     "user": {
      "displayName": "XinRu He",
      "userId": "07942384921814832921"
     },
     "user_tz": 240
    },
    "id": "iCDwVwRjyFzK",
    "outputId": "b3ace3dd-670f-4bdc-aaf1-93d018c60bfe"
   },
   "outputs": [],
   "source": [
    "!deepwalk --input edgelist.edgelist --output embeddings.embeddings"
   ]
  },
  {
   "cell_type": "code",
   "execution_count": null,
   "metadata": {
    "id": "3_E55AotyGlz"
   },
   "outputs": [],
   "source": [
    "# Read the embeddings\n",
    "embeddings = []\n",
    "with open(\"embeddings.embeddings\",'r') as f:\n",
    "   embeddings = f.readlines()\n",
    "\n",
    "# Remove first line\n",
    "embeddings = embeddings[1:]\n",
    "# Split strings into lists within a list \n",
    "embeddings = [embedding.split(' ')[1:] for embedding in embeddings] "
   ]
  },
  {
   "cell_type": "code",
   "execution_count": null,
   "metadata": {
    "colab": {
     "base_uri": "https://localhost:8080/"
    },
    "executionInfo": {
     "elapsed": 4,
     "status": "ok",
     "timestamp": 1651780502177,
     "user": {
      "displayName": "XinRu He",
      "userId": "07942384921814832921"
     },
     "user_tz": 240
    },
    "id": "8sMybTv1yHY-",
    "outputId": "5f15df13-771a-4276-e758-aa1db03cec64"
   },
   "outputs": [
    {
     "data": {
      "text/plain": [
       "0    -0.142274\n",
       "1     0.180646\n",
       "2    -0.079605\n",
       "3     0.185364\n",
       "4    -0.233515\n",
       "        ...   \n",
       "59   -0.020311\n",
       "60    0.379276\n",
       "61    0.302284\n",
       "62    0.295764\n",
       "63   -0.247467\n",
       "Length: 64, dtype: float64"
      ]
     },
     "execution_count": 15,
     "metadata": {},
     "output_type": "execute_result"
    }
   ],
   "source": [
    "# Convert into Pandas DataFrame\n",
    "embeddings_df = pd.DataFrame(embeddings).astype('float')\n",
    "# Average along the node axis\n",
    "avg_embeddings = embeddings_df.mean()\n",
    "avg_embeddings"
   ]
  },
  {
   "cell_type": "code",
   "execution_count": null,
   "metadata": {
    "id": "h86rNCHfyJM2"
   },
   "outputs": [],
   "source": [
    "def text_to_sentence_embedding(text):\n",
    "  edge_list = construct_edge_list(text_to_tree(text))\n",
    "\n",
    "  with open(\"edgelist.edgelist\",'w') as f:\n",
    "    f.write(edge_list)\n",
    "\n",
    "  !deepwalk --input edgelist.edgelist --output embeddings.embeddings --seed 19\n",
    "  \n",
    "  embeddings = []\n",
    "  with open(\"embeddings.embeddings\",'r') as f:\n",
    "    embeddings = f.readlines()\n",
    "\n",
    "  embeddings = embeddings[1:]\n",
    "  embeddings = [embedding.split(' ')[1:] for embedding in embeddings] \n",
    "\n",
    "  embeddings_df = pd.DataFrame(embeddings).astype('float')\n",
    "  avg_embeddings = embeddings_df.mean()\n",
    "  return avg_embeddings"
   ]
  },
  {
   "cell_type": "markdown",
   "metadata": {
    "id": "RFjeXsVdyli5"
   },
   "source": [
    "Calculate Cosine Similarity"
   ]
  },
  {
   "cell_type": "code",
   "execution_count": null,
   "metadata": {
    "id": "xd-_ai0wykvq"
   },
   "outputs": [],
   "source": [
    "from sklearn.metrics.pairwise import cosine_similarity\n",
    "\n",
    "def sent_to_cossim(sent1, sent2):\n",
    "  embed1 = text_to_sentence_embedding(sent1)\n",
    "  embed2 = text_to_sentence_embedding(sent2)\n",
    "\n",
    "  cossim = cosine_similarity(embed1.values.reshape(1, -1), \n",
    "                             embed2.values.reshape(1, -1))\n",
    "  \n",
    "  return cossim"
   ]
  },
  {
   "cell_type": "code",
   "execution_count": 29,
   "metadata": {
    "colab": {
     "base_uri": "https://localhost:8080/"
    },
    "executionInfo": {
     "elapsed": 3344,
     "status": "ok",
     "timestamp": 1651787224242,
     "user": {
      "displayName": "XinRu He",
      "userId": "07942384921814832921"
     },
     "user_tz": 240
    },
    "id": "vudx5stlyncx",
    "outputId": "a9b7f6c7-7599-4e42-9907-ee92d22ed6c5"
   },
   "outputs": [
    {
     "name": "stderr",
     "output_type": "stream",
     "text": [
      "/usr/local/lib/python3.7/dist-packages/torch/distributions/distribution.py:46: UserWarning: <class 'torch_struct.distributions.TreeCRF'> does not define `arg_constraints`. Please set `arg_constraints = {}` or initialize the distribution with `validate_args=False` to turn off validation.\n",
      "  'with `validate_args=False` to turn off validation.')\n"
     ]
    },
    {
     "name": "stdout",
     "output_type": "stream",
     "text": [
      "Number of nodes: 15\n",
      "Number of walks: 150\n",
      "Data size (walks*length): 6000\n",
      "Walking...\n",
      "Training...\n",
      "2022-05-05 21:47:02 WARNING base_any2vec.py: 1386 under 10 jobs per worker: consider setting a smaller `batch_words' for smoother alpha decay\n",
      "Number of nodes: 15\n",
      "Number of walks: 150\n",
      "Data size (walks*length): 6000\n",
      "Walking...\n",
      "Training...\n",
      "2022-05-05 21:47:03 WARNING base_any2vec.py: 1386 under 10 jobs per worker: consider setting a smaller `batch_words' for smoother alpha decay\n"
     ]
    },
    {
     "data": {
      "text/plain": [
       "array([[1.]])"
      ]
     },
     "execution_count": 29,
     "metadata": {},
     "output_type": "execute_result"
    }
   ],
   "source": [
    "sent1 = \"I would like a cup of tea\"\n",
    "sent2 = \"I would like a bottle of wine\"\n",
    "sent_to_cossim(sent1, sent2)"
   ]
  },
  {
   "cell_type": "code",
   "execution_count": 30,
   "metadata": {
    "colab": {
     "base_uri": "https://localhost:8080/"
    },
    "executionInfo": {
     "elapsed": 3190,
     "status": "ok",
     "timestamp": 1651787243044,
     "user": {
      "displayName": "XinRu He",
      "userId": "07942384921814832921"
     },
     "user_tz": 240
    },
    "id": "4R0Slat-yoZq",
    "outputId": "0161f809-616e-4a44-cb44-cce8d4163f62"
   },
   "outputs": [
    {
     "name": "stderr",
     "output_type": "stream",
     "text": [
      "/usr/local/lib/python3.7/dist-packages/torch/distributions/distribution.py:46: UserWarning: <class 'torch_struct.distributions.TreeCRF'> does not define `arg_constraints`. Please set `arg_constraints = {}` or initialize the distribution with `validate_args=False` to turn off validation.\n",
      "  'with `validate_args=False` to turn off validation.')\n"
     ]
    },
    {
     "name": "stdout",
     "output_type": "stream",
     "text": [
      "Number of nodes: 15\n",
      "Number of walks: 150\n",
      "Data size (walks*length): 6000\n",
      "Walking...\n",
      "Training...\n",
      "2022-05-05 21:47:21 WARNING base_any2vec.py: 1386 under 10 jobs per worker: consider setting a smaller `batch_words' for smoother alpha decay\n",
      "Number of nodes: 17\n",
      "Number of walks: 170\n",
      "Data size (walks*length): 6800\n",
      "Walking...\n",
      "Training...\n",
      "2022-05-05 21:47:22 WARNING base_any2vec.py: 1386 under 10 jobs per worker: consider setting a smaller `batch_words' for smoother alpha decay\n"
     ]
    },
    {
     "data": {
      "text/plain": [
       "array([[0.80612144]])"
      ]
     },
     "execution_count": 30,
     "metadata": {},
     "output_type": "execute_result"
    }
   ],
   "source": [
    "sent1 = \"I would like a cup of tea\"\n",
    "sent2 = \"I would also like a cup of tea\"\n",
    "sent_to_cossim(sent1, sent2)"
   ]
  },
  {
   "cell_type": "code",
   "execution_count": null,
   "metadata": {
    "colab": {
     "base_uri": "https://localhost:8080/"
    },
    "executionInfo": {
     "elapsed": 5050,
     "status": "ok",
     "timestamp": 1651780546734,
     "user": {
      "displayName": "XinRu He",
      "userId": "07942384921814832921"
     },
     "user_tz": 240
    },
    "id": "tlgJXzgXyrwC",
    "outputId": "72129ecf-bde9-47a5-9773-0a231ba3dde4"
   },
   "outputs": [
    {
     "name": "stderr",
     "output_type": "stream",
     "text": [
      "/usr/local/lib/python3.7/dist-packages/torch/distributions/distribution.py:46: UserWarning: <class 'torch_struct.distributions.TreeCRF'> does not define `arg_constraints`. Please set `arg_constraints = {}` or initialize the distribution with `validate_args=False` to turn off validation.\n",
      "  'with `validate_args=False` to turn off validation.')\n"
     ]
    },
    {
     "name": "stdout",
     "output_type": "stream",
     "text": [
      "Number of nodes: 15\n",
      "Number of walks: 150\n",
      "Data size (walks*length): 6000\n",
      "Walking...\n",
      "Training...\n",
      "2022-05-05 19:55:44 WARNING base_any2vec.py: 1386 under 10 jobs per worker: consider setting a smaller `batch_words' for smoother alpha decay\n",
      "Number of nodes: 19\n",
      "Number of walks: 190\n",
      "Data size (walks*length): 7600\n",
      "Walking...\n",
      "Training...\n",
      "2022-05-05 19:55:46 WARNING base_any2vec.py: 1386 under 10 jobs per worker: consider setting a smaller `batch_words' for smoother alpha decay\n"
     ]
    },
    {
     "data": {
      "text/plain": [
       "array([[0.78044231]])"
      ]
     },
     "execution_count": 20,
     "metadata": {},
     "output_type": "execute_result"
    }
   ],
   "source": [
    "sent1 = \"I would like a cup of tea\"\n",
    "sent2 = \"I would also like a cup of tea too\"\n",
    "sent_to_cossim(sent1, sent2)"
   ]
  },
  {
   "cell_type": "code",
   "execution_count": null,
   "metadata": {
    "colab": {
     "base_uri": "https://localhost:8080/"
    },
    "executionInfo": {
     "elapsed": 4822,
     "status": "ok",
     "timestamp": 1651780551707,
     "user": {
      "displayName": "XinRu He",
      "userId": "07942384921814832921"
     },
     "user_tz": 240
    },
    "id": "3Li2CDgAytu6",
    "outputId": "e8a5855e-738d-4446-f160-1d32c8751cf1"
   },
   "outputs": [
    {
     "name": "stderr",
     "output_type": "stream",
     "text": [
      "/usr/local/lib/python3.7/dist-packages/torch/distributions/distribution.py:46: UserWarning: <class 'torch_struct.distributions.TreeCRF'> does not define `arg_constraints`. Please set `arg_constraints = {}` or initialize the distribution with `validate_args=False` to turn off validation.\n",
      "  'with `validate_args=False` to turn off validation.')\n"
     ]
    },
    {
     "name": "stdout",
     "output_type": "stream",
     "text": [
      "Number of nodes: 15\n",
      "Number of walks: 150\n",
      "Data size (walks*length): 6000\n",
      "Walking...\n",
      "Training...\n",
      "2022-05-05 19:55:49 WARNING base_any2vec.py: 1386 under 10 jobs per worker: consider setting a smaller `batch_words' for smoother alpha decay\n",
      "Number of nodes: 19\n",
      "Number of walks: 190\n",
      "Data size (walks*length): 7600\n",
      "Walking...\n",
      "Training...\n",
      "2022-05-05 19:55:51 WARNING base_any2vec.py: 1386 under 10 jobs per worker: consider setting a smaller `batch_words' for smoother alpha decay\n"
     ]
    },
    {
     "data": {
      "text/plain": [
       "array([[0.69441488]])"
      ]
     },
     "execution_count": 21,
     "metadata": {},
     "output_type": "execute_result"
    }
   ],
   "source": [
    "sent1 = \"I would like a cup of tea\"\n",
    "sent2 = \"They all would very much like some blah blah blah ...\"\n",
    "sent_to_cossim(sent1, sent2)"
   ]
  },
  {
   "cell_type": "code",
   "execution_count": null,
   "metadata": {
    "colab": {
     "base_uri": "https://localhost:8080/"
    },
    "executionInfo": {
     "elapsed": 4909,
     "status": "ok",
     "timestamp": 1651780559293,
     "user": {
      "displayName": "XinRu He",
      "userId": "07942384921814832921"
     },
     "user_tz": 240
    },
    "id": "X3kRoLFnyu9y",
    "outputId": "47e09a76-1eb2-4a9a-ee10-c81ab37e7246"
   },
   "outputs": [
    {
     "name": "stderr",
     "output_type": "stream",
     "text": [
      "/usr/local/lib/python3.7/dist-packages/torch/distributions/distribution.py:46: UserWarning: <class 'torch_struct.distributions.TreeCRF'> does not define `arg_constraints`. Please set `arg_constraints = {}` or initialize the distribution with `validate_args=False` to turn off validation.\n",
      "  'with `validate_args=False` to turn off validation.')\n"
     ]
    },
    {
     "name": "stdout",
     "output_type": "stream",
     "text": [
      "Number of nodes: 15\n",
      "Number of walks: 150\n",
      "Data size (walks*length): 6000\n",
      "Walking...\n",
      "Training...\n",
      "2022-05-05 19:55:56 WARNING base_any2vec.py: 1386 under 10 jobs per worker: consider setting a smaller `batch_words' for smoother alpha decay\n",
      "Number of nodes: 30\n",
      "Number of walks: 300\n",
      "Data size (walks*length): 12000\n",
      "Walking...\n",
      "Training...\n"
     ]
    },
    {
     "data": {
      "text/plain": [
       "array([[0.56084036]])"
      ]
     },
     "execution_count": 22,
     "metadata": {},
     "output_type": "execute_result"
    }
   ],
   "source": [
    "sent1 = \"I would like a cup of tea\"\n",
    "sent2 = \"I, wanting to quench my thirst, would also like a cup of tea\"\n",
    "sent_to_cossim(sent1, sent2)"
   ]
  },
  {
   "cell_type": "code",
   "execution_count": null,
   "metadata": {
    "colab": {
     "base_uri": "https://localhost:8080/"
    },
    "executionInfo": {
     "elapsed": 4785,
     "status": "ok",
     "timestamp": 1651780564256,
     "user": {
      "displayName": "XinRu He",
      "userId": "07942384921814832921"
     },
     "user_tz": 240
    },
    "id": "OYQEZ7hYyw1C",
    "outputId": "8f4ddff7-5867-4740-b008-cc7b17d14bad"
   },
   "outputs": [
    {
     "name": "stderr",
     "output_type": "stream",
     "text": [
      "/usr/local/lib/python3.7/dist-packages/torch/distributions/distribution.py:46: UserWarning: <class 'torch_struct.distributions.TreeCRF'> does not define `arg_constraints`. Please set `arg_constraints = {}` or initialize the distribution with `validate_args=False` to turn off validation.\n",
      "  'with `validate_args=False` to turn off validation.')\n"
     ]
    },
    {
     "name": "stdout",
     "output_type": "stream",
     "text": [
      "Number of nodes: 46\n",
      "Number of walks: 460\n",
      "Data size (walks*length): 18400\n",
      "Walking...\n",
      "Training...\n",
      "Number of nodes: 7\n",
      "Number of walks: 70\n",
      "Data size (walks*length): 2800\n",
      "Walking...\n",
      "Training...\n",
      "2022-05-05 19:56:04 WARNING base_any2vec.py: 1386 under 10 jobs per worker: consider setting a smaller `batch_words' for smoother alpha decay\n"
     ]
    },
    {
     "data": {
      "text/plain": [
       "array([[0.19108724]])"
      ]
     },
     "execution_count": 23,
     "metadata": {},
     "output_type": "execute_result"
    }
   ],
   "source": [
    "sent1 = \"And since we've got no place to go, let it snow, let it snow, let it snow\"\n",
    "sent2 = \"Read my lips: No new taxes\"\n",
    "sent_to_cossim(sent1, sent2)"
   ]
  },
  {
   "cell_type": "code",
   "execution_count": null,
   "metadata": {
    "colab": {
     "base_uri": "https://localhost:8080/"
    },
    "executionInfo": {
     "elapsed": 4459,
     "status": "ok",
     "timestamp": 1651780568928,
     "user": {
      "displayName": "XinRu He",
      "userId": "07942384921814832921"
     },
     "user_tz": 240
    },
    "id": "0fkjifcGyyCq",
    "outputId": "51aed3d9-7f48-4a24-e0c4-2eefb778888d"
   },
   "outputs": [
    {
     "name": "stderr",
     "output_type": "stream",
     "text": [
      "/usr/local/lib/python3.7/dist-packages/torch/distributions/distribution.py:46: UserWarning: <class 'torch_struct.distributions.TreeCRF'> does not define `arg_constraints`. Please set `arg_constraints = {}` or initialize the distribution with `validate_args=False` to turn off validation.\n",
      "  'with `validate_args=False` to turn off validation.')\n"
     ]
    },
    {
     "name": "stdout",
     "output_type": "stream",
     "text": [
      "Number of nodes: 2\n",
      "Number of walks: 20\n",
      "Data size (walks*length): 800\n",
      "Walking...\n",
      "Training...\n",
      "2022-05-05 19:56:06 WARNING base_any2vec.py: 1386 under 10 jobs per worker: consider setting a smaller `batch_words' for smoother alpha decay\n",
      "Number of nodes: 14\n",
      "Number of walks: 140\n",
      "Data size (walks*length): 5600\n",
      "Walking...\n",
      "Training...\n",
      "2022-05-05 19:56:08 WARNING base_any2vec.py: 1386 under 10 jobs per worker: consider setting a smaller `batch_words' for smoother alpha decay\n"
     ]
    },
    {
     "data": {
      "text/plain": [
       "array([[0.35010212]])"
      ]
     },
     "execution_count": 24,
     "metadata": {},
     "output_type": "execute_result"
    }
   ],
   "source": [
    "sent1 = \".\"\n",
    "sent2 = \"This is 100% a real sentence ...\"\n",
    "sent_to_cossim(sent1, sent2)"
   ]
  },
  {
   "cell_type": "code",
   "execution_count": null,
   "metadata": {
    "colab": {
     "base_uri": "https://localhost:8080/"
    },
    "executionInfo": {
     "elapsed": 4825,
     "status": "ok",
     "timestamp": 1651780573751,
     "user": {
      "displayName": "XinRu He",
      "userId": "07942384921814832921"
     },
     "user_tz": 240
    },
    "id": "SFXyH8tEyzQa",
    "outputId": "9f3fd300-571e-413c-f7e4-e0225c7f4587"
   },
   "outputs": [
    {
     "name": "stderr",
     "output_type": "stream",
     "text": [
      "/usr/local/lib/python3.7/dist-packages/torch/distributions/distribution.py:46: UserWarning: <class 'torch_struct.distributions.TreeCRF'> does not define `arg_constraints`. Please set `arg_constraints = {}` or initialize the distribution with `validate_args=False` to turn off validation.\n",
      "  'with `validate_args=False` to turn off validation.')\n"
     ]
    },
    {
     "name": "stdout",
     "output_type": "stream",
     "text": [
      "Number of nodes: 2\n",
      "Number of walks: 20\n",
      "Data size (walks*length): 800\n",
      "Walking...\n",
      "Training...\n",
      "2022-05-05 19:56:10 WARNING base_any2vec.py: 1386 under 10 jobs per worker: consider setting a smaller `batch_words' for smoother alpha decay\n",
      "Number of nodes: 11\n",
      "Number of walks: 110\n",
      "Data size (walks*length): 4400\n",
      "Walking...\n",
      "Training...\n",
      "2022-05-05 19:56:13 WARNING base_any2vec.py: 1386 under 10 jobs per worker: consider setting a smaller `batch_words' for smoother alpha decay\n"
     ]
    },
    {
     "data": {
      "text/plain": [
       "array([[0.48226698]])"
      ]
     },
     "execution_count": 25,
     "metadata": {},
     "output_type": "execute_result"
    }
   ],
   "source": [
    "sent1 = \".\"\n",
    "sent2 = \", W(*#$&@#) :))))...¯\\_(ツ)_/¯ \"\n",
    "sent_to_cossim(sent1, sent2)"
   ]
  },
  {
   "cell_type": "code",
   "execution_count": null,
   "metadata": {
    "colab": {
     "base_uri": "https://localhost:8080/"
    },
    "executionInfo": {
     "elapsed": 244,
     "status": "ok",
     "timestamp": 1651785119855,
     "user": {
      "displayName": "XinRu He",
      "userId": "07942384921814832921"
     },
     "user_tz": 240
    },
    "id": "YuXMyYA9y0Xa",
    "outputId": "38fa0888-1e99-4804-d153-211f10224b81"
   },
   "outputs": [
    {
     "name": "stdout",
     "output_type": "stream",
     "text": [
      "[nltk_data] Downloading package punkt to /root/nltk_data...\n",
      "[nltk_data]   Package punkt is already up-to-date!\n",
      "[nltk_data] Downloading package averaged_perceptron_tagger to\n",
      "[nltk_data]     /root/nltk_data...\n",
      "[nltk_data]   Package averaged_perceptron_tagger is already up-to-\n",
      "[nltk_data]       date!\n",
      "{'CC': 1, 'CD': 0, 'DT': 0, 'EX': 0, 'FW': 0, 'IN': 1, 'JJ': 1, 'JJR': 0, 'JJS': 0, 'LS': 0, 'MD': 0, 'NN': 1, 'NNS': 0, 'NNP': 0, 'NNPS': 0, 'PDT': 0, 'POS': 0, 'PRP': 0, 'PRP$': 0, 'RB': 2, 'RBR': 0, 'RBS': 0, 'RP': 0, 'SYM': 0, 'TO': 0, 'UH': 0, 'VB': 0, 'VBD': 0, 'VBG': 0, 'VBN': 0, 'VBP': 0, 'VBZ': 0, 'WDT': 0, 'WP': 0, 'WP$': 0, 'WRB': 0}\n"
     ]
    }
   ],
   "source": [
    "import nltk\n",
    "from nltk import word_tokenize\n",
    "import numpy as np\n",
    "nltk.download('punkt')\n",
    "nltk.download('averaged_perceptron_tagger')\n",
    "\n",
    "pos_tag = {'CC': 0, 'CD': 0, 'DT': 0, 'EX': 0, 'FW': 0, 'IN': 0, 'JJ': 0, 'JJR': 0, 'JJS': 0, 'LS': 0, 'MD': 0,\n",
    "           'NN': 0,\n",
    "           'NNS': 0, 'NNP': 0, 'NNPS': 0, 'PDT': 0, 'POS': 0, 'PRP': 0, 'PRP$': 0, 'RB': 0, 'RBR': 0,\n",
    "           'RBS': 0, 'RP': 0,\n",
    "           'SYM': 0, 'TO': 0, 'UH': 0, 'VB': 0, 'VBD': 0, 'VBG': 0, 'VBN': 0, 'VBP': 0, 'VBZ': 0, 'WDT': 0,\n",
    "           'WP': 0, 'WP$': 0,\n",
    "           'WRB': 0}\n",
    "text = word_tokenize(\"And now for something completely different\")\n",
    "pos_tag_list = []\n",
    "for i in nltk.pos_tag(text):\n",
    "  pos_tag[i[1]] += 1\n",
    "print(pos_tag)"
   ]
  },
  {
   "cell_type": "markdown",
   "metadata": {
    "id": "Pxo5x6FBECzA"
   },
   "source": [
    "# Conclusion\n",
    "The backend team proposed an attractive solution for comparing the syntax of an incoming sentence with that of references sentences, by \n",
    "- converting words into tree-structured POS tags\n",
    "- walking the resutling graph into short walks\n",
    "- converting these walks into SkipGram-based embeddings\n",
    "- Using these embeddings to compute a cosine similarity metric\n",
    "\n",
    "I think it may be easier to use this strategy:\n",
    "- Find the closest BERT semantic embeddings\n",
    "- Then use POS tag edit distance to locate the best candidate"
   ]
  }
 ],
 "metadata": {
  "colab": {
   "authorship_tag": "ABX9TyM38dEPFnIGkdNuiBNHUB1l",
   "name": "syntax_tree_sim.ipynb",
   "provenance": []
  },
  "kernelspec": {
   "display_name": "Python 3",
   "language": "python",
   "name": "python3"
  },
  "language_info": {
   "codemirror_mode": {
    "name": "ipython",
    "version": 3
   },
   "file_extension": ".py",
   "mimetype": "text/x-python",
   "name": "python",
   "nbconvert_exporter": "python",
   "pygments_lexer": "ipython3",
   "version": "3.6.9"
  }
 },
 "nbformat": 4,
 "nbformat_minor": 1
}
